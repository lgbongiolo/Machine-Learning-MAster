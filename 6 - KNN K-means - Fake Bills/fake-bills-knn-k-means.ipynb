{
 "cells": [
  {
   "cell_type": "code",
   "execution_count": 54,
   "id": "b0fb9a71",
   "metadata": {
    "_cell_guid": "b1076dfc-b9ad-4769-8c92-a6c4dae69d19",
    "_uuid": "8f2839f25d086af736a60e9eeb907d3b93b6e0e5",
    "execution": {
     "iopub.execute_input": "2023-03-13T11:01:16.313429Z",
     "iopub.status.busy": "2023-03-13T11:01:16.312470Z",
     "iopub.status.idle": "2023-03-13T11:01:17.551117Z",
     "shell.execute_reply": "2023-03-13T11:01:17.549850Z"
    },
    "papermill": {
     "duration": 1.255558,
     "end_time": "2023-03-13T11:01:17.554272",
     "exception": false,
     "start_time": "2023-03-13T11:01:16.298714",
     "status": "completed"
    },
    "tags": []
   },
   "outputs": [],
   "source": [
    "import pandas as pd \n",
    "import numpy as np\n",
    "import matplotlib.pyplot as plt \n",
    "import seaborn as sns\n",
    "\n",
    "import sys\n",
    "if not sys.warnoptions:\n",
    "    import warnings\n",
    "    warnings.simplefilter(\"ignore\")"
   ]
  },
  {
   "cell_type": "code",
   "execution_count": 55,
   "id": "cd54ed50",
   "metadata": {
    "execution": {
     "iopub.execute_input": "2023-03-13T11:01:17.597429Z",
     "iopub.status.busy": "2023-03-13T11:01:17.597003Z",
     "iopub.status.idle": "2023-03-13T11:01:17.646472Z",
     "shell.execute_reply": "2023-03-13T11:01:17.645208Z"
    },
    "papermill": {
     "duration": 0.064518,
     "end_time": "2023-03-13T11:01:17.649559",
     "exception": false,
     "start_time": "2023-03-13T11:01:17.585041",
     "status": "completed"
    },
    "tags": []
   },
   "outputs": [
    {
     "data": {
      "text/html": [
       "<div>\n",
       "<style scoped>\n",
       "    .dataframe tbody tr th:only-of-type {\n",
       "        vertical-align: middle;\n",
       "    }\n",
       "\n",
       "    .dataframe tbody tr th {\n",
       "        vertical-align: top;\n",
       "    }\n",
       "\n",
       "    .dataframe thead th {\n",
       "        text-align: right;\n",
       "    }\n",
       "</style>\n",
       "<table border=\"1\" class=\"dataframe\">\n",
       "  <thead>\n",
       "    <tr style=\"text-align: right;\">\n",
       "      <th></th>\n",
       "      <th>is_genuine</th>\n",
       "      <th>diagonal</th>\n",
       "      <th>height_left</th>\n",
       "      <th>height_right</th>\n",
       "      <th>margin_low</th>\n",
       "      <th>margin_up</th>\n",
       "      <th>length</th>\n",
       "    </tr>\n",
       "  </thead>\n",
       "  <tbody>\n",
       "    <tr>\n",
       "      <th>0</th>\n",
       "      <td>True</td>\n",
       "      <td>171.81</td>\n",
       "      <td>104.86</td>\n",
       "      <td>104.95</td>\n",
       "      <td>4.52</td>\n",
       "      <td>2.89</td>\n",
       "      <td>112.83</td>\n",
       "    </tr>\n",
       "    <tr>\n",
       "      <th>1</th>\n",
       "      <td>True</td>\n",
       "      <td>171.46</td>\n",
       "      <td>103.36</td>\n",
       "      <td>103.66</td>\n",
       "      <td>3.77</td>\n",
       "      <td>2.99</td>\n",
       "      <td>113.09</td>\n",
       "    </tr>\n",
       "    <tr>\n",
       "      <th>2</th>\n",
       "      <td>True</td>\n",
       "      <td>172.69</td>\n",
       "      <td>104.48</td>\n",
       "      <td>103.50</td>\n",
       "      <td>4.40</td>\n",
       "      <td>2.94</td>\n",
       "      <td>113.16</td>\n",
       "    </tr>\n",
       "    <tr>\n",
       "      <th>3</th>\n",
       "      <td>True</td>\n",
       "      <td>171.36</td>\n",
       "      <td>103.91</td>\n",
       "      <td>103.94</td>\n",
       "      <td>3.62</td>\n",
       "      <td>3.01</td>\n",
       "      <td>113.51</td>\n",
       "    </tr>\n",
       "    <tr>\n",
       "      <th>4</th>\n",
       "      <td>True</td>\n",
       "      <td>171.73</td>\n",
       "      <td>104.28</td>\n",
       "      <td>103.46</td>\n",
       "      <td>4.04</td>\n",
       "      <td>3.48</td>\n",
       "      <td>112.54</td>\n",
       "    </tr>\n",
       "    <tr>\n",
       "      <th>...</th>\n",
       "      <td>...</td>\n",
       "      <td>...</td>\n",
       "      <td>...</td>\n",
       "      <td>...</td>\n",
       "      <td>...</td>\n",
       "      <td>...</td>\n",
       "      <td>...</td>\n",
       "    </tr>\n",
       "    <tr>\n",
       "      <th>1495</th>\n",
       "      <td>False</td>\n",
       "      <td>171.75</td>\n",
       "      <td>104.38</td>\n",
       "      <td>104.17</td>\n",
       "      <td>4.42</td>\n",
       "      <td>3.09</td>\n",
       "      <td>111.28</td>\n",
       "    </tr>\n",
       "    <tr>\n",
       "      <th>1496</th>\n",
       "      <td>False</td>\n",
       "      <td>172.19</td>\n",
       "      <td>104.63</td>\n",
       "      <td>104.44</td>\n",
       "      <td>5.27</td>\n",
       "      <td>3.37</td>\n",
       "      <td>110.97</td>\n",
       "    </tr>\n",
       "    <tr>\n",
       "      <th>1497</th>\n",
       "      <td>False</td>\n",
       "      <td>171.80</td>\n",
       "      <td>104.01</td>\n",
       "      <td>104.12</td>\n",
       "      <td>5.51</td>\n",
       "      <td>3.36</td>\n",
       "      <td>111.95</td>\n",
       "    </tr>\n",
       "    <tr>\n",
       "      <th>1498</th>\n",
       "      <td>False</td>\n",
       "      <td>172.06</td>\n",
       "      <td>104.28</td>\n",
       "      <td>104.06</td>\n",
       "      <td>5.17</td>\n",
       "      <td>3.46</td>\n",
       "      <td>112.25</td>\n",
       "    </tr>\n",
       "    <tr>\n",
       "      <th>1499</th>\n",
       "      <td>False</td>\n",
       "      <td>171.47</td>\n",
       "      <td>104.15</td>\n",
       "      <td>103.82</td>\n",
       "      <td>4.63</td>\n",
       "      <td>3.37</td>\n",
       "      <td>112.07</td>\n",
       "    </tr>\n",
       "  </tbody>\n",
       "</table>\n",
       "<p>1500 rows × 7 columns</p>\n",
       "</div>"
      ],
      "text/plain": [
       "      is_genuine  diagonal  height_left  height_right  margin_low  margin_up  \\\n",
       "0           True    171.81       104.86        104.95        4.52       2.89   \n",
       "1           True    171.46       103.36        103.66        3.77       2.99   \n",
       "2           True    172.69       104.48        103.50        4.40       2.94   \n",
       "3           True    171.36       103.91        103.94        3.62       3.01   \n",
       "4           True    171.73       104.28        103.46        4.04       3.48   \n",
       "...          ...       ...          ...           ...         ...        ...   \n",
       "1495       False    171.75       104.38        104.17        4.42       3.09   \n",
       "1496       False    172.19       104.63        104.44        5.27       3.37   \n",
       "1497       False    171.80       104.01        104.12        5.51       3.36   \n",
       "1498       False    172.06       104.28        104.06        5.17       3.46   \n",
       "1499       False    171.47       104.15        103.82        4.63       3.37   \n",
       "\n",
       "      length  \n",
       "0     112.83  \n",
       "1     113.09  \n",
       "2     113.16  \n",
       "3     113.51  \n",
       "4     112.54  \n",
       "...      ...  \n",
       "1495  111.28  \n",
       "1496  110.97  \n",
       "1497  111.95  \n",
       "1498  112.25  \n",
       "1499  112.07  \n",
       "\n",
       "[1500 rows x 7 columns]"
      ]
     },
     "execution_count": 55,
     "metadata": {},
     "output_type": "execute_result"
    }
   ],
   "source": [
    "\n",
    "\n",
    "df = pd.read_csv(\"fake_bills.csv\", sep=';')\n",
    "\n",
    "df"
   ]
  },
  {
   "cell_type": "code",
   "execution_count": 56,
   "id": "3e3595eb",
   "metadata": {
    "execution": {
     "iopub.execute_input": "2023-03-13T11:01:17.674725Z",
     "iopub.status.busy": "2023-03-13T11:01:17.674310Z",
     "iopub.status.idle": "2023-03-13T11:01:17.683804Z",
     "shell.execute_reply": "2023-03-13T11:01:17.682753Z"
    },
    "papermill": {
     "duration": 0.025584,
     "end_time": "2023-03-13T11:01:17.686045",
     "exception": false,
     "start_time": "2023-03-13T11:01:17.660461",
     "status": "completed"
    },
    "tags": []
   },
   "outputs": [
    {
     "data": {
      "text/plain": [
       "is_genuine         bool\n",
       "diagonal        float64\n",
       "height_left     float64\n",
       "height_right    float64\n",
       "margin_low      float64\n",
       "margin_up       float64\n",
       "length          float64\n",
       "dtype: object"
      ]
     },
     "execution_count": 56,
     "metadata": {},
     "output_type": "execute_result"
    }
   ],
   "source": [
    "#Check types \n",
    "\n",
    "df.dtypes"
   ]
  },
  {
   "cell_type": "code",
   "execution_count": 57,
   "id": "1b461853",
   "metadata": {
    "execution": {
     "iopub.execute_input": "2023-03-13T11:01:17.710609Z",
     "iopub.status.busy": "2023-03-13T11:01:17.709337Z",
     "iopub.status.idle": "2023-03-13T11:01:17.719754Z",
     "shell.execute_reply": "2023-03-13T11:01:17.718565Z"
    },
    "papermill": {
     "duration": 0.025268,
     "end_time": "2023-03-13T11:01:17.722114",
     "exception": false,
     "start_time": "2023-03-13T11:01:17.696846",
     "status": "completed"
    },
    "tags": []
   },
   "outputs": [
    {
     "data": {
      "text/plain": [
       "is_genuine       0\n",
       "diagonal         0\n",
       "height_left      0\n",
       "height_right     0\n",
       "margin_low      37\n",
       "margin_up        0\n",
       "length           0\n",
       "dtype: int64"
      ]
     },
     "execution_count": 57,
     "metadata": {},
     "output_type": "execute_result"
    }
   ],
   "source": [
    "#Check missing data\n",
    "\n",
    "df.isnull().sum()"
   ]
  },
  {
   "cell_type": "code",
   "execution_count": 58,
   "id": "7eaf2a59",
   "metadata": {
    "execution": {
     "iopub.execute_input": "2023-03-13T11:01:17.747614Z",
     "iopub.status.busy": "2023-03-13T11:01:17.746278Z",
     "iopub.status.idle": "2023-03-13T11:01:17.755350Z",
     "shell.execute_reply": "2023-03-13T11:01:17.754270Z"
    },
    "papermill": {
     "duration": 0.024768,
     "end_time": "2023-03-13T11:01:17.757866",
     "exception": false,
     "start_time": "2023-03-13T11:01:17.733098",
     "status": "completed"
    },
    "tags": []
   },
   "outputs": [],
   "source": [
    "#Fill missing data, I like to fill missing data with the mode as well, here we are filling with the mean\n",
    "\n",
    "df[\"margin_low\"] = df[\"margin_low\"].fillna(df.margin_low.mean())"
   ]
  },
  {
   "cell_type": "code",
   "execution_count": 59,
   "id": "a0d3ae82",
   "metadata": {
    "execution": {
     "iopub.execute_input": "2023-03-13T11:01:17.781617Z",
     "iopub.status.busy": "2023-03-13T11:01:17.781181Z",
     "iopub.status.idle": "2023-03-13T11:01:17.790614Z",
     "shell.execute_reply": "2023-03-13T11:01:17.789026Z"
    },
    "papermill": {
     "duration": 0.024532,
     "end_time": "2023-03-13T11:01:17.793355",
     "exception": false,
     "start_time": "2023-03-13T11:01:17.768823",
     "status": "completed"
    },
    "tags": []
   },
   "outputs": [
    {
     "data": {
      "text/plain": [
       "is_genuine      0\n",
       "diagonal        0\n",
       "height_left     0\n",
       "height_right    0\n",
       "margin_low      0\n",
       "margin_up       0\n",
       "length          0\n",
       "dtype: int64"
      ]
     },
     "execution_count": 59,
     "metadata": {},
     "output_type": "execute_result"
    }
   ],
   "source": [
    "#All good \n",
    "\n",
    "df.isnull().sum()"
   ]
  },
  {
   "cell_type": "code",
   "execution_count": 60,
   "id": "d96b1c88",
   "metadata": {
    "execution": {
     "iopub.execute_input": "2023-03-13T11:01:17.817751Z",
     "iopub.status.busy": "2023-03-13T11:01:17.817307Z",
     "iopub.status.idle": "2023-03-13T11:01:17.844718Z",
     "shell.execute_reply": "2023-03-13T11:01:17.843459Z"
    },
    "papermill": {
     "duration": 0.042593,
     "end_time": "2023-03-13T11:01:17.847226",
     "exception": false,
     "start_time": "2023-03-13T11:01:17.804633",
     "status": "completed"
    },
    "tags": []
   },
   "outputs": [
    {
     "data": {
      "text/html": [
       "<div>\n",
       "<style scoped>\n",
       "    .dataframe tbody tr th:only-of-type {\n",
       "        vertical-align: middle;\n",
       "    }\n",
       "\n",
       "    .dataframe tbody tr th {\n",
       "        vertical-align: top;\n",
       "    }\n",
       "\n",
       "    .dataframe thead th {\n",
       "        text-align: right;\n",
       "    }\n",
       "</style>\n",
       "<table border=\"1\" class=\"dataframe\">\n",
       "  <thead>\n",
       "    <tr style=\"text-align: right;\">\n",
       "      <th></th>\n",
       "      <th>is_genuine</th>\n",
       "      <th>diagonal</th>\n",
       "      <th>height_left</th>\n",
       "      <th>height_right</th>\n",
       "      <th>margin_low</th>\n",
       "      <th>margin_up</th>\n",
       "      <th>length</th>\n",
       "    </tr>\n",
       "  </thead>\n",
       "  <tbody>\n",
       "    <tr>\n",
       "      <th>0</th>\n",
       "      <td>1</td>\n",
       "      <td>171.81</td>\n",
       "      <td>104.86</td>\n",
       "      <td>104.95</td>\n",
       "      <td>4.52</td>\n",
       "      <td>2.89</td>\n",
       "      <td>112.83</td>\n",
       "    </tr>\n",
       "    <tr>\n",
       "      <th>1</th>\n",
       "      <td>1</td>\n",
       "      <td>171.46</td>\n",
       "      <td>103.36</td>\n",
       "      <td>103.66</td>\n",
       "      <td>3.77</td>\n",
       "      <td>2.99</td>\n",
       "      <td>113.09</td>\n",
       "    </tr>\n",
       "    <tr>\n",
       "      <th>2</th>\n",
       "      <td>1</td>\n",
       "      <td>172.69</td>\n",
       "      <td>104.48</td>\n",
       "      <td>103.50</td>\n",
       "      <td>4.40</td>\n",
       "      <td>2.94</td>\n",
       "      <td>113.16</td>\n",
       "    </tr>\n",
       "    <tr>\n",
       "      <th>3</th>\n",
       "      <td>1</td>\n",
       "      <td>171.36</td>\n",
       "      <td>103.91</td>\n",
       "      <td>103.94</td>\n",
       "      <td>3.62</td>\n",
       "      <td>3.01</td>\n",
       "      <td>113.51</td>\n",
       "    </tr>\n",
       "    <tr>\n",
       "      <th>4</th>\n",
       "      <td>1</td>\n",
       "      <td>171.73</td>\n",
       "      <td>104.28</td>\n",
       "      <td>103.46</td>\n",
       "      <td>4.04</td>\n",
       "      <td>3.48</td>\n",
       "      <td>112.54</td>\n",
       "    </tr>\n",
       "    <tr>\n",
       "      <th>...</th>\n",
       "      <td>...</td>\n",
       "      <td>...</td>\n",
       "      <td>...</td>\n",
       "      <td>...</td>\n",
       "      <td>...</td>\n",
       "      <td>...</td>\n",
       "      <td>...</td>\n",
       "    </tr>\n",
       "    <tr>\n",
       "      <th>1495</th>\n",
       "      <td>0</td>\n",
       "      <td>171.75</td>\n",
       "      <td>104.38</td>\n",
       "      <td>104.17</td>\n",
       "      <td>4.42</td>\n",
       "      <td>3.09</td>\n",
       "      <td>111.28</td>\n",
       "    </tr>\n",
       "    <tr>\n",
       "      <th>1496</th>\n",
       "      <td>0</td>\n",
       "      <td>172.19</td>\n",
       "      <td>104.63</td>\n",
       "      <td>104.44</td>\n",
       "      <td>5.27</td>\n",
       "      <td>3.37</td>\n",
       "      <td>110.97</td>\n",
       "    </tr>\n",
       "    <tr>\n",
       "      <th>1497</th>\n",
       "      <td>0</td>\n",
       "      <td>171.80</td>\n",
       "      <td>104.01</td>\n",
       "      <td>104.12</td>\n",
       "      <td>5.51</td>\n",
       "      <td>3.36</td>\n",
       "      <td>111.95</td>\n",
       "    </tr>\n",
       "    <tr>\n",
       "      <th>1498</th>\n",
       "      <td>0</td>\n",
       "      <td>172.06</td>\n",
       "      <td>104.28</td>\n",
       "      <td>104.06</td>\n",
       "      <td>5.17</td>\n",
       "      <td>3.46</td>\n",
       "      <td>112.25</td>\n",
       "    </tr>\n",
       "    <tr>\n",
       "      <th>1499</th>\n",
       "      <td>0</td>\n",
       "      <td>171.47</td>\n",
       "      <td>104.15</td>\n",
       "      <td>103.82</td>\n",
       "      <td>4.63</td>\n",
       "      <td>3.37</td>\n",
       "      <td>112.07</td>\n",
       "    </tr>\n",
       "  </tbody>\n",
       "</table>\n",
       "<p>1500 rows × 7 columns</p>\n",
       "</div>"
      ],
      "text/plain": [
       "      is_genuine  diagonal  height_left  height_right  margin_low  margin_up  \\\n",
       "0              1    171.81       104.86        104.95        4.52       2.89   \n",
       "1              1    171.46       103.36        103.66        3.77       2.99   \n",
       "2              1    172.69       104.48        103.50        4.40       2.94   \n",
       "3              1    171.36       103.91        103.94        3.62       3.01   \n",
       "4              1    171.73       104.28        103.46        4.04       3.48   \n",
       "...          ...       ...          ...           ...         ...        ...   \n",
       "1495           0    171.75       104.38        104.17        4.42       3.09   \n",
       "1496           0    172.19       104.63        104.44        5.27       3.37   \n",
       "1497           0    171.80       104.01        104.12        5.51       3.36   \n",
       "1498           0    172.06       104.28        104.06        5.17       3.46   \n",
       "1499           0    171.47       104.15        103.82        4.63       3.37   \n",
       "\n",
       "      length  \n",
       "0     112.83  \n",
       "1     113.09  \n",
       "2     113.16  \n",
       "3     113.51  \n",
       "4     112.54  \n",
       "...      ...  \n",
       "1495  111.28  \n",
       "1496  110.97  \n",
       "1497  111.95  \n",
       "1498  112.25  \n",
       "1499  112.07  \n",
       "\n",
       "[1500 rows x 7 columns]"
      ]
     },
     "execution_count": 60,
     "metadata": {},
     "output_type": "execute_result"
    }
   ],
   "source": [
    "#Converting bool type to numerical \n",
    "\n",
    "df[\"is_genuine\"] = df[\"is_genuine\"].astype('category').cat.codes\n",
    "\n",
    "df\n"
   ]
  },
  {
   "attachments": {},
   "cell_type": "markdown",
   "id": "1290d81a",
   "metadata": {
    "papermill": {
     "duration": 0.010901,
     "end_time": "2023-03-13T11:01:17.869428",
     "exception": false,
     "start_time": "2023-03-13T11:01:17.858527",
     "status": "completed"
    },
    "tags": []
   },
   "source": [
    "1 = Genuine \n",
    "\n",
    "0 = False"
   ]
  },
  {
   "cell_type": "code",
   "execution_count": 61,
   "id": "97d873d1",
   "metadata": {
    "execution": {
     "iopub.execute_input": "2023-03-13T11:01:17.893845Z",
     "iopub.status.busy": "2023-03-13T11:01:17.893038Z",
     "iopub.status.idle": "2023-03-13T11:01:17.903301Z",
     "shell.execute_reply": "2023-03-13T11:01:17.902018Z"
    },
    "papermill": {
     "duration": 0.025944,
     "end_time": "2023-03-13T11:01:17.906528",
     "exception": false,
     "start_time": "2023-03-13T11:01:17.880584",
     "status": "completed"
    },
    "tags": []
   },
   "outputs": [
    {
     "name": "stdout",
     "output_type": "stream",
     "text": [
      "1    66.67\n",
      "0    33.33\n",
      "Name: is_genuine, dtype: float64\n"
     ]
    }
   ],
   "source": [
    "#Checking the balance between Genuine and False in the dataset\n",
    "\n",
    "print(round(df[\"is_genuine\"].value_counts()/len(df)*100, 2))"
   ]
  },
  {
   "cell_type": "code",
   "execution_count": 62,
   "id": "90aee44c",
   "metadata": {
    "execution": {
     "iopub.execute_input": "2023-03-13T11:01:17.932735Z",
     "iopub.status.busy": "2023-03-13T11:01:17.932294Z",
     "iopub.status.idle": "2023-03-13T11:01:17.940353Z",
     "shell.execute_reply": "2023-03-13T11:01:17.938992Z"
    },
    "papermill": {
     "duration": 0.023217,
     "end_time": "2023-03-13T11:01:17.942672",
     "exception": false,
     "start_time": "2023-03-13T11:01:17.919455",
     "status": "completed"
    },
    "tags": []
   },
   "outputs": [
    {
     "data": {
      "text/plain": [
       "Index(['is_genuine', 'diagonal', 'height_left', 'height_right', 'margin_low',\n",
       "       'margin_up', 'length'],\n",
       "      dtype='object')"
      ]
     },
     "execution_count": 62,
     "metadata": {},
     "output_type": "execute_result"
    }
   ],
   "source": [
    "df.columns"
   ]
  },
  {
   "cell_type": "code",
   "execution_count": 63,
   "id": "1e49c9a7",
   "metadata": {
    "execution": {
     "iopub.execute_input": "2023-03-13T11:01:17.967500Z",
     "iopub.status.busy": "2023-03-13T11:01:17.967092Z",
     "iopub.status.idle": "2023-03-13T11:01:17.989595Z",
     "shell.execute_reply": "2023-03-13T11:01:17.988243Z"
    },
    "papermill": {
     "duration": 0.037652,
     "end_time": "2023-03-13T11:01:17.991882",
     "exception": false,
     "start_time": "2023-03-13T11:01:17.954230",
     "status": "completed"
    },
    "tags": []
   },
   "outputs": [
    {
     "data": {
      "text/html": [
       "<div>\n",
       "<style scoped>\n",
       "    .dataframe tbody tr th:only-of-type {\n",
       "        vertical-align: middle;\n",
       "    }\n",
       "\n",
       "    .dataframe tbody tr th {\n",
       "        vertical-align: top;\n",
       "    }\n",
       "\n",
       "    .dataframe thead th {\n",
       "        text-align: right;\n",
       "    }\n",
       "</style>\n",
       "<table border=\"1\" class=\"dataframe\">\n",
       "  <thead>\n",
       "    <tr style=\"text-align: right;\">\n",
       "      <th></th>\n",
       "      <th>diagonal</th>\n",
       "      <th>height_left</th>\n",
       "      <th>height_right</th>\n",
       "      <th>margin_low</th>\n",
       "      <th>margin_up</th>\n",
       "      <th>length</th>\n",
       "      <th>target</th>\n",
       "    </tr>\n",
       "  </thead>\n",
       "  <tbody>\n",
       "    <tr>\n",
       "      <th>0</th>\n",
       "      <td>171.81</td>\n",
       "      <td>104.86</td>\n",
       "      <td>104.95</td>\n",
       "      <td>4.52</td>\n",
       "      <td>2.89</td>\n",
       "      <td>112.83</td>\n",
       "      <td>1</td>\n",
       "    </tr>\n",
       "    <tr>\n",
       "      <th>1</th>\n",
       "      <td>171.46</td>\n",
       "      <td>103.36</td>\n",
       "      <td>103.66</td>\n",
       "      <td>3.77</td>\n",
       "      <td>2.99</td>\n",
       "      <td>113.09</td>\n",
       "      <td>1</td>\n",
       "    </tr>\n",
       "    <tr>\n",
       "      <th>2</th>\n",
       "      <td>172.69</td>\n",
       "      <td>104.48</td>\n",
       "      <td>103.50</td>\n",
       "      <td>4.40</td>\n",
       "      <td>2.94</td>\n",
       "      <td>113.16</td>\n",
       "      <td>1</td>\n",
       "    </tr>\n",
       "    <tr>\n",
       "      <th>3</th>\n",
       "      <td>171.36</td>\n",
       "      <td>103.91</td>\n",
       "      <td>103.94</td>\n",
       "      <td>3.62</td>\n",
       "      <td>3.01</td>\n",
       "      <td>113.51</td>\n",
       "      <td>1</td>\n",
       "    </tr>\n",
       "    <tr>\n",
       "      <th>4</th>\n",
       "      <td>171.73</td>\n",
       "      <td>104.28</td>\n",
       "      <td>103.46</td>\n",
       "      <td>4.04</td>\n",
       "      <td>3.48</td>\n",
       "      <td>112.54</td>\n",
       "      <td>1</td>\n",
       "    </tr>\n",
       "    <tr>\n",
       "      <th>...</th>\n",
       "      <td>...</td>\n",
       "      <td>...</td>\n",
       "      <td>...</td>\n",
       "      <td>...</td>\n",
       "      <td>...</td>\n",
       "      <td>...</td>\n",
       "      <td>...</td>\n",
       "    </tr>\n",
       "    <tr>\n",
       "      <th>1495</th>\n",
       "      <td>171.75</td>\n",
       "      <td>104.38</td>\n",
       "      <td>104.17</td>\n",
       "      <td>4.42</td>\n",
       "      <td>3.09</td>\n",
       "      <td>111.28</td>\n",
       "      <td>0</td>\n",
       "    </tr>\n",
       "    <tr>\n",
       "      <th>1496</th>\n",
       "      <td>172.19</td>\n",
       "      <td>104.63</td>\n",
       "      <td>104.44</td>\n",
       "      <td>5.27</td>\n",
       "      <td>3.37</td>\n",
       "      <td>110.97</td>\n",
       "      <td>0</td>\n",
       "    </tr>\n",
       "    <tr>\n",
       "      <th>1497</th>\n",
       "      <td>171.80</td>\n",
       "      <td>104.01</td>\n",
       "      <td>104.12</td>\n",
       "      <td>5.51</td>\n",
       "      <td>3.36</td>\n",
       "      <td>111.95</td>\n",
       "      <td>0</td>\n",
       "    </tr>\n",
       "    <tr>\n",
       "      <th>1498</th>\n",
       "      <td>172.06</td>\n",
       "      <td>104.28</td>\n",
       "      <td>104.06</td>\n",
       "      <td>5.17</td>\n",
       "      <td>3.46</td>\n",
       "      <td>112.25</td>\n",
       "      <td>0</td>\n",
       "    </tr>\n",
       "    <tr>\n",
       "      <th>1499</th>\n",
       "      <td>171.47</td>\n",
       "      <td>104.15</td>\n",
       "      <td>103.82</td>\n",
       "      <td>4.63</td>\n",
       "      <td>3.37</td>\n",
       "      <td>112.07</td>\n",
       "      <td>0</td>\n",
       "    </tr>\n",
       "  </tbody>\n",
       "</table>\n",
       "<p>1500 rows × 7 columns</p>\n",
       "</div>"
      ],
      "text/plain": [
       "      diagonal  height_left  height_right  margin_low  margin_up  length  \\\n",
       "0       171.81       104.86        104.95        4.52       2.89  112.83   \n",
       "1       171.46       103.36        103.66        3.77       2.99  113.09   \n",
       "2       172.69       104.48        103.50        4.40       2.94  113.16   \n",
       "3       171.36       103.91        103.94        3.62       3.01  113.51   \n",
       "4       171.73       104.28        103.46        4.04       3.48  112.54   \n",
       "...        ...          ...           ...         ...        ...     ...   \n",
       "1495    171.75       104.38        104.17        4.42       3.09  111.28   \n",
       "1496    172.19       104.63        104.44        5.27       3.37  110.97   \n",
       "1497    171.80       104.01        104.12        5.51       3.36  111.95   \n",
       "1498    172.06       104.28        104.06        5.17       3.46  112.25   \n",
       "1499    171.47       104.15        103.82        4.63       3.37  112.07   \n",
       "\n",
       "      target  \n",
       "0          1  \n",
       "1          1  \n",
       "2          1  \n",
       "3          1  \n",
       "4          1  \n",
       "...      ...  \n",
       "1495       0  \n",
       "1496       0  \n",
       "1497       0  \n",
       "1498       0  \n",
       "1499       0  \n",
       "\n",
       "[1500 rows x 7 columns]"
      ]
     },
     "execution_count": 63,
     "metadata": {},
     "output_type": "execute_result"
    }
   ],
   "source": [
    "#Organize columns \n",
    "\n",
    "df = df[['diagonal', 'height_left', 'height_right', 'margin_low',\n",
    "       'margin_up', 'length', 'is_genuine']]\n",
    "\n",
    "df.rename(columns = {'is_genuine':'target'}, inplace = True)\n",
    "\n",
    "df"
   ]
  },
  {
   "cell_type": "code",
   "execution_count": 64,
   "id": "82521ad4",
   "metadata": {
    "execution": {
     "iopub.execute_input": "2023-03-13T11:01:18.018120Z",
     "iopub.status.busy": "2023-03-13T11:01:18.016938Z",
     "iopub.status.idle": "2023-03-13T11:01:18.969394Z",
     "shell.execute_reply": "2023-03-13T11:01:18.967948Z"
    },
    "papermill": {
     "duration": 0.968182,
     "end_time": "2023-03-13T11:01:18.971889",
     "exception": false,
     "start_time": "2023-03-13T11:01:18.003707",
     "status": "completed"
    },
    "tags": []
   },
   "outputs": [
    {
     "data": {
      "image/png": "[encoded data removed]",
      "text/plain": [
       "<Figure size 2000x1000 with 9 Axes>"
      ]
     },
     "metadata": {},
     "output_type": "display_data"
    }
   ],
   "source": [
    "#Quick look into the data distribution \n",
    "\n",
    "df.hist(bins= 50,figsize=(20,10))\n",
    "plt.tight_layout()"
   ]
  },
  {
   "cell_type": "code",
   "execution_count": 65,
   "id": "18a479e3",
   "metadata": {
    "execution": {
     "iopub.execute_input": "2023-03-13T11:01:18.998891Z",
     "iopub.status.busy": "2023-03-13T11:01:18.998486Z",
     "iopub.status.idle": "2023-03-13T11:01:19.280816Z",
     "shell.execute_reply": "2023-03-13T11:01:19.279526Z"
    },
    "papermill": {
     "duration": 0.299055,
     "end_time": "2023-03-13T11:01:19.283550",
     "exception": false,
     "start_time": "2023-03-13T11:01:18.984495",
     "status": "completed"
    },
    "tags": []
   },
   "outputs": [
    {
     "data": {
      "image/png": "[encoded data removed]",
      "text/plain": [
       "<Figure size 1500x800 with 1 Axes>"
      ]
     },
     "metadata": {},
     "output_type": "display_data"
    }
   ],
   "source": [
    "#Let's check the correlation between variables \n",
    "\n",
    "plt.figure(figsize=(15,8))\n",
    "d = df.corr()['target'][:-1].abs().sort_values(ascending=False).plot(kind='bar', title='Most important features')\n",
    "\n",
    "plt.show()"
   ]
  },
  {
   "cell_type": "code",
   "execution_count": 66,
   "id": "1cdd3e47",
   "metadata": {
    "execution": {
     "iopub.execute_input": "2023-03-13T11:01:19.312014Z",
     "iopub.status.busy": "2023-03-13T11:01:19.311596Z",
     "iopub.status.idle": "2023-03-13T11:01:19.831771Z",
     "shell.execute_reply": "2023-03-13T11:01:19.830635Z"
    },
    "papermill": {
     "duration": 0.53759,
     "end_time": "2023-03-13T11:01:19.834401",
     "exception": false,
     "start_time": "2023-03-13T11:01:19.296811",
     "status": "completed"
    },
    "tags": []
   },
   "outputs": [
    {
     "data": {
      "image/png": "[encoded data removed]",
      "text/plain": [
       "<Figure size 640x480 with 2 Axes>"
      ]
     },
     "metadata": {},
     "output_type": "display_data"
    }
   ],
   "source": [
    "sns.heatmap(df.corr(),annot=True)\n",
    "plt.show()"
   ]
  },
  {
   "cell_type": "code",
   "execution_count": 67,
   "id": "f998a444",
   "metadata": {
    "execution": {
     "iopub.execute_input": "2023-03-13T11:01:19.865451Z",
     "iopub.status.busy": "2023-03-13T11:01:19.864653Z",
     "iopub.status.idle": "2023-03-13T11:01:20.978246Z",
     "shell.execute_reply": "2023-03-13T11:01:20.976709Z"
    },
    "papermill": {
     "duration": 1.132474,
     "end_time": "2023-03-13T11:01:20.981192",
     "exception": false,
     "start_time": "2023-03-13T11:01:19.848718",
     "status": "completed"
    },
    "tags": []
   },
   "outputs": [
    {
     "data": {
      "image/png": "[encoded data removed]",
      "text/plain": [
       "<Figure size 1600x800 with 6 Axes>"
      ]
     },
     "metadata": {},
     "output_type": "display_data"
    }
   ],
   "source": [
    "numeric_columns = (list(df.loc[:, 'diagonal':'length']))\n",
    "\n",
    "# checking boxplots\n",
    "def boxplots_custom(dataset, columns_list, rows, cols, suptitle):\n",
    "    fig, axs = plt.subplots(rows, cols, sharey=True, figsize=(16,8))\n",
    "    fig.suptitle(suptitle,y=1, size=25)\n",
    "    axs = axs.flatten()\n",
    "    for i, data in enumerate(columns_list):\n",
    "        sns.boxplot(data=dataset[data], orient='h', ax=axs[i])\n",
    "        axs[i].set_title(data + ', skewness is: '+str(round(dataset[data].skew(axis = 0, skipna = True),2)))\n",
    "        \n",
    "boxplots_custom(dataset=df, columns_list=numeric_columns, rows=3, cols=2, suptitle='Boxplots for each variable')\n",
    "plt.tight_layout()"
   ]
  },
  {
   "cell_type": "code",
   "execution_count": 68,
   "id": "0504d204",
   "metadata": {
    "execution": {
     "iopub.execute_input": "2023-03-13T11:01:21.045699Z",
     "iopub.status.busy": "2023-03-13T11:01:21.045281Z",
     "iopub.status.idle": "2023-03-13T11:01:22.814801Z",
     "shell.execute_reply": "2023-03-13T11:01:22.813616Z"
    },
    "papermill": {
     "duration": 1.790654,
     "end_time": "2023-03-13T11:01:22.818887",
     "exception": false,
     "start_time": "2023-03-13T11:01:21.028233",
     "status": "completed"
    },
    "tags": []
   },
   "outputs": [
    {
     "data": {
      "image/png": "[encoded data removed]",
      "text/plain": [
       "<Figure size 600x11200 with 5 Axes>"
      ]
     },
     "metadata": {},
     "output_type": "display_data"
    }
   ],
   "source": [
    "#Checking the distribution for Genuine and Fake bills in each variable \n",
    "\n",
    "import seaborn as sns\n",
    "import matplotlib.gridspec as gridspec\n",
    "\n",
    "gs = gridspec.GridSpec(28, 1)\n",
    "plt.figure(figsize=(6,28*4))\n",
    "for i, col in enumerate(df[df.iloc[:,0:5].columns]):\n",
    "    ax5 = plt.subplot(gs[i])\n",
    "    sns.distplot(df[col][df.target == 1], bins=50, color='g')\n",
    "    sns.distplot(df[col][df.target == 0], bins=50, color='r')\n",
    "    ax5.set_xlabel('')\n",
    "    ax5.set_title('feature: ' + str(col))\n",
    "plt.show()"
   ]
  },
  {
   "attachments": {},
   "cell_type": "markdown",
   "id": "a773b52e",
   "metadata": {
    "papermill": {
     "duration": 0.017986,
     "end_time": "2023-03-13T11:01:22.855357",
     "exception": false,
     "start_time": "2023-03-13T11:01:22.837371",
     "status": "completed"
    },
    "tags": []
   },
   "source": [
    "In this preliminary analysis we can see that there is divergence in the distribution of Fake Bill (red) vs Genuine Bills (green). This will help our model to better classify the fake bills. "
   ]
  },
  {
   "cell_type": "code",
   "execution_count": 69,
   "id": "c18e0a7b",
   "metadata": {
    "execution": {
     "iopub.execute_input": "2023-03-13T11:01:22.895423Z",
     "iopub.status.busy": "2023-03-13T11:01:22.894154Z",
     "iopub.status.idle": "2023-03-13T11:01:23.144285Z",
     "shell.execute_reply": "2023-03-13T11:01:23.143113Z"
    },
    "papermill": {
     "duration": 0.272614,
     "end_time": "2023-03-13T11:01:23.147209",
     "exception": false,
     "start_time": "2023-03-13T11:01:22.874595",
     "status": "completed"
    },
    "tags": []
   },
   "outputs": [],
   "source": [
    "from sklearn.model_selection import train_test_split\n",
    "\n",
    "x = df.drop(\"target\", axis =1)\n",
    "\n",
    "y = df['target']\n",
    "\n",
    "x_train, x_test, y_train, y_test = train_test_split(x, y, test_size = 0.5, random_state = 42)"
   ]
  },
  {
   "cell_type": "markdown",
   "id": "bd33ce30",
   "metadata": {
    "papermill": {
     "duration": 0.018432,
     "end_time": "2023-03-13T11:01:23.183724",
     "exception": false,
     "start_time": "2023-03-13T11:01:23.165292",
     "status": "completed"
    },
    "tags": []
   },
   "source": [
    "# **Evaluating the number of clusters we need**"
   ]
  },
  {
   "cell_type": "code",
   "execution_count": 70,
   "id": "27cad4c7",
   "metadata": {
    "execution": {
     "iopub.execute_input": "2023-03-13T11:01:23.222350Z",
     "iopub.status.busy": "2023-03-13T11:01:23.221445Z",
     "iopub.status.idle": "2023-03-13T11:01:23.227405Z",
     "shell.execute_reply": "2023-03-13T11:01:23.226191Z"
    },
    "papermill": {
     "duration": 0.02786,
     "end_time": "2023-03-13T11:01:23.229740",
     "exception": false,
     "start_time": "2023-03-13T11:01:23.201880",
     "status": "completed"
    },
    "tags": []
   },
   "outputs": [],
   "source": [
    "min_clusters = 2\n",
    "max_clusters = 20 \n",
    "inertias = np.zeros(shape=(max_clusters - min_clusters +1,))\n"
   ]
  },
  {
   "cell_type": "code",
   "execution_count": 71,
   "id": "f32dbcd3",
   "metadata": {
    "execution": {
     "iopub.execute_input": "2023-03-13T11:01:23.267699Z",
     "iopub.status.busy": "2023-03-13T11:01:23.267235Z",
     "iopub.status.idle": "2023-03-13T11:01:25.669696Z",
     "shell.execute_reply": "2023-03-13T11:01:25.668605Z"
    },
    "papermill": {
     "duration": 2.424904,
     "end_time": "2023-03-13T11:01:25.672602",
     "exception": false,
     "start_time": "2023-03-13T11:01:23.247698",
     "status": "completed"
    },
    "tags": []
   },
   "outputs": [],
   "source": [
    "from sklearn.cluster import KMeans\n",
    "\n",
    "\n",
    "for i in range(min_clusters, max_clusters + 1):\n",
    "    km = KMeans(n_clusters = i, random_state = 42)\n",
    "    km.fit(x_train)\n",
    "    inertias[i - min_clusters] = km.inertia_"
   ]
  },
  {
   "cell_type": "code",
   "execution_count": 72,
   "id": "a76af101",
   "metadata": {
    "execution": {
     "iopub.execute_input": "2023-03-13T11:01:25.712867Z",
     "iopub.status.busy": "2023-03-13T11:01:25.712411Z",
     "iopub.status.idle": "2023-03-13T11:01:25.994052Z",
     "shell.execute_reply": "2023-03-13T11:01:25.992414Z"
    },
    "papermill": {
     "duration": 0.304404,
     "end_time": "2023-03-13T11:01:25.997321",
     "exception": false,
     "start_time": "2023-03-13T11:01:25.692917",
     "status": "completed"
    },
    "tags": []
   },
   "outputs": [
    {
     "data": {
      "text/plain": [
       "Text(0, 0.5, 'Sum of Squared Distance')"
      ]
     },
     "execution_count": 72,
     "metadata": {},
     "output_type": "execute_result"
    },
    {
     "data": {
      "image/png": "[encoded data removed]",
      "text/plain": [
       "<Figure size 1000x600 with 1 Axes>"
      ]
     },
     "metadata": {},
     "output_type": "display_data"
    }
   ],
   "source": [
    "plt.figure(figsize = (10,6))\n",
    "plt.plot(range(min_clusters, max_clusters + 1), inertias, color = \"b\")\n",
    "plt.title(\"N Clusters Evaluation\")\n",
    "plt.xlabel(\"# Clusters\")\n",
    "plt.ylabel(\"Sum of Squared Distance\")\n"
   ]
  },
  {
   "attachments": {},
   "cell_type": "markdown",
   "id": "918df5f6",
   "metadata": {
    "papermill": {
     "duration": 0.018739,
     "end_time": "2023-03-13T11:01:26.035671",
     "exception": false,
     "start_time": "2023-03-13T11:01:26.016932",
     "status": "completed"
    },
    "tags": []
   },
   "source": [
    "Here we have to pick the number of clusters where the line inclination stops being abrupt. Before it starts to stabilize.\n",
    "In this case it is not very clear where to start, I will pick the number 5, since we have a small break in the line. \n"
   ]
  },
  {
   "cell_type": "code",
   "execution_count": 73,
   "id": "d6569ee1",
   "metadata": {
    "execution": {
     "iopub.execute_input": "2023-03-13T11:01:26.075504Z",
     "iopub.status.busy": "2023-03-13T11:01:26.075074Z",
     "iopub.status.idle": "2023-03-13T11:01:26.182271Z",
     "shell.execute_reply": "2023-03-13T11:01:26.181126Z"
    },
    "papermill": {
     "duration": 0.130658,
     "end_time": "2023-03-13T11:01:26.185180",
     "exception": false,
     "start_time": "2023-03-13T11:01:26.054522",
     "status": "completed"
    },
    "tags": []
   },
   "outputs": [],
   "source": [
    "kmodel = KMeans(n_clusters = 5, random_state = 42)\n",
    "clusters = kmodel.fit(x_train)"
   ]
  },
  {
   "cell_type": "code",
   "execution_count": 74,
   "id": "08a3c9f6",
   "metadata": {
    "execution": {
     "iopub.execute_input": "2023-03-13T11:01:26.234461Z",
     "iopub.status.busy": "2023-03-13T11:01:26.233713Z",
     "iopub.status.idle": "2023-03-13T11:01:26.244697Z",
     "shell.execute_reply": "2023-03-13T11:01:26.243456Z"
    },
    "papermill": {
     "duration": 0.043458,
     "end_time": "2023-03-13T11:01:26.249913",
     "exception": false,
     "start_time": "2023-03-13T11:01:26.206455",
     "status": "completed"
    },
    "tags": []
   },
   "outputs": [
    {
     "data": {
      "text/plain": [
       "array([2, 1, 4, 2, 1, 1, 1, 2, 1, 1, 3, 4, 1, 1, 2, 4, 3, 1, 1, 3, 2, 3,\n",
       "       3, 3, 3, 3, 0, 1, 0, 3, 3, 3, 1, 1, 3, 1, 3, 4, 1, 3, 1, 4, 1, 4,\n",
       "       1, 2, 1, 0, 1, 3, 2, 3, 3, 3, 3, 3, 3, 2, 1, 3, 3, 2, 1, 4, 1, 2,\n",
       "       3, 2, 0, 1, 3, 3, 1, 1, 1, 1, 4, 2, 1, 4, 1, 3, 3, 0, 3, 3, 4, 3,\n",
       "       0, 3, 1, 3, 0, 1, 3, 4, 1, 3, 0, 3, 3, 1, 3, 3, 1, 3, 1, 2, 0, 2,\n",
       "       1, 0, 3, 3, 1, 1, 3, 0, 2, 2, 4, 1, 3, 2, 3, 4, 3, 4, 2, 1, 1, 3,\n",
       "       3, 1, 3, 1, 2, 1, 3, 1, 2, 1, 1, 1, 1, 4, 3, 0, 3, 1, 4, 3, 1, 1,\n",
       "       0, 1, 4, 1, 1, 0, 4, 0, 3, 1, 1, 4, 3, 1, 1, 3, 2, 3, 1, 4, 3, 1,\n",
       "       3, 3, 1, 3, 3, 2, 3, 0, 2, 1, 0, 3, 3, 1, 2, 1, 1, 3, 1, 1, 3, 4,\n",
       "       4, 3, 0, 3, 3, 1, 1, 3, 4, 4, 1, 1, 1, 1, 2, 3, 1, 1, 1, 1, 1, 3,\n",
       "       1, 1, 0, 1, 4, 1, 1, 3, 1, 1, 3, 3, 1, 0, 4, 1, 1, 3, 3, 1, 2, 0,\n",
       "       3, 3, 2, 1, 1, 3, 2, 1, 1, 3, 2, 1, 1, 3, 3, 1, 1, 3, 3, 3, 1, 0,\n",
       "       0, 1, 2, 1, 1, 3, 2, 1, 2, 3, 0, 4, 1, 1, 1, 0, 2, 1, 1, 3, 1, 3,\n",
       "       1, 3, 0, 2, 3, 3, 3, 1, 1, 2, 3, 1, 2, 3, 3, 0, 2, 3, 3, 3, 1, 1,\n",
       "       1, 0, 2, 3, 1, 3, 1, 0, 3, 3, 3, 0, 3, 0, 1, 4, 3, 2, 3, 3, 1, 2,\n",
       "       1, 1, 1, 3, 3, 0, 2, 0, 1, 0, 0, 3, 1, 3, 4, 4, 1, 3, 1, 0, 1, 1,\n",
       "       1, 1, 1, 4, 4, 1, 1, 3, 3, 1, 3, 3, 1, 1, 3, 3, 3, 1, 3, 1, 0, 3,\n",
       "       3, 1, 2, 3, 4, 4, 1, 2, 0, 3, 2, 0, 3, 4, 3, 2, 3, 1, 1, 1, 4, 1,\n",
       "       1, 0, 3, 3, 3, 1, 3, 3, 3, 3, 1, 3, 1, 4, 1, 1, 3, 1, 4, 3, 2, 3,\n",
       "       3, 1, 3, 1, 3, 1, 1, 0, 3, 3, 3, 1, 0, 1, 4, 3, 2, 4, 1, 3, 1, 1,\n",
       "       2, 4, 0, 3, 0, 1, 1, 0, 3, 0, 3, 1, 0, 0, 2, 1, 4, 3, 1, 1, 1, 1,\n",
       "       2, 3, 3, 3, 2, 3, 4, 2, 1, 2, 3, 2, 0, 2, 4, 2, 1, 3, 3, 4, 1, 4,\n",
       "       3, 3, 1, 4, 1, 2, 4, 1, 3, 4, 2, 3, 3, 1, 0, 3, 4, 1, 3, 0, 2, 2,\n",
       "       3, 1, 3, 4, 3, 4, 3, 3, 4, 3, 1, 1, 3, 4, 0, 1, 3, 1, 4, 2, 3, 1,\n",
       "       3, 4, 1, 1, 3, 2, 4, 3, 1, 1, 1, 1, 3, 1, 3, 0, 1, 1, 2, 3, 1, 3,\n",
       "       0, 0, 4, 3, 0, 1, 3, 3, 3, 1, 3, 0, 3, 2, 2, 0, 3, 4, 0, 1, 4, 0,\n",
       "       4, 1, 3, 1, 0, 3, 3, 1, 0, 2, 4, 0, 2, 3, 3, 2, 1, 3, 3, 4, 0, 2,\n",
       "       3, 0, 3, 2, 1, 0, 1, 3, 4, 1, 2, 3, 3, 1, 0, 1, 3, 1, 3, 1, 3, 0,\n",
       "       2, 0, 3, 3, 1, 3, 3, 1, 3, 1, 1, 2, 4, 3, 1, 3, 3, 0, 1, 0, 3, 3,\n",
       "       3, 1, 3, 3, 0, 4, 3, 4, 4, 3, 1, 3, 2, 4, 1, 1, 3, 1, 3, 1, 2, 1,\n",
       "       1, 1, 3, 0, 2, 3, 0, 3, 3, 3, 3, 1, 3, 1, 1, 0, 3, 4, 2, 3, 0, 2,\n",
       "       3, 1, 3, 1, 4, 4, 3, 4, 3, 3, 2, 1, 3, 1, 3, 1, 3, 2, 3, 3, 1, 1,\n",
       "       2, 1, 4, 3, 0, 1, 1, 1, 3, 3, 3, 0, 3, 3, 3, 1, 3, 2, 1, 0, 3, 1,\n",
       "       2, 3, 3, 4, 3, 1, 4, 3, 1, 0, 4, 1, 2, 1, 0, 1, 3, 2, 4, 4, 2, 1,\n",
       "       0, 2], dtype=int32)"
      ]
     },
     "execution_count": 74,
     "metadata": {},
     "output_type": "execute_result"
    }
   ],
   "source": [
    "#Quick look into the clusters generated \n",
    "\n",
    "clusters.labels_"
   ]
  },
  {
   "cell_type": "markdown",
   "id": "1fac0298",
   "metadata": {
    "papermill": {
     "duration": 0.019844,
     "end_time": "2023-03-13T11:01:26.291960",
     "exception": false,
     "start_time": "2023-03-13T11:01:26.272116",
     "status": "completed"
    },
    "tags": []
   },
   "source": [
    "# Applying the K-means to new data"
   ]
  },
  {
   "cell_type": "code",
   "execution_count": 75,
   "id": "5168669f",
   "metadata": {
    "execution": {
     "iopub.execute_input": "2023-03-13T11:01:26.336293Z",
     "iopub.status.busy": "2023-03-13T11:01:26.335015Z",
     "iopub.status.idle": "2023-03-13T11:01:26.459174Z",
     "shell.execute_reply": "2023-03-13T11:01:26.456908Z"
    },
    "papermill": {
     "duration": 0.149411,
     "end_time": "2023-03-13T11:01:26.463557",
     "exception": false,
     "start_time": "2023-03-13T11:01:26.314146",
     "status": "completed"
    },
    "tags": []
   },
   "outputs": [],
   "source": [
    "train_clusters = pd.DataFrame(clusters.labels_, columns = [\"Cluster\"])\n",
    "train_clusters[\"Label\"] = y_train.values #Must add .values to avoid index problems\n",
    "\n",
    "fitted_clusters = kmodel.predict(x_test)\n",
    "test_clusters = pd.DataFrame(fitted_clusters, columns= [\"Cluster\"])\n",
    "test_clusters[\"Label\"] = y_test.values\n",
    "\n"
   ]
  },
  {
   "cell_type": "code",
   "execution_count": 76,
   "id": "59966585",
   "metadata": {
    "execution": {
     "iopub.execute_input": "2023-03-13T11:01:26.563352Z",
     "iopub.status.busy": "2023-03-13T11:01:26.562853Z",
     "iopub.status.idle": "2023-03-13T11:01:26.577937Z",
     "shell.execute_reply": "2023-03-13T11:01:26.576764Z"
    },
    "papermill": {
     "duration": 0.054091,
     "end_time": "2023-03-13T11:01:26.581105",
     "exception": false,
     "start_time": "2023-03-13T11:01:26.527014",
     "status": "completed"
    },
    "tags": []
   },
   "outputs": [
    {
     "data": {
      "text/html": [
       "<div>\n",
       "<style scoped>\n",
       "    .dataframe tbody tr th:only-of-type {\n",
       "        vertical-align: middle;\n",
       "    }\n",
       "\n",
       "    .dataframe tbody tr th {\n",
       "        vertical-align: top;\n",
       "    }\n",
       "\n",
       "    .dataframe thead th {\n",
       "        text-align: right;\n",
       "    }\n",
       "</style>\n",
       "<table border=\"1\" class=\"dataframe\">\n",
       "  <thead>\n",
       "    <tr style=\"text-align: right;\">\n",
       "      <th></th>\n",
       "      <th>Cluster</th>\n",
       "      <th>Label</th>\n",
       "    </tr>\n",
       "  </thead>\n",
       "  <tbody>\n",
       "    <tr>\n",
       "      <th>0</th>\n",
       "      <td>2</td>\n",
       "      <td>0</td>\n",
       "    </tr>\n",
       "    <tr>\n",
       "      <th>1</th>\n",
       "      <td>4</td>\n",
       "      <td>0</td>\n",
       "    </tr>\n",
       "    <tr>\n",
       "      <th>2</th>\n",
       "      <td>3</td>\n",
       "      <td>1</td>\n",
       "    </tr>\n",
       "    <tr>\n",
       "      <th>3</th>\n",
       "      <td>3</td>\n",
       "      <td>1</td>\n",
       "    </tr>\n",
       "    <tr>\n",
       "      <th>4</th>\n",
       "      <td>3</td>\n",
       "      <td>1</td>\n",
       "    </tr>\n",
       "  </tbody>\n",
       "</table>\n",
       "</div>"
      ],
      "text/plain": [
       "   Cluster  Label\n",
       "0        2      0\n",
       "1        4      0\n",
       "2        3      1\n",
       "3        3      1\n",
       "4        3      1"
      ]
     },
     "execution_count": 76,
     "metadata": {},
     "output_type": "execute_result"
    }
   ],
   "source": [
    "test_clusters.head()"
   ]
  },
  {
   "cell_type": "code",
   "execution_count": 77,
   "id": "98102227",
   "metadata": {
    "execution": {
     "iopub.execute_input": "2023-03-13T11:01:26.623351Z",
     "iopub.status.busy": "2023-03-13T11:01:26.622889Z",
     "iopub.status.idle": "2023-03-13T11:01:26.653498Z",
     "shell.execute_reply": "2023-03-13T11:01:26.652305Z"
    },
    "papermill": {
     "duration": 0.054785,
     "end_time": "2023-03-13T11:01:26.657114",
     "exception": false,
     "start_time": "2023-03-13T11:01:26.602329",
     "status": "completed"
    },
    "tags": []
   },
   "outputs": [
    {
     "data": {
      "text/html": [
       "<div>\n",
       "<style scoped>\n",
       "    .dataframe tbody tr th:only-of-type {\n",
       "        vertical-align: middle;\n",
       "    }\n",
       "\n",
       "    .dataframe tbody tr th {\n",
       "        vertical-align: top;\n",
       "    }\n",
       "\n",
       "    .dataframe thead th {\n",
       "        text-align: right;\n",
       "    }\n",
       "</style>\n",
       "<table border=\"1\" class=\"dataframe\">\n",
       "  <thead>\n",
       "    <tr style=\"text-align: right;\">\n",
       "      <th>Label</th>\n",
       "      <th>0</th>\n",
       "      <th>1</th>\n",
       "    </tr>\n",
       "    <tr>\n",
       "      <th>Cluster</th>\n",
       "      <th></th>\n",
       "      <th></th>\n",
       "    </tr>\n",
       "  </thead>\n",
       "  <tbody>\n",
       "    <tr>\n",
       "      <th>0</th>\n",
       "      <td>82</td>\n",
       "      <td>0</td>\n",
       "    </tr>\n",
       "    <tr>\n",
       "      <th>1</th>\n",
       "      <td>1</td>\n",
       "      <td>245</td>\n",
       "    </tr>\n",
       "    <tr>\n",
       "      <th>2</th>\n",
       "      <td>86</td>\n",
       "      <td>1</td>\n",
       "    </tr>\n",
       "    <tr>\n",
       "      <th>3</th>\n",
       "      <td>5</td>\n",
       "      <td>251</td>\n",
       "    </tr>\n",
       "    <tr>\n",
       "      <th>4</th>\n",
       "      <td>78</td>\n",
       "      <td>1</td>\n",
       "    </tr>\n",
       "  </tbody>\n",
       "</table>\n",
       "</div>"
      ],
      "text/plain": [
       "Label     0    1\n",
       "Cluster         \n",
       "0        82    0\n",
       "1         1  245\n",
       "2        86    1\n",
       "3         5  251\n",
       "4        78    1"
      ]
     },
     "execution_count": 77,
     "metadata": {},
     "output_type": "execute_result"
    }
   ],
   "source": [
    "pd.crosstab(train_clusters[\"Cluster\"], train_clusters[\"Label\"])\n"
   ]
  },
  {
   "cell_type": "code",
   "execution_count": 78,
   "id": "4bf644f2",
   "metadata": {
    "execution": {
     "iopub.execute_input": "2023-03-13T11:01:26.708659Z",
     "iopub.status.busy": "2023-03-13T11:01:26.708122Z",
     "iopub.status.idle": "2023-03-13T11:01:26.735095Z",
     "shell.execute_reply": "2023-03-13T11:01:26.733837Z"
    },
    "papermill": {
     "duration": 0.050378,
     "end_time": "2023-03-13T11:01:26.737734",
     "exception": false,
     "start_time": "2023-03-13T11:01:26.687356",
     "status": "completed"
    },
    "tags": []
   },
   "outputs": [
    {
     "data": {
      "text/html": [
       "<div>\n",
       "<style scoped>\n",
       "    .dataframe tbody tr th:only-of-type {\n",
       "        vertical-align: middle;\n",
       "    }\n",
       "\n",
       "    .dataframe tbody tr th {\n",
       "        vertical-align: top;\n",
       "    }\n",
       "\n",
       "    .dataframe thead th {\n",
       "        text-align: right;\n",
       "    }\n",
       "</style>\n",
       "<table border=\"1\" class=\"dataframe\">\n",
       "  <thead>\n",
       "    <tr style=\"text-align: right;\">\n",
       "      <th>Label</th>\n",
       "      <th>0</th>\n",
       "      <th>1</th>\n",
       "    </tr>\n",
       "    <tr>\n",
       "      <th>Cluster</th>\n",
       "      <th></th>\n",
       "      <th></th>\n",
       "    </tr>\n",
       "  </thead>\n",
       "  <tbody>\n",
       "    <tr>\n",
       "      <th>0</th>\n",
       "      <td>65</td>\n",
       "      <td>0</td>\n",
       "    </tr>\n",
       "    <tr>\n",
       "      <th>1</th>\n",
       "      <td>1</td>\n",
       "      <td>236</td>\n",
       "    </tr>\n",
       "    <tr>\n",
       "      <th>2</th>\n",
       "      <td>92</td>\n",
       "      <td>1</td>\n",
       "    </tr>\n",
       "    <tr>\n",
       "      <th>3</th>\n",
       "      <td>5</td>\n",
       "      <td>265</td>\n",
       "    </tr>\n",
       "    <tr>\n",
       "      <th>4</th>\n",
       "      <td>85</td>\n",
       "      <td>0</td>\n",
       "    </tr>\n",
       "  </tbody>\n",
       "</table>\n",
       "</div>"
      ],
      "text/plain": [
       "Label     0    1\n",
       "Cluster         \n",
       "0        65    0\n",
       "1         1  236\n",
       "2        92    1\n",
       "3         5  265\n",
       "4        85    0"
      ]
     },
     "execution_count": 78,
     "metadata": {},
     "output_type": "execute_result"
    }
   ],
   "source": [
    "pd.crosstab(test_clusters[\"Cluster\"], test_clusters[\"Label\"])\n"
   ]
  },
  {
   "attachments": {},
   "cell_type": "markdown",
   "id": "8dc38691",
   "metadata": {
    "papermill": {
     "duration": 0.019252,
     "end_time": "2023-03-13T11:01:26.776454",
     "exception": false,
     "start_time": "2023-03-13T11:01:26.757202",
     "status": "completed"
    },
    "tags": []
   },
   "source": [
    "Here we have to pick the number of clusters where the line inclination stops being abrupt. Before it starts to stabilize.\n",
    "In this case it is not very clear where to start, I will pick the number 5, since we have a small break in the line. \n",
    "\n",
    "\n",
    "Here we are doing a crosstab between predicted('Clusters') and real('label'). The clusters 1 and 3 concentrate most of the Genuine Bills, and we have 3 remaining clusters concentrating the fake bills.\n",
    "\n",
    "The groups 1 and 3 are better in classifying the Genuine. \n",
    "\n",
    "Now we can use this as a classification model. \n",
    "\n",
    "In cluster 1, we have 236 Genuine Bills and only 1 Fake bill. That is amazing. \n",
    "In cluster 3, we have 265 Genuine Bills and 5 Fake bills.\n",
    "\n",
    "The remaining clusters have only 1 Genuine Bill that was considered Fake. Surprising results. \n",
    "\n",
    "\n",
    "Confusion Matrix for unsupervised Algorithms? Yes!\n",
    "\n"
   ]
  },
  {
   "cell_type": "code",
   "execution_count": 79,
   "id": "db74834b",
   "metadata": {
    "execution": {
     "iopub.execute_input": "2023-03-13T11:01:26.818184Z",
     "iopub.status.busy": "2023-03-13T11:01:26.817279Z",
     "iopub.status.idle": "2023-03-13T11:01:26.840132Z",
     "shell.execute_reply": "2023-03-13T11:01:26.838752Z"
    },
    "papermill": {
     "duration": 0.046783,
     "end_time": "2023-03-13T11:01:26.842795",
     "exception": false,
     "start_time": "2023-03-13T11:01:26.796012",
     "status": "completed"
    },
    "tags": []
   },
   "outputs": [
    {
     "data": {
      "text/html": [
       "<div>\n",
       "<style scoped>\n",
       "    .dataframe tbody tr th:only-of-type {\n",
       "        vertical-align: middle;\n",
       "    }\n",
       "\n",
       "    .dataframe tbody tr th {\n",
       "        vertical-align: top;\n",
       "    }\n",
       "\n",
       "    .dataframe thead th {\n",
       "        text-align: right;\n",
       "    }\n",
       "</style>\n",
       "<table border=\"1\" class=\"dataframe\">\n",
       "  <thead>\n",
       "    <tr style=\"text-align: right;\">\n",
       "      <th></th>\n",
       "      <th>Cluster</th>\n",
       "      <th>Label</th>\n",
       "    </tr>\n",
       "  </thead>\n",
       "  <tbody>\n",
       "    <tr>\n",
       "      <th>count</th>\n",
       "      <td>750.000000</td>\n",
       "      <td>750.000000</td>\n",
       "    </tr>\n",
       "    <tr>\n",
       "      <th>mean</th>\n",
       "      <td>2.005333</td>\n",
       "      <td>0.664000</td>\n",
       "    </tr>\n",
       "    <tr>\n",
       "      <th>std</th>\n",
       "      <td>1.236936</td>\n",
       "      <td>0.472654</td>\n",
       "    </tr>\n",
       "    <tr>\n",
       "      <th>min</th>\n",
       "      <td>0.000000</td>\n",
       "      <td>0.000000</td>\n",
       "    </tr>\n",
       "    <tr>\n",
       "      <th>25%</th>\n",
       "      <td>1.000000</td>\n",
       "      <td>0.000000</td>\n",
       "    </tr>\n",
       "    <tr>\n",
       "      <th>50%</th>\n",
       "      <td>2.000000</td>\n",
       "      <td>1.000000</td>\n",
       "    </tr>\n",
       "    <tr>\n",
       "      <th>75%</th>\n",
       "      <td>3.000000</td>\n",
       "      <td>1.000000</td>\n",
       "    </tr>\n",
       "    <tr>\n",
       "      <th>max</th>\n",
       "      <td>4.000000</td>\n",
       "      <td>1.000000</td>\n",
       "    </tr>\n",
       "  </tbody>\n",
       "</table>\n",
       "</div>"
      ],
      "text/plain": [
       "          Cluster       Label\n",
       "count  750.000000  750.000000\n",
       "mean     2.005333    0.664000\n",
       "std      1.236936    0.472654\n",
       "min      0.000000    0.000000\n",
       "25%      1.000000    0.000000\n",
       "50%      2.000000    1.000000\n",
       "75%      3.000000    1.000000\n",
       "max      4.000000    1.000000"
      ]
     },
     "execution_count": 79,
     "metadata": {},
     "output_type": "execute_result"
    }
   ],
   "source": [
    "train_clusters.describe()"
   ]
  },
  {
   "cell_type": "code",
   "execution_count": 80,
   "id": "d66b8376",
   "metadata": {
    "execution": {
     "iopub.execute_input": "2023-03-13T11:01:26.884419Z",
     "iopub.status.busy": "2023-03-13T11:01:26.883525Z",
     "iopub.status.idle": "2023-03-13T11:01:26.903375Z",
     "shell.execute_reply": "2023-03-13T11:01:26.902082Z"
    },
    "papermill": {
     "duration": 0.043553,
     "end_time": "2023-03-13T11:01:26.905912",
     "exception": false,
     "start_time": "2023-03-13T11:01:26.862359",
     "status": "completed"
    },
    "tags": []
   },
   "outputs": [
    {
     "data": {
      "text/html": [
       "<div>\n",
       "<style scoped>\n",
       "    .dataframe tbody tr th:only-of-type {\n",
       "        vertical-align: middle;\n",
       "    }\n",
       "\n",
       "    .dataframe tbody tr th {\n",
       "        vertical-align: top;\n",
       "    }\n",
       "\n",
       "    .dataframe thead th {\n",
       "        text-align: right;\n",
       "    }\n",
       "</style>\n",
       "<table border=\"1\" class=\"dataframe\">\n",
       "  <thead>\n",
       "    <tr style=\"text-align: right;\">\n",
       "      <th></th>\n",
       "      <th>Cluster</th>\n",
       "      <th>Label</th>\n",
       "    </tr>\n",
       "  </thead>\n",
       "  <tbody>\n",
       "    <tr>\n",
       "      <th>count</th>\n",
       "      <td>750.000000</td>\n",
       "      <td>750.000000</td>\n",
       "    </tr>\n",
       "    <tr>\n",
       "      <th>mean</th>\n",
       "      <td>2.097333</td>\n",
       "      <td>0.669333</td>\n",
       "    </tr>\n",
       "    <tr>\n",
       "      <th>std</th>\n",
       "      <td>1.211810</td>\n",
       "      <td>0.470767</td>\n",
       "    </tr>\n",
       "    <tr>\n",
       "      <th>min</th>\n",
       "      <td>0.000000</td>\n",
       "      <td>0.000000</td>\n",
       "    </tr>\n",
       "    <tr>\n",
       "      <th>25%</th>\n",
       "      <td>1.000000</td>\n",
       "      <td>0.000000</td>\n",
       "    </tr>\n",
       "    <tr>\n",
       "      <th>50%</th>\n",
       "      <td>2.000000</td>\n",
       "      <td>1.000000</td>\n",
       "    </tr>\n",
       "    <tr>\n",
       "      <th>75%</th>\n",
       "      <td>3.000000</td>\n",
       "      <td>1.000000</td>\n",
       "    </tr>\n",
       "    <tr>\n",
       "      <th>max</th>\n",
       "      <td>4.000000</td>\n",
       "      <td>1.000000</td>\n",
       "    </tr>\n",
       "  </tbody>\n",
       "</table>\n",
       "</div>"
      ],
      "text/plain": [
       "          Cluster       Label\n",
       "count  750.000000  750.000000\n",
       "mean     2.097333    0.669333\n",
       "std      1.211810    0.470767\n",
       "min      0.000000    0.000000\n",
       "25%      1.000000    0.000000\n",
       "50%      2.000000    1.000000\n",
       "75%      3.000000    1.000000\n",
       "max      4.000000    1.000000"
      ]
     },
     "execution_count": 80,
     "metadata": {},
     "output_type": "execute_result"
    }
   ],
   "source": [
    "test_clusters.describe()"
   ]
  },
  {
   "attachments": {},
   "cell_type": "markdown",
   "id": "b85c02d2",
   "metadata": {
    "papermill": {
     "duration": 0.019777,
     "end_time": "2023-03-13T11:01:26.945323",
     "exception": false,
     "start_time": "2023-03-13T11:01:26.925546",
     "status": "completed"
    },
    "tags": []
   },
   "source": [
    "Here we want to check the mean of each element for each cluster."
   ]
  },
  {
   "cell_type": "code",
   "execution_count": 81,
   "id": "30783faa",
   "metadata": {
    "execution": {
     "iopub.execute_input": "2023-03-13T11:01:26.988055Z",
     "iopub.status.busy": "2023-03-13T11:01:26.987137Z",
     "iopub.status.idle": "2023-03-13T11:01:27.001757Z",
     "shell.execute_reply": "2023-03-13T11:01:27.000486Z"
    },
    "papermill": {
     "duration": 0.03866,
     "end_time": "2023-03-13T11:01:27.004131",
     "exception": false,
     "start_time": "2023-03-13T11:01:26.965471",
     "status": "completed"
    },
    "tags": []
   },
   "outputs": [
    {
     "data": {
      "text/html": [
       "<div>\n",
       "<style scoped>\n",
       "    .dataframe tbody tr th:only-of-type {\n",
       "        vertical-align: middle;\n",
       "    }\n",
       "\n",
       "    .dataframe tbody tr th {\n",
       "        vertical-align: top;\n",
       "    }\n",
       "\n",
       "    .dataframe thead th {\n",
       "        text-align: right;\n",
       "    }\n",
       "</style>\n",
       "<table border=\"1\" class=\"dataframe\">\n",
       "  <thead>\n",
       "    <tr style=\"text-align: right;\">\n",
       "      <th></th>\n",
       "      <th>Label</th>\n",
       "    </tr>\n",
       "    <tr>\n",
       "      <th>Cluster</th>\n",
       "      <th></th>\n",
       "    </tr>\n",
       "  </thead>\n",
       "  <tbody>\n",
       "    <tr>\n",
       "      <th>0</th>\n",
       "      <td>0.000000</td>\n",
       "    </tr>\n",
       "    <tr>\n",
       "      <th>1</th>\n",
       "      <td>0.995935</td>\n",
       "    </tr>\n",
       "    <tr>\n",
       "      <th>2</th>\n",
       "      <td>0.011494</td>\n",
       "    </tr>\n",
       "    <tr>\n",
       "      <th>3</th>\n",
       "      <td>0.980469</td>\n",
       "    </tr>\n",
       "    <tr>\n",
       "      <th>4</th>\n",
       "      <td>0.012658</td>\n",
       "    </tr>\n",
       "  </tbody>\n",
       "</table>\n",
       "</div>"
      ],
      "text/plain": [
       "            Label\n",
       "Cluster          \n",
       "0        0.000000\n",
       "1        0.995935\n",
       "2        0.011494\n",
       "3        0.980469\n",
       "4        0.012658"
      ]
     },
     "execution_count": 81,
     "metadata": {},
     "output_type": "execute_result"
    }
   ],
   "source": [
    "train_clusters.groupby(\"Cluster\").mean()"
   ]
  },
  {
   "cell_type": "code",
   "execution_count": 82,
   "id": "f63c7b30",
   "metadata": {
    "execution": {
     "iopub.execute_input": "2023-03-13T11:01:27.046457Z",
     "iopub.status.busy": "2023-03-13T11:01:27.046007Z",
     "iopub.status.idle": "2023-03-13T11:01:27.060778Z",
     "shell.execute_reply": "2023-03-13T11:01:27.059617Z"
    },
    "papermill": {
     "duration": 0.039806,
     "end_time": "2023-03-13T11:01:27.063804",
     "exception": false,
     "start_time": "2023-03-13T11:01:27.023998",
     "status": "completed"
    },
    "tags": []
   },
   "outputs": [
    {
     "data": {
      "text/html": [
       "<div>\n",
       "<style scoped>\n",
       "    .dataframe tbody tr th:only-of-type {\n",
       "        vertical-align: middle;\n",
       "    }\n",
       "\n",
       "    .dataframe tbody tr th {\n",
       "        vertical-align: top;\n",
       "    }\n",
       "\n",
       "    .dataframe thead th {\n",
       "        text-align: right;\n",
       "    }\n",
       "</style>\n",
       "<table border=\"1\" class=\"dataframe\">\n",
       "  <thead>\n",
       "    <tr style=\"text-align: right;\">\n",
       "      <th></th>\n",
       "      <th>Label</th>\n",
       "    </tr>\n",
       "    <tr>\n",
       "      <th>Cluster</th>\n",
       "      <th></th>\n",
       "    </tr>\n",
       "  </thead>\n",
       "  <tbody>\n",
       "    <tr>\n",
       "      <th>0</th>\n",
       "      <td>0.000000</td>\n",
       "    </tr>\n",
       "    <tr>\n",
       "      <th>1</th>\n",
       "      <td>0.995781</td>\n",
       "    </tr>\n",
       "    <tr>\n",
       "      <th>2</th>\n",
       "      <td>0.010753</td>\n",
       "    </tr>\n",
       "    <tr>\n",
       "      <th>3</th>\n",
       "      <td>0.981481</td>\n",
       "    </tr>\n",
       "    <tr>\n",
       "      <th>4</th>\n",
       "      <td>0.000000</td>\n",
       "    </tr>\n",
       "  </tbody>\n",
       "</table>\n",
       "</div>"
      ],
      "text/plain": [
       "            Label\n",
       "Cluster          \n",
       "0        0.000000\n",
       "1        0.995781\n",
       "2        0.010753\n",
       "3        0.981481\n",
       "4        0.000000"
      ]
     },
     "execution_count": 82,
     "metadata": {},
     "output_type": "execute_result"
    }
   ],
   "source": [
    "test_clusters.groupby(\"Cluster\").mean()"
   ]
  },
  {
   "attachments": {},
   "cell_type": "markdown",
   "id": "ddc23a85",
   "metadata": {
    "papermill": {
     "duration": 0.020087,
     "end_time": "2023-03-13T11:01:27.111117",
     "exception": false,
     "start_time": "2023-03-13T11:01:27.091030",
     "status": "completed"
    },
    "tags": []
   },
   "source": [
    "Here we have 99% concentration of class 1 in the cluster 1, and another 98% concentration of class 1 in the cluster 3.\n",
    "\n",
    "If the bill you are checking falls into one of these two clusters (1 and 3), there is a great chance that they are Genuine.\n",
    "\n",
    "\n",
    "This means that the K-means is working. If we have a concentration in the cluster that is different from the concentration of the database it means the K-means is able to detect the classes precisely \n",
    "\n",
    "The k-means can be used as a filter to detect Genuine or Fake Bills."
   ]
  },
  {
   "cell_type": "code",
   "execution_count": 83,
   "id": "7d1a6607",
   "metadata": {
    "execution": {
     "iopub.execute_input": "2023-03-13T11:01:27.154540Z",
     "iopub.status.busy": "2023-03-13T11:01:27.154066Z",
     "iopub.status.idle": "2023-03-13T11:01:27.184419Z",
     "shell.execute_reply": "2023-03-13T11:01:27.182973Z"
    },
    "papermill": {
     "duration": 0.056062,
     "end_time": "2023-03-13T11:01:27.187762",
     "exception": false,
     "start_time": "2023-03-13T11:01:27.131700",
     "status": "completed"
    },
    "tags": []
   },
   "outputs": [
    {
     "data": {
      "text/html": [
       "<div>\n",
       "<style scoped>\n",
       "    .dataframe tbody tr th:only-of-type {\n",
       "        vertical-align: middle;\n",
       "    }\n",
       "\n",
       "    .dataframe tbody tr th {\n",
       "        vertical-align: top;\n",
       "    }\n",
       "\n",
       "    .dataframe thead th {\n",
       "        text-align: right;\n",
       "    }\n",
       "</style>\n",
       "<table border=\"1\" class=\"dataframe\">\n",
       "  <thead>\n",
       "    <tr style=\"text-align: right;\">\n",
       "      <th></th>\n",
       "      <th>count</th>\n",
       "      <th>mean</th>\n",
       "    </tr>\n",
       "    <tr>\n",
       "      <th>Cluster</th>\n",
       "      <th></th>\n",
       "      <th></th>\n",
       "    </tr>\n",
       "  </thead>\n",
       "  <tbody>\n",
       "    <tr>\n",
       "      <th>0</th>\n",
       "      <td>82.0</td>\n",
       "      <td>0.000000</td>\n",
       "    </tr>\n",
       "    <tr>\n",
       "      <th>1</th>\n",
       "      <td>246.0</td>\n",
       "      <td>0.995935</td>\n",
       "    </tr>\n",
       "    <tr>\n",
       "      <th>2</th>\n",
       "      <td>87.0</td>\n",
       "      <td>0.011494</td>\n",
       "    </tr>\n",
       "    <tr>\n",
       "      <th>3</th>\n",
       "      <td>256.0</td>\n",
       "      <td>0.980469</td>\n",
       "    </tr>\n",
       "    <tr>\n",
       "      <th>4</th>\n",
       "      <td>79.0</td>\n",
       "      <td>0.012658</td>\n",
       "    </tr>\n",
       "  </tbody>\n",
       "</table>\n",
       "</div>"
      ],
      "text/plain": [
       "         count      mean\n",
       "Cluster                 \n",
       "0         82.0  0.000000\n",
       "1        246.0  0.995935\n",
       "2         87.0  0.011494\n",
       "3        256.0  0.980469\n",
       "4         79.0  0.012658"
      ]
     },
     "execution_count": 83,
     "metadata": {},
     "output_type": "execute_result"
    }
   ],
   "source": [
    "train_clusters.groupby(\"Cluster\")[\"Label\"].describe()[[\"count\",\"mean\"]]"
   ]
  },
  {
   "cell_type": "code",
   "execution_count": 84,
   "id": "a969356e",
   "metadata": {
    "execution": {
     "iopub.execute_input": "2023-03-13T11:01:27.232928Z",
     "iopub.status.busy": "2023-03-13T11:01:27.232481Z",
     "iopub.status.idle": "2023-03-13T11:01:27.258144Z",
     "shell.execute_reply": "2023-03-13T11:01:27.256683Z"
    },
    "papermill": {
     "duration": 0.052173,
     "end_time": "2023-03-13T11:01:27.260497",
     "exception": false,
     "start_time": "2023-03-13T11:01:27.208324",
     "status": "completed"
    },
    "tags": []
   },
   "outputs": [
    {
     "data": {
      "text/html": [
       "<div>\n",
       "<style scoped>\n",
       "    .dataframe tbody tr th:only-of-type {\n",
       "        vertical-align: middle;\n",
       "    }\n",
       "\n",
       "    .dataframe tbody tr th {\n",
       "        vertical-align: top;\n",
       "    }\n",
       "\n",
       "    .dataframe thead th {\n",
       "        text-align: right;\n",
       "    }\n",
       "</style>\n",
       "<table border=\"1\" class=\"dataframe\">\n",
       "  <thead>\n",
       "    <tr style=\"text-align: right;\">\n",
       "      <th></th>\n",
       "      <th>count</th>\n",
       "      <th>mean</th>\n",
       "    </tr>\n",
       "    <tr>\n",
       "      <th>Cluster</th>\n",
       "      <th></th>\n",
       "      <th></th>\n",
       "    </tr>\n",
       "  </thead>\n",
       "  <tbody>\n",
       "    <tr>\n",
       "      <th>0</th>\n",
       "      <td>65.0</td>\n",
       "      <td>0.000000</td>\n",
       "    </tr>\n",
       "    <tr>\n",
       "      <th>1</th>\n",
       "      <td>237.0</td>\n",
       "      <td>0.995781</td>\n",
       "    </tr>\n",
       "    <tr>\n",
       "      <th>2</th>\n",
       "      <td>93.0</td>\n",
       "      <td>0.010753</td>\n",
       "    </tr>\n",
       "    <tr>\n",
       "      <th>3</th>\n",
       "      <td>270.0</td>\n",
       "      <td>0.981481</td>\n",
       "    </tr>\n",
       "    <tr>\n",
       "      <th>4</th>\n",
       "      <td>85.0</td>\n",
       "      <td>0.000000</td>\n",
       "    </tr>\n",
       "  </tbody>\n",
       "</table>\n",
       "</div>"
      ],
      "text/plain": [
       "         count      mean\n",
       "Cluster                 \n",
       "0         65.0  0.000000\n",
       "1        237.0  0.995781\n",
       "2         93.0  0.010753\n",
       "3        270.0  0.981481\n",
       "4         85.0  0.000000"
      ]
     },
     "execution_count": 84,
     "metadata": {},
     "output_type": "execute_result"
    }
   ],
   "source": [
    "test_clusters.groupby(\"Cluster\")[\"Label\"].describe()[[\"count\",\"mean\"]]"
   ]
  },
  {
   "cell_type": "markdown",
   "id": "e722910a",
   "metadata": {
    "papermill": {
     "duration": 0.020758,
     "end_time": "2023-03-13T11:01:27.301699",
     "exception": false,
     "start_time": "2023-03-13T11:01:27.280941",
     "status": "completed"
    },
    "tags": []
   },
   "source": [
    "# Evaluating the Model "
   ]
  },
  {
   "cell_type": "code",
   "execution_count": 85,
   "id": "d403dfe8",
   "metadata": {
    "execution": {
     "iopub.execute_input": "2023-03-13T11:01:27.345895Z",
     "iopub.status.busy": "2023-03-13T11:01:27.345017Z",
     "iopub.status.idle": "2023-03-13T11:01:27.353603Z",
     "shell.execute_reply": "2023-03-13T11:01:27.352555Z"
    },
    "papermill": {
     "duration": 0.033142,
     "end_time": "2023-03-13T11:01:27.355968",
     "exception": false,
     "start_time": "2023-03-13T11:01:27.322826",
     "status": "completed"
    },
    "tags": []
   },
   "outputs": [],
   "source": [
    "#Applying the rule for each cluster\n",
    "\n",
    "train_clusters[\"Predicted\"] = np.where(((train_clusters[\"Cluster\"] == 1) | (train_clusters[\"Cluster\"] == 3)), 1, 0)\n",
    "test_clusters[\"Predicted\"] = np.where(((test_clusters[\"Cluster\"] == 1) | (test_clusters[\"Cluster\"] == 3)), 1, 0)"
   ]
  },
  {
   "attachments": {},
   "cell_type": "markdown",
   "id": "9f10ef3b",
   "metadata": {
    "papermill": {
     "duration": 0.02039,
     "end_time": "2023-03-13T11:01:27.397849",
     "exception": false,
     "start_time": "2023-03-13T11:01:27.377459",
     "status": "completed"
    },
    "tags": []
   },
   "source": [
    "Here we are saying that if your bill falls into clusters 1 or 3 we will consider it Genuine, if it falls in any other cluster, we will consider it Fake. "
   ]
  },
  {
   "cell_type": "code",
   "execution_count": 86,
   "id": "8db220e4",
   "metadata": {
    "execution": {
     "iopub.execute_input": "2023-03-13T11:01:27.441679Z",
     "iopub.status.busy": "2023-03-13T11:01:27.440428Z",
     "iopub.status.idle": "2023-03-13T11:01:27.460664Z",
     "shell.execute_reply": "2023-03-13T11:01:27.459137Z"
    },
    "papermill": {
     "duration": 0.044882,
     "end_time": "2023-03-13T11:01:27.463293",
     "exception": false,
     "start_time": "2023-03-13T11:01:27.418411",
     "status": "completed"
    },
    "tags": []
   },
   "outputs": [
    {
     "data": {
      "text/html": [
       "<div>\n",
       "<style scoped>\n",
       "    .dataframe tbody tr th:only-of-type {\n",
       "        vertical-align: middle;\n",
       "    }\n",
       "\n",
       "    .dataframe tbody tr th {\n",
       "        vertical-align: top;\n",
       "    }\n",
       "\n",
       "    .dataframe thead th {\n",
       "        text-align: right;\n",
       "    }\n",
       "</style>\n",
       "<table border=\"1\" class=\"dataframe\">\n",
       "  <thead>\n",
       "    <tr style=\"text-align: right;\">\n",
       "      <th>Label</th>\n",
       "      <th>0</th>\n",
       "      <th>1</th>\n",
       "    </tr>\n",
       "    <tr>\n",
       "      <th>Predicted</th>\n",
       "      <th></th>\n",
       "      <th></th>\n",
       "    </tr>\n",
       "  </thead>\n",
       "  <tbody>\n",
       "    <tr>\n",
       "      <th>0</th>\n",
       "      <td>246</td>\n",
       "      <td>2</td>\n",
       "    </tr>\n",
       "    <tr>\n",
       "      <th>1</th>\n",
       "      <td>6</td>\n",
       "      <td>496</td>\n",
       "    </tr>\n",
       "  </tbody>\n",
       "</table>\n",
       "</div>"
      ],
      "text/plain": [
       "Label        0    1\n",
       "Predicted          \n",
       "0          246    2\n",
       "1            6  496"
      ]
     },
     "execution_count": 86,
     "metadata": {},
     "output_type": "execute_result"
    }
   ],
   "source": [
    "#Confusion matrix for the training\n",
    "\n",
    "pd.crosstab(train_clusters[\"Predicted\"], train_clusters[\"Label\"])"
   ]
  },
  {
   "cell_type": "code",
   "execution_count": 87,
   "id": "6dcbf1f7",
   "metadata": {
    "execution": {
     "iopub.execute_input": "2023-03-13T11:01:27.506986Z",
     "iopub.status.busy": "2023-03-13T11:01:27.506546Z",
     "iopub.status.idle": "2023-03-13T11:01:27.526450Z",
     "shell.execute_reply": "2023-03-13T11:01:27.525541Z"
    },
    "papermill": {
     "duration": 0.044255,
     "end_time": "2023-03-13T11:01:27.528750",
     "exception": false,
     "start_time": "2023-03-13T11:01:27.484495",
     "status": "completed"
    },
    "tags": []
   },
   "outputs": [
    {
     "data": {
      "text/html": [
       "<div>\n",
       "<style scoped>\n",
       "    .dataframe tbody tr th:only-of-type {\n",
       "        vertical-align: middle;\n",
       "    }\n",
       "\n",
       "    .dataframe tbody tr th {\n",
       "        vertical-align: top;\n",
       "    }\n",
       "\n",
       "    .dataframe thead th {\n",
       "        text-align: right;\n",
       "    }\n",
       "</style>\n",
       "<table border=\"1\" class=\"dataframe\">\n",
       "  <thead>\n",
       "    <tr style=\"text-align: right;\">\n",
       "      <th>Label</th>\n",
       "      <th>0</th>\n",
       "      <th>1</th>\n",
       "    </tr>\n",
       "    <tr>\n",
       "      <th>Predicted</th>\n",
       "      <th></th>\n",
       "      <th></th>\n",
       "    </tr>\n",
       "  </thead>\n",
       "  <tbody>\n",
       "    <tr>\n",
       "      <th>0</th>\n",
       "      <td>242</td>\n",
       "      <td>1</td>\n",
       "    </tr>\n",
       "    <tr>\n",
       "      <th>1</th>\n",
       "      <td>6</td>\n",
       "      <td>501</td>\n",
       "    </tr>\n",
       "  </tbody>\n",
       "</table>\n",
       "</div>"
      ],
      "text/plain": [
       "Label        0    1\n",
       "Predicted          \n",
       "0          242    1\n",
       "1            6  501"
      ]
     },
     "execution_count": 87,
     "metadata": {},
     "output_type": "execute_result"
    }
   ],
   "source": [
    "#Confusion matrix for the test\n",
    "\n",
    "pd.crosstab(test_clusters[\"Predicted\"], test_clusters[\"Label\"])"
   ]
  },
  {
   "cell_type": "code",
   "execution_count": 88,
   "id": "82b4ca7f",
   "metadata": {
    "execution": {
     "iopub.execute_input": "2023-03-13T11:01:27.573243Z",
     "iopub.status.busy": "2023-03-13T11:01:27.572380Z",
     "iopub.status.idle": "2023-03-13T11:01:27.596803Z",
     "shell.execute_reply": "2023-03-13T11:01:27.595842Z"
    },
    "papermill": {
     "duration": 0.049696,
     "end_time": "2023-03-13T11:01:27.599452",
     "exception": false,
     "start_time": "2023-03-13T11:01:27.549756",
     "status": "completed"
    },
    "tags": []
   },
   "outputs": [],
   "source": [
    "acc_train = (\n",
    "            (pd.crosstab(train_clusters[\"Predicted\"], train_clusters[\"Label\"])[0][0]\n",
    "            +pd.crosstab(train_clusters[\"Predicted\"], train_clusters[\"Label\"])[1][1])/train_clusters.shape[0])"
   ]
  },
  {
   "cell_type": "code",
   "execution_count": 89,
   "id": "e8c7f802",
   "metadata": {
    "execution": {
     "iopub.execute_input": "2023-03-13T11:01:27.642829Z",
     "iopub.status.busy": "2023-03-13T11:01:27.642092Z",
     "iopub.status.idle": "2023-03-13T11:01:27.669067Z",
     "shell.execute_reply": "2023-03-13T11:01:27.668033Z"
    },
    "papermill": {
     "duration": 0.052017,
     "end_time": "2023-03-13T11:01:27.672102",
     "exception": false,
     "start_time": "2023-03-13T11:01:27.620085",
     "status": "completed"
    },
    "tags": []
   },
   "outputs": [],
   "source": [
    "acc_test = (\n",
    "            (pd.crosstab(test_clusters[\"Predicted\"], test_clusters[\"Label\"])[0][0]\n",
    "            +pd.crosstab(test_clusters[\"Predicted\"], test_clusters[\"Label\"])[1][1])/test_clusters.shape[0])"
   ]
  },
  {
   "cell_type": "code",
   "execution_count": 90,
   "id": "b06a9ef6",
   "metadata": {
    "execution": {
     "iopub.execute_input": "2023-03-13T11:01:27.715894Z",
     "iopub.status.busy": "2023-03-13T11:01:27.715475Z",
     "iopub.status.idle": "2023-03-13T11:01:27.722383Z",
     "shell.execute_reply": "2023-03-13T11:01:27.721137Z"
    },
    "papermill": {
     "duration": 0.032242,
     "end_time": "2023-03-13T11:01:27.725078",
     "exception": false,
     "start_time": "2023-03-13T11:01:27.692836",
     "status": "completed"
    },
    "tags": []
   },
   "outputs": [
    {
     "name": "stdout",
     "output_type": "stream",
     "text": [
      "Train Accuracy:  98.9 %\n",
      "\n",
      "Test Accuracy:  99.1 %\n"
     ]
    }
   ],
   "source": [
    "print(\"Train Accuracy: \", round(acc_train, 3)*100, \"%\")\n",
    "print()\n",
    "print(\"Test Accuracy: \", round(acc_test, 3)*100,\"%\")"
   ]
  }
 ],
 "metadata": {
  "kernelspec": {
   "display_name": "Python 3",
   "language": "python",
   "name": "python3"
  },
  "language_info": {
   "codemirror_mode": {
    "name": "ipython",
    "version": 3
   },
   "file_extension": ".py",
   "mimetype": "text/x-python",
   "name": "python",
   "nbconvert_exporter": "python",
   "pygments_lexer": "ipython3",
   "version": "3.8.10"
  },
  "papermill": {
   "default_parameters": {},
   "duration": 23.767399,
   "end_time": "2023-03-13T11:01:28.670542",
   "environment_variables": {},
   "exception": null,
   "input_path": "__notebook__.ipynb",
   "output_path": "__notebook__.ipynb",
   "parameters": {},
   "start_time": "2023-03-13T11:01:04.903143",
   "version": "2.4.0"
  },
  "vscode": {
   "interpreter": {
    "hash": "916dbcbb3f70747c44a77c7bcd40155683ae19c65e1c03b4aa3499c5328201f1"
   }
  }
 },
 "nbformat": 4,
 "nbformat_minor": 5
}
