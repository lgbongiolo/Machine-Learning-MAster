{
 "cells": [
  {
   "attachments": {},
   "cell_type": "markdown",
   "id": "d324a9b5",
   "metadata": {},
   "source": [
    "### Dataset Description\n",
    "\n",
    "In this competition your task is to predict whether a passenger was transported to an alternate dimension during the Spaceship Titanic's collision with the spacetime anomaly. To help you make these predictions, you're given a set of personal records recovered from the ship's damaged computer system.\n",
    "\n",
    "### File and Data Field Descriptions\n",
    "\n",
    "train.csv - Personal records for about two-thirds (~8700) of the passengers, to be used as training data.\n",
    "\n",
    "- PassengerId - A unique Id for each passenger. Each Id takes the form gggg_pp where gggg indicates a group the passenger is travelling with and pp is their number within the group. People in a group are often family members, but not always.\n",
    "- HomePlanet - The planet the passenger departed from, typically their planet of permanent residence.\n",
    "- CryoSleep - Indicates whether the passenger elected to be put into suspended animation for the duration of the voyage. Passengers in cryosleep are confined to their cabins.\n",
    "- Cabin - The cabin number where the passenger is staying. Takes the form deck/num/side, where side can be either P for Port or S for Starboard.\n",
    "- Destination - The planet the passenger will be debarking to.\n",
    "- Age - The age of the passenger.\n",
    "- VIP - Whether the passenger has paid for special VIP service during the voyage.\n",
    "- RoomService, FoodCourt, ShoppingMall, Spa, VRDeck - Amount the passenger has billed at each of the Spaceship Titanic's many luxury amenities.\n",
    "- Name - The first and last names of the passenger.\n",
    "- Transported - Whether the passenger was transported to another dimension. This is the target, the column you are trying to predict.\n",
    "\n",
    "test.csv - Personal records for the remaining one-third (~4300) of the passengers, to be used as test data. Your task is to predict the value of \n",
    "Transported for the passengers in this set.\n",
    "\n",
    "sample_submission.csv - A submission file in the correct format.\n",
    "\n",
    "- PassengerId - Id for each passenger in the test set.\n",
    "- Transported - The target. For each passenger, predict either True or False."
   ]
  },
  {
   "cell_type": "code",
   "execution_count": 1,
   "id": "8f919f56",
   "metadata": {
    "execution": {
     "iopub.execute_input": "2023-04-18T12:05:25.982514Z",
     "iopub.status.busy": "2023-04-18T12:05:25.982069Z",
     "iopub.status.idle": "2023-04-18T12:05:27.413903Z",
     "shell.execute_reply": "2023-04-18T12:05:27.412318Z"
    },
    "papermill": {
     "duration": 1.451705,
     "end_time": "2023-04-18T12:05:27.417097",
     "exception": false,
     "start_time": "2023-04-18T12:05:25.965392",
     "status": "completed"
    },
    "tags": []
   },
   "outputs": [],
   "source": [
    "import numpy as np\n",
    "import pandas as pd\n",
    "import seaborn as sns\n",
    "import matplotlib.pyplot as plt "
   ]
  },
  {
   "cell_type": "code",
   "execution_count": 2,
   "id": "9b9aa608",
   "metadata": {
    "execution": {
     "iopub.execute_input": "2023-04-18T12:05:27.453165Z",
     "iopub.status.busy": "2023-04-18T12:05:27.451610Z",
     "iopub.status.idle": "2023-04-18T12:05:27.603476Z",
     "shell.execute_reply": "2023-04-18T12:05:27.601760Z"
    },
    "papermill": {
     "duration": 0.171081,
     "end_time": "2023-04-18T12:05:27.606590",
     "exception": false,
     "start_time": "2023-04-18T12:05:27.435509",
     "status": "completed"
    },
    "tags": []
   },
   "outputs": [
    {
     "data": {
      "text/html": [
       "<div>\n",
       "<style scoped>\n",
       "    .dataframe tbody tr th:only-of-type {\n",
       "        vertical-align: middle;\n",
       "    }\n",
       "\n",
       "    .dataframe tbody tr th {\n",
       "        vertical-align: top;\n",
       "    }\n",
       "\n",
       "    .dataframe thead th {\n",
       "        text-align: right;\n",
       "    }\n",
       "</style>\n",
       "<table border=\"1\" class=\"dataframe\">\n",
       "  <thead>\n",
       "    <tr style=\"text-align: right;\">\n",
       "      <th></th>\n",
       "      <th>PassengerId</th>\n",
       "      <th>HomePlanet</th>\n",
       "      <th>CryoSleep</th>\n",
       "      <th>Cabin</th>\n",
       "      <th>Destination</th>\n",
       "      <th>Age</th>\n",
       "      <th>VIP</th>\n",
       "      <th>RoomService</th>\n",
       "      <th>FoodCourt</th>\n",
       "      <th>ShoppingMall</th>\n",
       "      <th>Spa</th>\n",
       "      <th>VRDeck</th>\n",
       "      <th>Name</th>\n",
       "      <th>Transported</th>\n",
       "    </tr>\n",
       "  </thead>\n",
       "  <tbody>\n",
       "    <tr>\n",
       "      <th>0</th>\n",
       "      <td>0001_01</td>\n",
       "      <td>Europa</td>\n",
       "      <td>False</td>\n",
       "      <td>B/0/P</td>\n",
       "      <td>TRAPPIST-1e</td>\n",
       "      <td>39.0</td>\n",
       "      <td>False</td>\n",
       "      <td>0.0</td>\n",
       "      <td>0.0</td>\n",
       "      <td>0.0</td>\n",
       "      <td>0.0</td>\n",
       "      <td>0.0</td>\n",
       "      <td>Maham Ofracculy</td>\n",
       "      <td>False</td>\n",
       "    </tr>\n",
       "    <tr>\n",
       "      <th>1</th>\n",
       "      <td>0002_01</td>\n",
       "      <td>Earth</td>\n",
       "      <td>False</td>\n",
       "      <td>F/0/S</td>\n",
       "      <td>TRAPPIST-1e</td>\n",
       "      <td>24.0</td>\n",
       "      <td>False</td>\n",
       "      <td>109.0</td>\n",
       "      <td>9.0</td>\n",
       "      <td>25.0</td>\n",
       "      <td>549.0</td>\n",
       "      <td>44.0</td>\n",
       "      <td>Juanna Vines</td>\n",
       "      <td>True</td>\n",
       "    </tr>\n",
       "    <tr>\n",
       "      <th>2</th>\n",
       "      <td>0003_01</td>\n",
       "      <td>Europa</td>\n",
       "      <td>False</td>\n",
       "      <td>A/0/S</td>\n",
       "      <td>TRAPPIST-1e</td>\n",
       "      <td>58.0</td>\n",
       "      <td>True</td>\n",
       "      <td>43.0</td>\n",
       "      <td>3576.0</td>\n",
       "      <td>0.0</td>\n",
       "      <td>6715.0</td>\n",
       "      <td>49.0</td>\n",
       "      <td>Altark Susent</td>\n",
       "      <td>False</td>\n",
       "    </tr>\n",
       "    <tr>\n",
       "      <th>3</th>\n",
       "      <td>0003_02</td>\n",
       "      <td>Europa</td>\n",
       "      <td>False</td>\n",
       "      <td>A/0/S</td>\n",
       "      <td>TRAPPIST-1e</td>\n",
       "      <td>33.0</td>\n",
       "      <td>False</td>\n",
       "      <td>0.0</td>\n",
       "      <td>1283.0</td>\n",
       "      <td>371.0</td>\n",
       "      <td>3329.0</td>\n",
       "      <td>193.0</td>\n",
       "      <td>Solam Susent</td>\n",
       "      <td>False</td>\n",
       "    </tr>\n",
       "    <tr>\n",
       "      <th>4</th>\n",
       "      <td>0004_01</td>\n",
       "      <td>Earth</td>\n",
       "      <td>False</td>\n",
       "      <td>F/1/S</td>\n",
       "      <td>TRAPPIST-1e</td>\n",
       "      <td>16.0</td>\n",
       "      <td>False</td>\n",
       "      <td>303.0</td>\n",
       "      <td>70.0</td>\n",
       "      <td>151.0</td>\n",
       "      <td>565.0</td>\n",
       "      <td>2.0</td>\n",
       "      <td>Willy Santantines</td>\n",
       "      <td>True</td>\n",
       "    </tr>\n",
       "    <tr>\n",
       "      <th>...</th>\n",
       "      <td>...</td>\n",
       "      <td>...</td>\n",
       "      <td>...</td>\n",
       "      <td>...</td>\n",
       "      <td>...</td>\n",
       "      <td>...</td>\n",
       "      <td>...</td>\n",
       "      <td>...</td>\n",
       "      <td>...</td>\n",
       "      <td>...</td>\n",
       "      <td>...</td>\n",
       "      <td>...</td>\n",
       "      <td>...</td>\n",
       "      <td>...</td>\n",
       "    </tr>\n",
       "    <tr>\n",
       "      <th>8688</th>\n",
       "      <td>9276_01</td>\n",
       "      <td>Europa</td>\n",
       "      <td>False</td>\n",
       "      <td>A/98/P</td>\n",
       "      <td>55 Cancri e</td>\n",
       "      <td>41.0</td>\n",
       "      <td>True</td>\n",
       "      <td>0.0</td>\n",
       "      <td>6819.0</td>\n",
       "      <td>0.0</td>\n",
       "      <td>1643.0</td>\n",
       "      <td>74.0</td>\n",
       "      <td>Gravior Noxnuther</td>\n",
       "      <td>False</td>\n",
       "    </tr>\n",
       "    <tr>\n",
       "      <th>8689</th>\n",
       "      <td>9278_01</td>\n",
       "      <td>Earth</td>\n",
       "      <td>True</td>\n",
       "      <td>G/1499/S</td>\n",
       "      <td>PSO J318.5-22</td>\n",
       "      <td>18.0</td>\n",
       "      <td>False</td>\n",
       "      <td>0.0</td>\n",
       "      <td>0.0</td>\n",
       "      <td>0.0</td>\n",
       "      <td>0.0</td>\n",
       "      <td>0.0</td>\n",
       "      <td>Kurta Mondalley</td>\n",
       "      <td>False</td>\n",
       "    </tr>\n",
       "    <tr>\n",
       "      <th>8690</th>\n",
       "      <td>9279_01</td>\n",
       "      <td>Earth</td>\n",
       "      <td>False</td>\n",
       "      <td>G/1500/S</td>\n",
       "      <td>TRAPPIST-1e</td>\n",
       "      <td>26.0</td>\n",
       "      <td>False</td>\n",
       "      <td>0.0</td>\n",
       "      <td>0.0</td>\n",
       "      <td>1872.0</td>\n",
       "      <td>1.0</td>\n",
       "      <td>0.0</td>\n",
       "      <td>Fayey Connon</td>\n",
       "      <td>True</td>\n",
       "    </tr>\n",
       "    <tr>\n",
       "      <th>8691</th>\n",
       "      <td>9280_01</td>\n",
       "      <td>Europa</td>\n",
       "      <td>False</td>\n",
       "      <td>E/608/S</td>\n",
       "      <td>55 Cancri e</td>\n",
       "      <td>32.0</td>\n",
       "      <td>False</td>\n",
       "      <td>0.0</td>\n",
       "      <td>1049.0</td>\n",
       "      <td>0.0</td>\n",
       "      <td>353.0</td>\n",
       "      <td>3235.0</td>\n",
       "      <td>Celeon Hontichre</td>\n",
       "      <td>False</td>\n",
       "    </tr>\n",
       "    <tr>\n",
       "      <th>8692</th>\n",
       "      <td>9280_02</td>\n",
       "      <td>Europa</td>\n",
       "      <td>False</td>\n",
       "      <td>E/608/S</td>\n",
       "      <td>TRAPPIST-1e</td>\n",
       "      <td>44.0</td>\n",
       "      <td>False</td>\n",
       "      <td>126.0</td>\n",
       "      <td>4688.0</td>\n",
       "      <td>0.0</td>\n",
       "      <td>0.0</td>\n",
       "      <td>12.0</td>\n",
       "      <td>Propsh Hontichre</td>\n",
       "      <td>True</td>\n",
       "    </tr>\n",
       "  </tbody>\n",
       "</table>\n",
       "<p>8693 rows × 14 columns</p>\n",
       "</div>"
      ],
      "text/plain": [
       "     PassengerId HomePlanet CryoSleep     Cabin    Destination   Age    VIP  \\\n",
       "0        0001_01     Europa     False     B/0/P    TRAPPIST-1e  39.0  False   \n",
       "1        0002_01      Earth     False     F/0/S    TRAPPIST-1e  24.0  False   \n",
       "2        0003_01     Europa     False     A/0/S    TRAPPIST-1e  58.0   True   \n",
       "3        0003_02     Europa     False     A/0/S    TRAPPIST-1e  33.0  False   \n",
       "4        0004_01      Earth     False     F/1/S    TRAPPIST-1e  16.0  False   \n",
       "...          ...        ...       ...       ...            ...   ...    ...   \n",
       "8688     9276_01     Europa     False    A/98/P    55 Cancri e  41.0   True   \n",
       "8689     9278_01      Earth      True  G/1499/S  PSO J318.5-22  18.0  False   \n",
       "8690     9279_01      Earth     False  G/1500/S    TRAPPIST-1e  26.0  False   \n",
       "8691     9280_01     Europa     False   E/608/S    55 Cancri e  32.0  False   \n",
       "8692     9280_02     Europa     False   E/608/S    TRAPPIST-1e  44.0  False   \n",
       "\n",
       "      RoomService  FoodCourt  ShoppingMall     Spa  VRDeck               Name  \\\n",
       "0             0.0        0.0           0.0     0.0     0.0    Maham Ofracculy   \n",
       "1           109.0        9.0          25.0   549.0    44.0       Juanna Vines   \n",
       "2            43.0     3576.0           0.0  6715.0    49.0      Altark Susent   \n",
       "3             0.0     1283.0         371.0  3329.0   193.0       Solam Susent   \n",
       "4           303.0       70.0         151.0   565.0     2.0  Willy Santantines   \n",
       "...           ...        ...           ...     ...     ...                ...   \n",
       "8688          0.0     6819.0           0.0  1643.0    74.0  Gravior Noxnuther   \n",
       "8689          0.0        0.0           0.0     0.0     0.0    Kurta Mondalley   \n",
       "8690          0.0        0.0        1872.0     1.0     0.0       Fayey Connon   \n",
       "8691          0.0     1049.0           0.0   353.0  3235.0   Celeon Hontichre   \n",
       "8692        126.0     4688.0           0.0     0.0    12.0   Propsh Hontichre   \n",
       "\n",
       "      Transported  \n",
       "0           False  \n",
       "1            True  \n",
       "2           False  \n",
       "3           False  \n",
       "4            True  \n",
       "...           ...  \n",
       "8688        False  \n",
       "8689        False  \n",
       "8690         True  \n",
       "8691        False  \n",
       "8692         True  \n",
       "\n",
       "[8693 rows x 14 columns]"
      ]
     },
     "execution_count": 2,
     "metadata": {},
     "output_type": "execute_result"
    }
   ],
   "source": [
    "#load data\n",
    "\n",
    "#df = pd.read_csv(\"/kaggle/input/spaceship-titanic/train.csv\")\n",
    "df = pd.read_csv(\"train.csv\")\n",
    "\n",
    "#df2 = pd.read_csv(\"/kaggle/input/spaceship-titanic/test.csv\")\n",
    "df2 = pd.read_csv(\"test.csv\")\n",
    "\n",
    "#df3 = pd.read_csv(\"/kaggle/input/spaceship-titanic/sample_submission.csv\")\n",
    "df3 = pd.read_csv(\"sample_submission.csv\")\n",
    "\n",
    "df\n",
    "\n",
    "\n"
   ]
  },
  {
   "cell_type": "code",
   "execution_count": 3,
   "id": "958988ee",
   "metadata": {
    "execution": {
     "iopub.execute_input": "2023-04-18T12:05:27.636484Z",
     "iopub.status.busy": "2023-04-18T12:05:27.635645Z",
     "iopub.status.idle": "2023-04-18T12:05:27.645952Z",
     "shell.execute_reply": "2023-04-18T12:05:27.644739Z"
    },
    "papermill": {
     "duration": 0.028014,
     "end_time": "2023-04-18T12:05:27.648811",
     "exception": false,
     "start_time": "2023-04-18T12:05:27.620797",
     "status": "completed"
    },
    "tags": []
   },
   "outputs": [
    {
     "data": {
      "text/plain": [
       "PassengerId      object\n",
       "HomePlanet       object\n",
       "CryoSleep        object\n",
       "Cabin            object\n",
       "Destination      object\n",
       "Age             float64\n",
       "VIP              object\n",
       "RoomService     float64\n",
       "FoodCourt       float64\n",
       "ShoppingMall    float64\n",
       "Spa             float64\n",
       "VRDeck          float64\n",
       "Name             object\n",
       "Transported        bool\n",
       "dtype: object"
      ]
     },
     "execution_count": 3,
     "metadata": {},
     "output_type": "execute_result"
    }
   ],
   "source": [
    "df.dtypes"
   ]
  },
  {
   "cell_type": "code",
   "execution_count": 4,
   "id": "14274c37",
   "metadata": {
    "execution": {
     "iopub.execute_input": "2023-04-18T12:05:27.679250Z",
     "iopub.status.busy": "2023-04-18T12:05:27.678774Z",
     "iopub.status.idle": "2023-04-18T12:05:27.693488Z",
     "shell.execute_reply": "2023-04-18T12:05:27.692064Z"
    },
    "papermill": {
     "duration": 0.032603,
     "end_time": "2023-04-18T12:05:27.696326",
     "exception": false,
     "start_time": "2023-04-18T12:05:27.663723",
     "status": "completed"
    },
    "tags": []
   },
   "outputs": [
    {
     "data": {
      "text/plain": [
       "PassengerId       0\n",
       "HomePlanet      201\n",
       "CryoSleep       217\n",
       "Cabin           199\n",
       "Destination     182\n",
       "Age             179\n",
       "VIP             203\n",
       "RoomService     181\n",
       "FoodCourt       183\n",
       "ShoppingMall    208\n",
       "Spa             183\n",
       "VRDeck          188\n",
       "Name            200\n",
       "Transported       0\n",
       "dtype: int64"
      ]
     },
     "execution_count": 4,
     "metadata": {},
     "output_type": "execute_result"
    }
   ],
   "source": [
    "df.isna().sum()"
   ]
  },
  {
   "cell_type": "code",
   "execution_count": 5,
   "id": "ab0fcb5e",
   "metadata": {
    "execution": {
     "iopub.execute_input": "2023-04-18T12:05:27.726634Z",
     "iopub.status.busy": "2023-04-18T12:05:27.726181Z",
     "iopub.status.idle": "2023-04-18T12:05:27.738526Z",
     "shell.execute_reply": "2023-04-18T12:05:27.737199Z"
    },
    "papermill": {
     "duration": 0.030864,
     "end_time": "2023-04-18T12:05:27.741320",
     "exception": false,
     "start_time": "2023-04-18T12:05:27.710456",
     "status": "completed"
    },
    "tags": []
   },
   "outputs": [],
   "source": [
    "#First I will fill the age with the mean \n",
    "\n",
    "df['Age'] = df['Age'].fillna(value=df[\"Age\"].mean())\n",
    "\n",
    "df2['Age'] = df2['Age'].fillna(value=df2[\"Age\"].mean())"
   ]
  },
  {
   "cell_type": "code",
   "execution_count": 6,
   "id": "acca64b9",
   "metadata": {
    "execution": {
     "iopub.execute_input": "2023-04-18T12:05:27.771614Z",
     "iopub.status.busy": "2023-04-18T12:05:27.771146Z",
     "iopub.status.idle": "2023-04-18T12:05:27.810011Z",
     "shell.execute_reply": "2023-04-18T12:05:27.808254Z"
    },
    "papermill": {
     "duration": 0.057381,
     "end_time": "2023-04-18T12:05:27.813001",
     "exception": false,
     "start_time": "2023-04-18T12:05:27.755620",
     "status": "completed"
    },
    "tags": []
   },
   "outputs": [
    {
     "name": "stdout",
     "output_type": "stream",
     "text": [
      "Earth     4602\n",
      "Europa    2131\n",
      "Mars      1759\n",
      "Name: HomePlanet, dtype: int64\n",
      "-------\n",
      "False    5439\n",
      "True     3037\n",
      "Name: CryoSleep, dtype: int64\n",
      "-------\n",
      "G/734/S     8\n",
      "G/109/P     7\n",
      "B/201/P     7\n",
      "G/1368/P    7\n",
      "G/981/S     7\n",
      "           ..\n",
      "G/556/P     1\n",
      "E/231/S     1\n",
      "G/545/S     1\n",
      "G/543/S     1\n",
      "F/947/P     1\n",
      "Name: Cabin, Length: 6560, dtype: int64\n",
      "-------\n",
      "TRAPPIST-1e      5915\n",
      "55 Cancri e      1800\n",
      "PSO J318.5-22     796\n",
      "Name: Destination, dtype: int64\n",
      "-------\n",
      "False    8291\n",
      "True      199\n",
      "Name: VIP, dtype: int64\n",
      "-------\n",
      "0.0       5577\n",
      "1.0        117\n",
      "2.0         79\n",
      "3.0         61\n",
      "4.0         47\n",
      "          ... \n",
      "1612.0       1\n",
      "2598.0       1\n",
      "632.0        1\n",
      "378.0        1\n",
      "745.0        1\n",
      "Name: RoomService, Length: 1273, dtype: int64\n",
      "-------\n",
      "0.0       5456\n",
      "1.0        116\n",
      "2.0         75\n",
      "3.0         53\n",
      "4.0         53\n",
      "          ... \n",
      "3846.0       1\n",
      "5193.0       1\n",
      "312.0        1\n",
      "827.0        1\n",
      "4688.0       1\n",
      "Name: FoodCourt, Length: 1507, dtype: int64\n",
      "-------\n",
      "0.0       5587\n",
      "1.0        153\n",
      "2.0         80\n",
      "3.0         59\n",
      "4.0         45\n",
      "          ... \n",
      "3627.0       1\n",
      "2074.0       1\n",
      "871.0        1\n",
      "742.0        1\n",
      "1872.0       1\n",
      "Name: ShoppingMall, Length: 1115, dtype: int64\n",
      "-------\n",
      "0.0       5495\n",
      "1.0        139\n",
      "2.0         70\n",
      "3.0         56\n",
      "5.0         51\n",
      "          ... \n",
      "408.0        1\n",
      "876.0        1\n",
      "2891.0       1\n",
      "2102.0       1\n",
      "3235.0       1\n",
      "Name: VRDeck, Length: 1306, dtype: int64\n",
      "-------\n",
      "0.0       5324\n",
      "1.0        146\n",
      "2.0        105\n",
      "5.0         53\n",
      "3.0         53\n",
      "          ... \n",
      "273.0        1\n",
      "2581.0       1\n",
      "2948.0       1\n",
      "3778.0       1\n",
      "1643.0       1\n",
      "Name: Spa, Length: 1327, dtype: int64\n",
      "-------\n"
     ]
    }
   ],
   "source": [
    "#Check the mode \n",
    "\n",
    "print(df.HomePlanet.value_counts())\n",
    "print(\"-------\")\n",
    "print(df.CryoSleep.value_counts())\n",
    "print(\"-------\")\n",
    "print(df.Cabin.value_counts())\n",
    "print(\"-------\")\n",
    "print(df.Destination.value_counts())\n",
    "print(\"-------\")\n",
    "print(df.VIP.value_counts())\n",
    "print(\"-------\")\n",
    "print(df.RoomService.value_counts())\n",
    "print(\"-------\")\n",
    "print(df.FoodCourt.value_counts())\n",
    "print(\"-------\")\n",
    "print(df.ShoppingMall.value_counts())\n",
    "print(\"-------\")\n",
    "print(df.VRDeck.value_counts())\n",
    "print(\"-------\")\n",
    "print(df.Spa.value_counts())\n",
    "print(\"-------\")\n",
    "\n"
   ]
  },
  {
   "cell_type": "code",
   "execution_count": 7,
   "id": "5fdfcdbf",
   "metadata": {
    "execution": {
     "iopub.execute_input": "2023-04-18T12:05:27.843079Z",
     "iopub.status.busy": "2023-04-18T12:05:27.842674Z",
     "iopub.status.idle": "2023-04-18T12:05:27.867092Z",
     "shell.execute_reply": "2023-04-18T12:05:27.865200Z"
    },
    "papermill": {
     "duration": 0.043711,
     "end_time": "2023-04-18T12:05:27.870470",
     "exception": false,
     "start_time": "2023-04-18T12:05:27.826759",
     "status": "completed"
    },
    "tags": []
   },
   "outputs": [],
   "source": [
    "#Lets fill the NaN for train and test dataset with the mode\n",
    "df['HomePlanet'] = df['HomePlanet'].fillna(value=\"Earth\")\n",
    "df['CryoSleep'] = df['CryoSleep'].fillna(value=\"False\")\n",
    "df['Cabin'] = df['Cabin'].fillna(value=0.0)\n",
    "df['Destination'] = df['Destination'].fillna(value=\"TRAPPIST-1e\")\n",
    "df['VIP'] = df['VIP'].fillna(value=\"False\")\n",
    "df['RoomService'] = df['RoomService'].fillna(value=0.0)\n",
    "df['FoodCourt'] = df['FoodCourt'].fillna(value=0.0)\n",
    "df['ShoppingMall'] = df['ShoppingMall'].fillna(value=0.0)\n",
    "df['VRDeck'] = df['VRDeck'].fillna(value=0.0)\n",
    "df['Spa'] = df['Spa'].fillna(value=0.0)\n",
    "df['Name'] = df['Name'].fillna(method=\"ffill\")\n"
   ]
  },
  {
   "cell_type": "code",
   "execution_count": 8,
   "id": "ca51bfb4",
   "metadata": {
    "execution": {
     "iopub.execute_input": "2023-04-18T12:05:27.903614Z",
     "iopub.status.busy": "2023-04-18T12:05:27.902455Z",
     "iopub.status.idle": "2023-04-18T12:05:27.918720Z",
     "shell.execute_reply": "2023-04-18T12:05:27.917268Z"
    },
    "papermill": {
     "duration": 0.036309,
     "end_time": "2023-04-18T12:05:27.921491",
     "exception": false,
     "start_time": "2023-04-18T12:05:27.885182",
     "status": "completed"
    },
    "tags": []
   },
   "outputs": [
    {
     "data": {
      "text/plain": [
       "PassengerId     0\n",
       "HomePlanet      0\n",
       "CryoSleep       0\n",
       "Cabin           0\n",
       "Destination     0\n",
       "Age             0\n",
       "VIP             0\n",
       "RoomService     0\n",
       "FoodCourt       0\n",
       "ShoppingMall    0\n",
       "Spa             0\n",
       "VRDeck          0\n",
       "Name            0\n",
       "Transported     0\n",
       "dtype: int64"
      ]
     },
     "execution_count": 8,
     "metadata": {},
     "output_type": "execute_result"
    }
   ],
   "source": [
    "df.isnull().sum()"
   ]
  },
  {
   "cell_type": "code",
   "execution_count": 9,
   "id": "eaec2571",
   "metadata": {
    "execution": {
     "iopub.execute_input": "2023-04-18T12:05:27.952356Z",
     "iopub.status.busy": "2023-04-18T12:05:27.951874Z",
     "iopub.status.idle": "2023-04-18T12:05:27.998487Z",
     "shell.execute_reply": "2023-04-18T12:05:27.997020Z"
    },
    "papermill": {
     "duration": 0.065166,
     "end_time": "2023-04-18T12:05:28.001213",
     "exception": false,
     "start_time": "2023-04-18T12:05:27.936047",
     "status": "completed"
    },
    "tags": []
   },
   "outputs": [
    {
     "data": {
      "text/html": [
       "<div>\n",
       "<style scoped>\n",
       "    .dataframe tbody tr th:only-of-type {\n",
       "        vertical-align: middle;\n",
       "    }\n",
       "\n",
       "    .dataframe tbody tr th {\n",
       "        vertical-align: top;\n",
       "    }\n",
       "\n",
       "    .dataframe thead th {\n",
       "        text-align: right;\n",
       "    }\n",
       "</style>\n",
       "<table border=\"1\" class=\"dataframe\">\n",
       "  <thead>\n",
       "    <tr style=\"text-align: right;\">\n",
       "      <th></th>\n",
       "      <th>PassengerId</th>\n",
       "      <th>HomePlanet</th>\n",
       "      <th>CryoSleep</th>\n",
       "      <th>Cabin</th>\n",
       "      <th>Destination</th>\n",
       "      <th>Age</th>\n",
       "      <th>VIP</th>\n",
       "      <th>RoomService</th>\n",
       "      <th>FoodCourt</th>\n",
       "      <th>ShoppingMall</th>\n",
       "      <th>Spa</th>\n",
       "      <th>VRDeck</th>\n",
       "      <th>Name</th>\n",
       "      <th>Transported</th>\n",
       "    </tr>\n",
       "  </thead>\n",
       "  <tbody>\n",
       "    <tr>\n",
       "      <th>0</th>\n",
       "      <td>0001_01</td>\n",
       "      <td>1</td>\n",
       "      <td>1</td>\n",
       "      <td>B/0/P</td>\n",
       "      <td>1</td>\n",
       "      <td>39.0</td>\n",
       "      <td>1</td>\n",
       "      <td>0.0</td>\n",
       "      <td>0.0</td>\n",
       "      <td>0.0</td>\n",
       "      <td>0.0</td>\n",
       "      <td>0.0</td>\n",
       "      <td>Maham Ofracculy</td>\n",
       "      <td>0</td>\n",
       "    </tr>\n",
       "    <tr>\n",
       "      <th>1</th>\n",
       "      <td>0002_01</td>\n",
       "      <td>2</td>\n",
       "      <td>1</td>\n",
       "      <td>F/0/S</td>\n",
       "      <td>1</td>\n",
       "      <td>24.0</td>\n",
       "      <td>1</td>\n",
       "      <td>109.0</td>\n",
       "      <td>9.0</td>\n",
       "      <td>25.0</td>\n",
       "      <td>549.0</td>\n",
       "      <td>44.0</td>\n",
       "      <td>Juanna Vines</td>\n",
       "      <td>1</td>\n",
       "    </tr>\n",
       "    <tr>\n",
       "      <th>2</th>\n",
       "      <td>0003_01</td>\n",
       "      <td>1</td>\n",
       "      <td>1</td>\n",
       "      <td>A/0/S</td>\n",
       "      <td>1</td>\n",
       "      <td>58.0</td>\n",
       "      <td>2</td>\n",
       "      <td>43.0</td>\n",
       "      <td>3576.0</td>\n",
       "      <td>0.0</td>\n",
       "      <td>6715.0</td>\n",
       "      <td>49.0</td>\n",
       "      <td>Altark Susent</td>\n",
       "      <td>0</td>\n",
       "    </tr>\n",
       "    <tr>\n",
       "      <th>3</th>\n",
       "      <td>0003_02</td>\n",
       "      <td>1</td>\n",
       "      <td>1</td>\n",
       "      <td>A/0/S</td>\n",
       "      <td>1</td>\n",
       "      <td>33.0</td>\n",
       "      <td>1</td>\n",
       "      <td>0.0</td>\n",
       "      <td>1283.0</td>\n",
       "      <td>371.0</td>\n",
       "      <td>3329.0</td>\n",
       "      <td>193.0</td>\n",
       "      <td>Solam Susent</td>\n",
       "      <td>0</td>\n",
       "    </tr>\n",
       "    <tr>\n",
       "      <th>4</th>\n",
       "      <td>0004_01</td>\n",
       "      <td>2</td>\n",
       "      <td>1</td>\n",
       "      <td>F/1/S</td>\n",
       "      <td>1</td>\n",
       "      <td>16.0</td>\n",
       "      <td>1</td>\n",
       "      <td>303.0</td>\n",
       "      <td>70.0</td>\n",
       "      <td>151.0</td>\n",
       "      <td>565.0</td>\n",
       "      <td>2.0</td>\n",
       "      <td>Willy Santantines</td>\n",
       "      <td>1</td>\n",
       "    </tr>\n",
       "    <tr>\n",
       "      <th>...</th>\n",
       "      <td>...</td>\n",
       "      <td>...</td>\n",
       "      <td>...</td>\n",
       "      <td>...</td>\n",
       "      <td>...</td>\n",
       "      <td>...</td>\n",
       "      <td>...</td>\n",
       "      <td>...</td>\n",
       "      <td>...</td>\n",
       "      <td>...</td>\n",
       "      <td>...</td>\n",
       "      <td>...</td>\n",
       "      <td>...</td>\n",
       "      <td>...</td>\n",
       "    </tr>\n",
       "    <tr>\n",
       "      <th>8688</th>\n",
       "      <td>9276_01</td>\n",
       "      <td>1</td>\n",
       "      <td>1</td>\n",
       "      <td>A/98/P</td>\n",
       "      <td>3</td>\n",
       "      <td>41.0</td>\n",
       "      <td>2</td>\n",
       "      <td>0.0</td>\n",
       "      <td>6819.0</td>\n",
       "      <td>0.0</td>\n",
       "      <td>1643.0</td>\n",
       "      <td>74.0</td>\n",
       "      <td>Gravior Noxnuther</td>\n",
       "      <td>0</td>\n",
       "    </tr>\n",
       "    <tr>\n",
       "      <th>8689</th>\n",
       "      <td>9278_01</td>\n",
       "      <td>2</td>\n",
       "      <td>2</td>\n",
       "      <td>G/1499/S</td>\n",
       "      <td>2</td>\n",
       "      <td>18.0</td>\n",
       "      <td>1</td>\n",
       "      <td>0.0</td>\n",
       "      <td>0.0</td>\n",
       "      <td>0.0</td>\n",
       "      <td>0.0</td>\n",
       "      <td>0.0</td>\n",
       "      <td>Kurta Mondalley</td>\n",
       "      <td>0</td>\n",
       "    </tr>\n",
       "    <tr>\n",
       "      <th>8690</th>\n",
       "      <td>9279_01</td>\n",
       "      <td>2</td>\n",
       "      <td>1</td>\n",
       "      <td>G/1500/S</td>\n",
       "      <td>1</td>\n",
       "      <td>26.0</td>\n",
       "      <td>1</td>\n",
       "      <td>0.0</td>\n",
       "      <td>0.0</td>\n",
       "      <td>1872.0</td>\n",
       "      <td>1.0</td>\n",
       "      <td>0.0</td>\n",
       "      <td>Fayey Connon</td>\n",
       "      <td>1</td>\n",
       "    </tr>\n",
       "    <tr>\n",
       "      <th>8691</th>\n",
       "      <td>9280_01</td>\n",
       "      <td>1</td>\n",
       "      <td>1</td>\n",
       "      <td>E/608/S</td>\n",
       "      <td>3</td>\n",
       "      <td>32.0</td>\n",
       "      <td>1</td>\n",
       "      <td>0.0</td>\n",
       "      <td>1049.0</td>\n",
       "      <td>0.0</td>\n",
       "      <td>353.0</td>\n",
       "      <td>3235.0</td>\n",
       "      <td>Celeon Hontichre</td>\n",
       "      <td>0</td>\n",
       "    </tr>\n",
       "    <tr>\n",
       "      <th>8692</th>\n",
       "      <td>9280_02</td>\n",
       "      <td>1</td>\n",
       "      <td>1</td>\n",
       "      <td>E/608/S</td>\n",
       "      <td>1</td>\n",
       "      <td>44.0</td>\n",
       "      <td>1</td>\n",
       "      <td>126.0</td>\n",
       "      <td>4688.0</td>\n",
       "      <td>0.0</td>\n",
       "      <td>0.0</td>\n",
       "      <td>12.0</td>\n",
       "      <td>Propsh Hontichre</td>\n",
       "      <td>1</td>\n",
       "    </tr>\n",
       "  </tbody>\n",
       "</table>\n",
       "<p>8693 rows × 14 columns</p>\n",
       "</div>"
      ],
      "text/plain": [
       "     PassengerId  HomePlanet  CryoSleep     Cabin  Destination   Age  VIP  \\\n",
       "0        0001_01           1          1     B/0/P            1  39.0    1   \n",
       "1        0002_01           2          1     F/0/S            1  24.0    1   \n",
       "2        0003_01           1          1     A/0/S            1  58.0    2   \n",
       "3        0003_02           1          1     A/0/S            1  33.0    1   \n",
       "4        0004_01           2          1     F/1/S            1  16.0    1   \n",
       "...          ...         ...        ...       ...          ...   ...  ...   \n",
       "8688     9276_01           1          1    A/98/P            3  41.0    2   \n",
       "8689     9278_01           2          2  G/1499/S            2  18.0    1   \n",
       "8690     9279_01           2          1  G/1500/S            1  26.0    1   \n",
       "8691     9280_01           1          1   E/608/S            3  32.0    1   \n",
       "8692     9280_02           1          1   E/608/S            1  44.0    1   \n",
       "\n",
       "      RoomService  FoodCourt  ShoppingMall     Spa  VRDeck               Name  \\\n",
       "0             0.0        0.0           0.0     0.0     0.0    Maham Ofracculy   \n",
       "1           109.0        9.0          25.0   549.0    44.0       Juanna Vines   \n",
       "2            43.0     3576.0           0.0  6715.0    49.0      Altark Susent   \n",
       "3             0.0     1283.0         371.0  3329.0   193.0       Solam Susent   \n",
       "4           303.0       70.0         151.0   565.0     2.0  Willy Santantines   \n",
       "...           ...        ...           ...     ...     ...                ...   \n",
       "8688          0.0     6819.0           0.0  1643.0    74.0  Gravior Noxnuther   \n",
       "8689          0.0        0.0           0.0     0.0     0.0    Kurta Mondalley   \n",
       "8690          0.0        0.0        1872.0     1.0     0.0       Fayey Connon   \n",
       "8691          0.0     1049.0           0.0   353.0  3235.0   Celeon Hontichre   \n",
       "8692        126.0     4688.0           0.0     0.0    12.0   Propsh Hontichre   \n",
       "\n",
       "      Transported  \n",
       "0               0  \n",
       "1               1  \n",
       "2               0  \n",
       "3               0  \n",
       "4               1  \n",
       "...           ...  \n",
       "8688            0  \n",
       "8689            0  \n",
       "8690            1  \n",
       "8691            0  \n",
       "8692            1  \n",
       "\n",
       "[8693 rows x 14 columns]"
      ]
     },
     "execution_count": 9,
     "metadata": {},
     "output_type": "execute_result"
    }
   ],
   "source": [
    "cols = [\"HomePlanet\",\"CryoSleep\",\"Destination\",\"VIP\",\"Transported\"]\n",
    "\n",
    "df[cols] = df[cols].apply(lambda x: pd.factorize(x)[0] + 1)\n",
    "\n",
    "#df2[cols] = df2[cols].apply(lambda x: pd.factorize(x)[0] + 1)\n",
    "\n",
    "df[\"Transported\"] = np.where(df.Transported == 1, 0, 1)\n",
    "\n",
    "df"
   ]
  },
  {
   "cell_type": "code",
   "execution_count": 10,
   "id": "2319ec8a",
   "metadata": {
    "execution": {
     "iopub.execute_input": "2023-04-18T12:05:28.032220Z",
     "iopub.status.busy": "2023-04-18T12:05:28.031798Z",
     "iopub.status.idle": "2023-04-18T12:05:28.062595Z",
     "shell.execute_reply": "2023-04-18T12:05:28.060891Z"
    },
    "papermill": {
     "duration": 0.050025,
     "end_time": "2023-04-18T12:05:28.066096",
     "exception": false,
     "start_time": "2023-04-18T12:05:28.016071",
     "status": "completed"
    },
    "tags": []
   },
   "outputs": [
    {
     "data": {
      "text/html": [
       "<div>\n",
       "<style scoped>\n",
       "    .dataframe tbody tr th:only-of-type {\n",
       "        vertical-align: middle;\n",
       "    }\n",
       "\n",
       "    .dataframe tbody tr th {\n",
       "        vertical-align: top;\n",
       "    }\n",
       "\n",
       "    .dataframe thead th {\n",
       "        text-align: right;\n",
       "    }\n",
       "</style>\n",
       "<table border=\"1\" class=\"dataframe\">\n",
       "  <thead>\n",
       "    <tr style=\"text-align: right;\">\n",
       "      <th></th>\n",
       "      <th>HomePlanet</th>\n",
       "      <th>CryoSleep</th>\n",
       "      <th>Destination</th>\n",
       "      <th>Age</th>\n",
       "      <th>VIP</th>\n",
       "      <th>RoomService</th>\n",
       "      <th>FoodCourt</th>\n",
       "      <th>ShoppingMall</th>\n",
       "      <th>Spa</th>\n",
       "      <th>VRDeck</th>\n",
       "      <th>Transported</th>\n",
       "    </tr>\n",
       "  </thead>\n",
       "  <tbody>\n",
       "    <tr>\n",
       "      <th>0</th>\n",
       "      <td>1</td>\n",
       "      <td>1</td>\n",
       "      <td>1</td>\n",
       "      <td>39.0</td>\n",
       "      <td>1</td>\n",
       "      <td>0.0</td>\n",
       "      <td>0.0</td>\n",
       "      <td>0.0</td>\n",
       "      <td>0.0</td>\n",
       "      <td>0.0</td>\n",
       "      <td>0</td>\n",
       "    </tr>\n",
       "    <tr>\n",
       "      <th>1</th>\n",
       "      <td>2</td>\n",
       "      <td>1</td>\n",
       "      <td>1</td>\n",
       "      <td>24.0</td>\n",
       "      <td>1</td>\n",
       "      <td>109.0</td>\n",
       "      <td>9.0</td>\n",
       "      <td>25.0</td>\n",
       "      <td>549.0</td>\n",
       "      <td>44.0</td>\n",
       "      <td>1</td>\n",
       "    </tr>\n",
       "    <tr>\n",
       "      <th>2</th>\n",
       "      <td>1</td>\n",
       "      <td>1</td>\n",
       "      <td>1</td>\n",
       "      <td>58.0</td>\n",
       "      <td>2</td>\n",
       "      <td>43.0</td>\n",
       "      <td>3576.0</td>\n",
       "      <td>0.0</td>\n",
       "      <td>6715.0</td>\n",
       "      <td>49.0</td>\n",
       "      <td>0</td>\n",
       "    </tr>\n",
       "    <tr>\n",
       "      <th>3</th>\n",
       "      <td>1</td>\n",
       "      <td>1</td>\n",
       "      <td>1</td>\n",
       "      <td>33.0</td>\n",
       "      <td>1</td>\n",
       "      <td>0.0</td>\n",
       "      <td>1283.0</td>\n",
       "      <td>371.0</td>\n",
       "      <td>3329.0</td>\n",
       "      <td>193.0</td>\n",
       "      <td>0</td>\n",
       "    </tr>\n",
       "    <tr>\n",
       "      <th>4</th>\n",
       "      <td>2</td>\n",
       "      <td>1</td>\n",
       "      <td>1</td>\n",
       "      <td>16.0</td>\n",
       "      <td>1</td>\n",
       "      <td>303.0</td>\n",
       "      <td>70.0</td>\n",
       "      <td>151.0</td>\n",
       "      <td>565.0</td>\n",
       "      <td>2.0</td>\n",
       "      <td>1</td>\n",
       "    </tr>\n",
       "    <tr>\n",
       "      <th>...</th>\n",
       "      <td>...</td>\n",
       "      <td>...</td>\n",
       "      <td>...</td>\n",
       "      <td>...</td>\n",
       "      <td>...</td>\n",
       "      <td>...</td>\n",
       "      <td>...</td>\n",
       "      <td>...</td>\n",
       "      <td>...</td>\n",
       "      <td>...</td>\n",
       "      <td>...</td>\n",
       "    </tr>\n",
       "    <tr>\n",
       "      <th>8688</th>\n",
       "      <td>1</td>\n",
       "      <td>1</td>\n",
       "      <td>3</td>\n",
       "      <td>41.0</td>\n",
       "      <td>2</td>\n",
       "      <td>0.0</td>\n",
       "      <td>6819.0</td>\n",
       "      <td>0.0</td>\n",
       "      <td>1643.0</td>\n",
       "      <td>74.0</td>\n",
       "      <td>0</td>\n",
       "    </tr>\n",
       "    <tr>\n",
       "      <th>8689</th>\n",
       "      <td>2</td>\n",
       "      <td>2</td>\n",
       "      <td>2</td>\n",
       "      <td>18.0</td>\n",
       "      <td>1</td>\n",
       "      <td>0.0</td>\n",
       "      <td>0.0</td>\n",
       "      <td>0.0</td>\n",
       "      <td>0.0</td>\n",
       "      <td>0.0</td>\n",
       "      <td>0</td>\n",
       "    </tr>\n",
       "    <tr>\n",
       "      <th>8690</th>\n",
       "      <td>2</td>\n",
       "      <td>1</td>\n",
       "      <td>1</td>\n",
       "      <td>26.0</td>\n",
       "      <td>1</td>\n",
       "      <td>0.0</td>\n",
       "      <td>0.0</td>\n",
       "      <td>1872.0</td>\n",
       "      <td>1.0</td>\n",
       "      <td>0.0</td>\n",
       "      <td>1</td>\n",
       "    </tr>\n",
       "    <tr>\n",
       "      <th>8691</th>\n",
       "      <td>1</td>\n",
       "      <td>1</td>\n",
       "      <td>3</td>\n",
       "      <td>32.0</td>\n",
       "      <td>1</td>\n",
       "      <td>0.0</td>\n",
       "      <td>1049.0</td>\n",
       "      <td>0.0</td>\n",
       "      <td>353.0</td>\n",
       "      <td>3235.0</td>\n",
       "      <td>0</td>\n",
       "    </tr>\n",
       "    <tr>\n",
       "      <th>8692</th>\n",
       "      <td>1</td>\n",
       "      <td>1</td>\n",
       "      <td>1</td>\n",
       "      <td>44.0</td>\n",
       "      <td>1</td>\n",
       "      <td>126.0</td>\n",
       "      <td>4688.0</td>\n",
       "      <td>0.0</td>\n",
       "      <td>0.0</td>\n",
       "      <td>12.0</td>\n",
       "      <td>1</td>\n",
       "    </tr>\n",
       "  </tbody>\n",
       "</table>\n",
       "<p>8693 rows × 11 columns</p>\n",
       "</div>"
      ],
      "text/plain": [
       "      HomePlanet  CryoSleep  Destination   Age  VIP  RoomService  FoodCourt  \\\n",
       "0              1          1            1  39.0    1          0.0        0.0   \n",
       "1              2          1            1  24.0    1        109.0        9.0   \n",
       "2              1          1            1  58.0    2         43.0     3576.0   \n",
       "3              1          1            1  33.0    1          0.0     1283.0   \n",
       "4              2          1            1  16.0    1        303.0       70.0   \n",
       "...          ...        ...          ...   ...  ...          ...        ...   \n",
       "8688           1          1            3  41.0    2          0.0     6819.0   \n",
       "8689           2          2            2  18.0    1          0.0        0.0   \n",
       "8690           2          1            1  26.0    1          0.0        0.0   \n",
       "8691           1          1            3  32.0    1          0.0     1049.0   \n",
       "8692           1          1            1  44.0    1        126.0     4688.0   \n",
       "\n",
       "      ShoppingMall     Spa  VRDeck  Transported  \n",
       "0              0.0     0.0     0.0            0  \n",
       "1             25.0   549.0    44.0            1  \n",
       "2              0.0  6715.0    49.0            0  \n",
       "3            371.0  3329.0   193.0            0  \n",
       "4            151.0   565.0     2.0            1  \n",
       "...            ...     ...     ...          ...  \n",
       "8688           0.0  1643.0    74.0            0  \n",
       "8689           0.0     0.0     0.0            0  \n",
       "8690        1872.0     1.0     0.0            1  \n",
       "8691           0.0   353.0  3235.0            0  \n",
       "8692           0.0     0.0    12.0            1  \n",
       "\n",
       "[8693 rows x 11 columns]"
      ]
     },
     "execution_count": 10,
     "metadata": {},
     "output_type": "execute_result"
    }
   ],
   "source": [
    "df.drop([\"PassengerId\",\"Cabin\",\"Name\"], axis=1, inplace=True)\n",
    "\n",
    "\n",
    "\n",
    "df"
   ]
  },
  {
   "cell_type": "code",
   "execution_count": 11,
   "id": "2542b4bb",
   "metadata": {
    "execution": {
     "iopub.execute_input": "2023-04-18T12:05:28.098734Z",
     "iopub.status.busy": "2023-04-18T12:05:28.098273Z",
     "iopub.status.idle": "2023-04-18T12:05:28.111296Z",
     "shell.execute_reply": "2023-04-18T12:05:28.109648Z"
    },
    "papermill": {
     "duration": 0.033068,
     "end_time": "2023-04-18T12:05:28.114274",
     "exception": false,
     "start_time": "2023-04-18T12:05:28.081206",
     "status": "completed"
    },
    "tags": []
   },
   "outputs": [
    {
     "data": {
      "text/plain": [
       "1    50.36\n",
       "0    49.64\n",
       "Name: Transported, dtype: float64"
      ]
     },
     "execution_count": 11,
     "metadata": {},
     "output_type": "execute_result"
    }
   ],
   "source": [
    "round(df.Transported.value_counts()/len(df)*100,2)"
   ]
  },
  {
   "cell_type": "code",
   "execution_count": 12,
   "id": "7ff8d7e7",
   "metadata": {
    "execution": {
     "iopub.execute_input": "2023-04-18T12:05:28.148814Z",
     "iopub.status.busy": "2023-04-18T12:05:28.148303Z",
     "iopub.status.idle": "2023-04-18T12:05:28.572893Z",
     "shell.execute_reply": "2023-04-18T12:05:28.571271Z"
    },
    "papermill": {
     "duration": 0.445387,
     "end_time": "2023-04-18T12:05:28.575840",
     "exception": false,
     "start_time": "2023-04-18T12:05:28.130453",
     "status": "completed"
    },
    "tags": []
   },
   "outputs": [
    {
     "data": {
      "image/png": "[encoded data removed]",
      "text/plain": [
       "<Figure size 1500x800 with 1 Axes>"
      ]
     },
     "metadata": {},
     "output_type": "display_data"
    }
   ],
   "source": [
    "#Let's check the correlation between variables and Fraud \n",
    "\n",
    "plt.figure(figsize=(15,8))\n",
    "d = df.corr()['Transported'][:-1].abs().sort_values(ascending=False).plot(kind='bar', title='Most important features')\n",
    "\n",
    "plt.show()"
   ]
  },
  {
   "cell_type": "code",
   "execution_count": 13,
   "id": "95647bd0",
   "metadata": {
    "execution": {
     "iopub.execute_input": "2023-04-18T12:05:28.610091Z",
     "iopub.status.busy": "2023-04-18T12:05:28.608976Z",
     "iopub.status.idle": "2023-04-18T12:05:30.876699Z",
     "shell.execute_reply": "2023-04-18T12:05:30.875094Z"
    },
    "papermill": {
     "duration": 2.287985,
     "end_time": "2023-04-18T12:05:30.879675",
     "exception": false,
     "start_time": "2023-04-18T12:05:28.591690",
     "status": "completed"
    },
    "tags": []
   },
   "outputs": [
    {
     "data": {
      "image/png": "[encoded data removed]",
      "text/plain": [
       "<Figure size 640x480 with 12 Axes>"
      ]
     },
     "metadata": {},
     "output_type": "display_data"
    }
   ],
   "source": [
    "df.hist(bins=40)\n",
    "plt.tight_layout()"
   ]
  },
  {
   "cell_type": "code",
   "execution_count": 14,
   "id": "925bfae3",
   "metadata": {
    "execution": {
     "iopub.execute_input": "2023-04-18T12:05:30.914836Z",
     "iopub.status.busy": "2023-04-18T12:05:30.913452Z",
     "iopub.status.idle": "2023-04-18T12:05:31.325539Z",
     "shell.execute_reply": "2023-04-18T12:05:31.323752Z"
    },
    "papermill": {
     "duration": 0.43289,
     "end_time": "2023-04-18T12:05:31.328653",
     "exception": false,
     "start_time": "2023-04-18T12:05:30.895763",
     "status": "completed"
    },
    "tags": []
   },
   "outputs": [],
   "source": [
    "from math import sqrt\n",
    "import xgboost as xgb                     \n",
    "from xgboost.sklearn import XGBClassifier \n",
    "from xgboost.sklearn import XGBRegressor  \n",
    "import matplotlib.pyplot as plt\n",
    "from matplotlib import pyplot\n",
    "from matplotlib.pylab import rcParams\n",
    "rcParams[\"figure.figsize\"] = 12, 8\n",
    "from sklearn.model_selection import train_test_split\n",
    "import sklearn.metrics as metrics\n",
    "from sklearn.metrics import classification_report, confusion_matrix, accuracy_score"
   ]
  },
  {
   "cell_type": "code",
   "execution_count": 15,
   "id": "0956287e",
   "metadata": {
    "execution": {
     "iopub.execute_input": "2023-04-18T12:05:31.366155Z",
     "iopub.status.busy": "2023-04-18T12:05:31.365694Z",
     "iopub.status.idle": "2023-04-18T12:05:31.378066Z",
     "shell.execute_reply": "2023-04-18T12:05:31.377009Z"
    },
    "papermill": {
     "duration": 0.035178,
     "end_time": "2023-04-18T12:05:31.380880",
     "exception": false,
     "start_time": "2023-04-18T12:05:31.345702",
     "status": "completed"
    },
    "tags": []
   },
   "outputs": [],
   "source": [
    "# Train test split \n",
    "\n",
    "# Variables x and target y\n",
    "\n",
    "x = df.drop([\"Transported\"], axis = 1)\n",
    "y = df[\"Transported\"]\n",
    "\n",
    "\n",
    "# Separando entre treinamento e teste\n",
    "\n",
    "x_train, x_test, y_train, y_test = train_test_split(x, y, test_size = 0.3, random_state = 1)"
   ]
  },
  {
   "cell_type": "code",
   "execution_count": 16,
   "id": "497b3e3b",
   "metadata": {
    "execution": {
     "iopub.execute_input": "2023-04-18T12:05:31.415656Z",
     "iopub.status.busy": "2023-04-18T12:05:31.414580Z",
     "iopub.status.idle": "2023-04-18T12:05:31.425012Z",
     "shell.execute_reply": "2023-04-18T12:05:31.423812Z"
    },
    "papermill": {
     "duration": 0.030786,
     "end_time": "2023-04-18T12:05:31.427663",
     "exception": false,
     "start_time": "2023-04-18T12:05:31.396877",
     "status": "completed"
    },
    "tags": []
   },
   "outputs": [
    {
     "data": {
      "text/plain": [
       "HomePlanet        int64\n",
       "CryoSleep         int64\n",
       "Destination       int64\n",
       "Age             float64\n",
       "VIP               int64\n",
       "RoomService     float64\n",
       "FoodCourt       float64\n",
       "ShoppingMall    float64\n",
       "Spa             float64\n",
       "VRDeck          float64\n",
       "Transported       int64\n",
       "dtype: object"
      ]
     },
     "execution_count": 16,
     "metadata": {},
     "output_type": "execute_result"
    }
   ],
   "source": [
    "df.dtypes"
   ]
  },
  {
   "cell_type": "markdown",
   "id": "cd48d6aa",
   "metadata": {
    "papermill": {
     "duration": 0.016521,
     "end_time": "2023-04-18T12:05:31.460307",
     "exception": false,
     "start_time": "2023-04-18T12:05:31.443786",
     "status": "completed"
    },
    "tags": []
   },
   "source": [
    "xgb_cl = xgb.XGBClassifier(objective = \"binary:logistic\"\n",
    "                        , n_estimators = 200\n",
    "                        , seed = 1\n",
    "                        , colsample_bytree = 0.5\n",
    "                        , learning_rate = 0.2 \n",
    "                        , max_depth = 3\n",
    "                        , subsample = 0.8\n",
    "                        , eta = 0.01\n",
    "                        , gamma = 1\n",
    "                        )"
   ]
  },
  {
   "cell_type": "code",
   "execution_count": 17,
   "id": "3d376474",
   "metadata": {
    "execution": {
     "iopub.execute_input": "2023-04-18T12:05:31.497567Z",
     "iopub.status.busy": "2023-04-18T12:05:31.496781Z",
     "iopub.status.idle": "2023-04-18T12:05:33.620106Z",
     "shell.execute_reply": "2023-04-18T12:05:33.618497Z"
    },
    "papermill": {
     "duration": 2.145368,
     "end_time": "2023-04-18T12:05:33.623259",
     "exception": false,
     "start_time": "2023-04-18T12:05:31.477891",
     "status": "completed"
    },
    "tags": []
   },
   "outputs": [
    {
     "name": "stderr",
     "output_type": "stream",
     "text": [
      "/home/user/.local/lib/python3.8/site-packages/xgboost/sklearn.py:835: UserWarning: `eval_metric` in `fit` method is deprecated for better compatibility with scikit-learn, use `eval_metric` in constructor or`set_params` instead.\n",
      "  warnings.warn(\n"
     ]
    },
    {
     "name": "stdout",
     "output_type": "stream",
     "text": [
      "[0]\tvalidation_0-auc:0.78828\tvalidation_1-auc:0.79799\n",
      "[1]\tvalidation_0-auc:0.83351\tvalidation_1-auc:0.83559\n",
      "[2]\tvalidation_0-auc:0.84427\tvalidation_1-auc:0.84087\n",
      "[3]\tvalidation_0-auc:0.85107\tvalidation_1-auc:0.84809\n",
      "[4]\tvalidation_0-auc:0.85418\tvalidation_1-auc:0.85227\n",
      "[5]\tvalidation_0-auc:0.85399\tvalidation_1-auc:0.85456\n",
      "[6]\tvalidation_0-auc:0.85680\tvalidation_1-auc:0.85627\n",
      "[7]\tvalidation_0-auc:0.85949\tvalidation_1-auc:0.85916\n",
      "[8]\tvalidation_0-auc:0.86402\tvalidation_1-auc:0.86188\n",
      "[9]\tvalidation_0-auc:0.86510\tvalidation_1-auc:0.86319\n",
      "[10]\tvalidation_0-auc:0.86575\tvalidation_1-auc:0.86282\n",
      "[11]\tvalidation_0-auc:0.86613\tvalidation_1-auc:0.86349\n",
      "[12]\tvalidation_0-auc:0.86962\tvalidation_1-auc:0.86629\n",
      "[13]\tvalidation_0-auc:0.87035\tvalidation_1-auc:0.86745\n",
      "[14]\tvalidation_0-auc:0.87197\tvalidation_1-auc:0.86831\n",
      "[15]\tvalidation_0-auc:0.87363\tvalidation_1-auc:0.86866\n",
      "[16]\tvalidation_0-auc:0.87674\tvalidation_1-auc:0.87008\n",
      "[17]\tvalidation_0-auc:0.87903\tvalidation_1-auc:0.87120\n",
      "[18]\tvalidation_0-auc:0.87979\tvalidation_1-auc:0.87139\n",
      "[19]\tvalidation_0-auc:0.87991\tvalidation_1-auc:0.87175\n",
      "[20]\tvalidation_0-auc:0.87992\tvalidation_1-auc:0.87223\n",
      "[21]\tvalidation_0-auc:0.88113\tvalidation_1-auc:0.87297\n",
      "[22]\tvalidation_0-auc:0.88179\tvalidation_1-auc:0.87359\n",
      "[23]\tvalidation_0-auc:0.88287\tvalidation_1-auc:0.87298\n",
      "[24]\tvalidation_0-auc:0.88338\tvalidation_1-auc:0.87372\n",
      "[25]\tvalidation_0-auc:0.88388\tvalidation_1-auc:0.87330\n",
      "[26]\tvalidation_0-auc:0.88412\tvalidation_1-auc:0.87384\n",
      "[27]\tvalidation_0-auc:0.88471\tvalidation_1-auc:0.87402\n",
      "[28]\tvalidation_0-auc:0.88517\tvalidation_1-auc:0.87499\n",
      "[29]\tvalidation_0-auc:0.88566\tvalidation_1-auc:0.87525\n",
      "[30]\tvalidation_0-auc:0.88608\tvalidation_1-auc:0.87574\n",
      "[31]\tvalidation_0-auc:0.88623\tvalidation_1-auc:0.87580\n",
      "[32]\tvalidation_0-auc:0.88620\tvalidation_1-auc:0.87558\n",
      "[33]\tvalidation_0-auc:0.88668\tvalidation_1-auc:0.87553\n",
      "[34]\tvalidation_0-auc:0.88689\tvalidation_1-auc:0.87549\n",
      "[35]\tvalidation_0-auc:0.88817\tvalidation_1-auc:0.87674\n",
      "[36]\tvalidation_0-auc:0.88821\tvalidation_1-auc:0.87687\n",
      "[37]\tvalidation_0-auc:0.88839\tvalidation_1-auc:0.87682\n",
      "[38]\tvalidation_0-auc:0.88859\tvalidation_1-auc:0.87719\n",
      "[39]\tvalidation_0-auc:0.88876\tvalidation_1-auc:0.87679\n",
      "[40]\tvalidation_0-auc:0.88900\tvalidation_1-auc:0.87706\n",
      "[41]\tvalidation_0-auc:0.88920\tvalidation_1-auc:0.87707\n",
      "[42]\tvalidation_0-auc:0.88951\tvalidation_1-auc:0.87714\n",
      "[43]\tvalidation_0-auc:0.88971\tvalidation_1-auc:0.87727\n",
      "[44]\tvalidation_0-auc:0.89005\tvalidation_1-auc:0.87697\n",
      "[45]\tvalidation_0-auc:0.88981\tvalidation_1-auc:0.87654\n",
      "[46]\tvalidation_0-auc:0.88996\tvalidation_1-auc:0.87661\n",
      "[47]\tvalidation_0-auc:0.89079\tvalidation_1-auc:0.87759\n",
      "[48]\tvalidation_0-auc:0.89106\tvalidation_1-auc:0.87728\n",
      "[49]\tvalidation_0-auc:0.89129\tvalidation_1-auc:0.87730\n",
      "[50]\tvalidation_0-auc:0.89140\tvalidation_1-auc:0.87723\n",
      "[51]\tvalidation_0-auc:0.89147\tvalidation_1-auc:0.87714\n",
      "[52]\tvalidation_0-auc:0.89195\tvalidation_1-auc:0.87736\n",
      "[53]\tvalidation_0-auc:0.89233\tvalidation_1-auc:0.87708\n",
      "[54]\tvalidation_0-auc:0.89259\tvalidation_1-auc:0.87678\n",
      "[55]\tvalidation_0-auc:0.89269\tvalidation_1-auc:0.87663\n",
      "[56]\tvalidation_0-auc:0.89277\tvalidation_1-auc:0.87674\n",
      "[57]\tvalidation_0-auc:0.89327\tvalidation_1-auc:0.87679\n",
      "[58]\tvalidation_0-auc:0.89369\tvalidation_1-auc:0.87681\n",
      "[59]\tvalidation_0-auc:0.89361\tvalidation_1-auc:0.87642\n",
      "[60]\tvalidation_0-auc:0.89374\tvalidation_1-auc:0.87642\n",
      "[61]\tvalidation_0-auc:0.89446\tvalidation_1-auc:0.87677\n",
      "[62]\tvalidation_0-auc:0.89425\tvalidation_1-auc:0.87696\n",
      "[63]\tvalidation_0-auc:0.89431\tvalidation_1-auc:0.87708\n",
      "[64]\tvalidation_0-auc:0.89419\tvalidation_1-auc:0.87714\n",
      "[65]\tvalidation_0-auc:0.89456\tvalidation_1-auc:0.87735\n",
      "[66]\tvalidation_0-auc:0.89473\tvalidation_1-auc:0.87749\n",
      "[67]\tvalidation_0-auc:0.89485\tvalidation_1-auc:0.87773\n",
      "[68]\tvalidation_0-auc:0.89475\tvalidation_1-auc:0.87775\n",
      "[69]\tvalidation_0-auc:0.89488\tvalidation_1-auc:0.87763\n",
      "[70]\tvalidation_0-auc:0.89513\tvalidation_1-auc:0.87758\n",
      "[71]\tvalidation_0-auc:0.89543\tvalidation_1-auc:0.87744\n",
      "[72]\tvalidation_0-auc:0.89583\tvalidation_1-auc:0.87767\n",
      "[73]\tvalidation_0-auc:0.89635\tvalidation_1-auc:0.87808\n",
      "[74]\tvalidation_0-auc:0.89665\tvalidation_1-auc:0.87833\n",
      "[75]\tvalidation_0-auc:0.89674\tvalidation_1-auc:0.87848\n",
      "[76]\tvalidation_0-auc:0.89679\tvalidation_1-auc:0.87845\n",
      "[77]\tvalidation_0-auc:0.89712\tvalidation_1-auc:0.87901\n",
      "[78]\tvalidation_0-auc:0.89730\tvalidation_1-auc:0.87896\n",
      "[79]\tvalidation_0-auc:0.89741\tvalidation_1-auc:0.87898\n",
      "[80]\tvalidation_0-auc:0.89751\tvalidation_1-auc:0.87896\n",
      "[81]\tvalidation_0-auc:0.89757\tvalidation_1-auc:0.87908\n",
      "[82]\tvalidation_0-auc:0.89778\tvalidation_1-auc:0.87883\n",
      "[83]\tvalidation_0-auc:0.89819\tvalidation_1-auc:0.87902\n",
      "[84]\tvalidation_0-auc:0.89826\tvalidation_1-auc:0.87897\n",
      "[85]\tvalidation_0-auc:0.89852\tvalidation_1-auc:0.87929\n",
      "[86]\tvalidation_0-auc:0.89860\tvalidation_1-auc:0.87912\n",
      "[87]\tvalidation_0-auc:0.89865\tvalidation_1-auc:0.87922\n",
      "[88]\tvalidation_0-auc:0.89892\tvalidation_1-auc:0.87917\n",
      "[89]\tvalidation_0-auc:0.89908\tvalidation_1-auc:0.87912\n",
      "[90]\tvalidation_0-auc:0.89924\tvalidation_1-auc:0.87909\n",
      "[91]\tvalidation_0-auc:0.89966\tvalidation_1-auc:0.87903\n",
      "[92]\tvalidation_0-auc:0.89966\tvalidation_1-auc:0.87889\n",
      "[93]\tvalidation_0-auc:0.89985\tvalidation_1-auc:0.87887\n",
      "[94]\tvalidation_0-auc:0.89981\tvalidation_1-auc:0.87882\n",
      "[95]\tvalidation_0-auc:0.90023\tvalidation_1-auc:0.87878\n",
      "[96]\tvalidation_0-auc:0.90027\tvalidation_1-auc:0.87877\n",
      "[97]\tvalidation_0-auc:0.90062\tvalidation_1-auc:0.87895\n",
      "[98]\tvalidation_0-auc:0.90075\tvalidation_1-auc:0.87900\n",
      "[99]\tvalidation_0-auc:0.90107\tvalidation_1-auc:0.87887\n",
      "[100]\tvalidation_0-auc:0.90120\tvalidation_1-auc:0.87893\n",
      "[101]\tvalidation_0-auc:0.90125\tvalidation_1-auc:0.87882\n",
      "[102]\tvalidation_0-auc:0.90150\tvalidation_1-auc:0.87876\n",
      "[103]\tvalidation_0-auc:0.90198\tvalidation_1-auc:0.87914\n",
      "[104]\tvalidation_0-auc:0.90227\tvalidation_1-auc:0.87909\n",
      "[105]\tvalidation_0-auc:0.90258\tvalidation_1-auc:0.87937\n",
      "[106]\tvalidation_0-auc:0.90259\tvalidation_1-auc:0.87931\n",
      "[107]\tvalidation_0-auc:0.90266\tvalidation_1-auc:0.87925\n",
      "[108]\tvalidation_0-auc:0.90291\tvalidation_1-auc:0.87936\n",
      "[109]\tvalidation_0-auc:0.90335\tvalidation_1-auc:0.87971\n",
      "[110]\tvalidation_0-auc:0.90366\tvalidation_1-auc:0.87942\n",
      "[111]\tvalidation_0-auc:0.90379\tvalidation_1-auc:0.87946\n",
      "[112]\tvalidation_0-auc:0.90411\tvalidation_1-auc:0.87941\n",
      "[113]\tvalidation_0-auc:0.90443\tvalidation_1-auc:0.87971\n",
      "[114]\tvalidation_0-auc:0.90479\tvalidation_1-auc:0.87961\n",
      "[115]\tvalidation_0-auc:0.90510\tvalidation_1-auc:0.87965\n",
      "[116]\tvalidation_0-auc:0.90545\tvalidation_1-auc:0.87967\n",
      "[117]\tvalidation_0-auc:0.90552\tvalidation_1-auc:0.87974\n",
      "[118]\tvalidation_0-auc:0.90593\tvalidation_1-auc:0.87981\n",
      "[119]\tvalidation_0-auc:0.90615\tvalidation_1-auc:0.87983\n",
      "[120]\tvalidation_0-auc:0.90655\tvalidation_1-auc:0.87967\n",
      "[121]\tvalidation_0-auc:0.90686\tvalidation_1-auc:0.87967\n",
      "[122]\tvalidation_0-auc:0.90702\tvalidation_1-auc:0.87968\n",
      "[123]\tvalidation_0-auc:0.90722\tvalidation_1-auc:0.87973\n",
      "[124]\tvalidation_0-auc:0.90770\tvalidation_1-auc:0.87969\n",
      "[125]\tvalidation_0-auc:0.90789\tvalidation_1-auc:0.87968\n",
      "[126]\tvalidation_0-auc:0.90805\tvalidation_1-auc:0.87988\n",
      "[127]\tvalidation_0-auc:0.90815\tvalidation_1-auc:0.87986\n",
      "[128]\tvalidation_0-auc:0.90829\tvalidation_1-auc:0.87991\n",
      "[129]\tvalidation_0-auc:0.90864\tvalidation_1-auc:0.87977\n",
      "[130]\tvalidation_0-auc:0.90878\tvalidation_1-auc:0.87947\n",
      "[131]\tvalidation_0-auc:0.90893\tvalidation_1-auc:0.87950\n",
      "[132]\tvalidation_0-auc:0.90888\tvalidation_1-auc:0.87935\n",
      "[133]\tvalidation_0-auc:0.90893\tvalidation_1-auc:0.87941\n",
      "[134]\tvalidation_0-auc:0.90903\tvalidation_1-auc:0.87947\n",
      "[135]\tvalidation_0-auc:0.90940\tvalidation_1-auc:0.87925\n",
      "[136]\tvalidation_0-auc:0.90959\tvalidation_1-auc:0.87960\n",
      "[137]\tvalidation_0-auc:0.90972\tvalidation_1-auc:0.87938\n",
      "[138]\tvalidation_0-auc:0.91007\tvalidation_1-auc:0.87903\n",
      "[139]\tvalidation_0-auc:0.91015\tvalidation_1-auc:0.87910\n",
      "[140]\tvalidation_0-auc:0.91047\tvalidation_1-auc:0.87942\n",
      "[141]\tvalidation_0-auc:0.91049\tvalidation_1-auc:0.87930\n",
      "[142]\tvalidation_0-auc:0.91056\tvalidation_1-auc:0.87931\n",
      "[143]\tvalidation_0-auc:0.91060\tvalidation_1-auc:0.87939\n",
      "[144]\tvalidation_0-auc:0.91081\tvalidation_1-auc:0.87942\n",
      "[145]\tvalidation_0-auc:0.91093\tvalidation_1-auc:0.87935\n",
      "[146]\tvalidation_0-auc:0.91099\tvalidation_1-auc:0.87932\n",
      "[147]\tvalidation_0-auc:0.91133\tvalidation_1-auc:0.87936\n",
      "[148]\tvalidation_0-auc:0.91141\tvalidation_1-auc:0.87941\n",
      "[149]\tvalidation_0-auc:0.91156\tvalidation_1-auc:0.87954\n",
      "[150]\tvalidation_0-auc:0.91158\tvalidation_1-auc:0.87942\n",
      "[151]\tvalidation_0-auc:0.91168\tvalidation_1-auc:0.87917\n",
      "[152]\tvalidation_0-auc:0.91169\tvalidation_1-auc:0.87910\n",
      "[153]\tvalidation_0-auc:0.91181\tvalidation_1-auc:0.87906\n",
      "[154]\tvalidation_0-auc:0.91192\tvalidation_1-auc:0.87927\n",
      "[155]\tvalidation_0-auc:0.91193\tvalidation_1-auc:0.87922\n",
      "[156]\tvalidation_0-auc:0.91188\tvalidation_1-auc:0.87933\n",
      "[157]\tvalidation_0-auc:0.91193\tvalidation_1-auc:0.87945\n",
      "[158]\tvalidation_0-auc:0.91212\tvalidation_1-auc:0.87930\n",
      "[159]\tvalidation_0-auc:0.91226\tvalidation_1-auc:0.87939\n",
      "[160]\tvalidation_0-auc:0.91239\tvalidation_1-auc:0.87927\n",
      "[161]\tvalidation_0-auc:0.91261\tvalidation_1-auc:0.87914\n",
      "[162]\tvalidation_0-auc:0.91270\tvalidation_1-auc:0.87911\n",
      "[163]\tvalidation_0-auc:0.91285\tvalidation_1-auc:0.87907\n",
      "[164]\tvalidation_0-auc:0.91291\tvalidation_1-auc:0.87915\n",
      "[165]\tvalidation_0-auc:0.91315\tvalidation_1-auc:0.87901\n",
      "[166]\tvalidation_0-auc:0.91328\tvalidation_1-auc:0.87912\n",
      "[167]\tvalidation_0-auc:0.91352\tvalidation_1-auc:0.87908\n",
      "[168]\tvalidation_0-auc:0.91360\tvalidation_1-auc:0.87921\n",
      "[169]\tvalidation_0-auc:0.91371\tvalidation_1-auc:0.87898\n",
      "[170]\tvalidation_0-auc:0.91385\tvalidation_1-auc:0.87919\n",
      "[171]\tvalidation_0-auc:0.91391\tvalidation_1-auc:0.87910\n",
      "[172]\tvalidation_0-auc:0.91398\tvalidation_1-auc:0.87907\n",
      "[173]\tvalidation_0-auc:0.91421\tvalidation_1-auc:0.87897\n",
      "[174]\tvalidation_0-auc:0.91422\tvalidation_1-auc:0.87904\n",
      "[175]\tvalidation_0-auc:0.91453\tvalidation_1-auc:0.87915\n",
      "[176]\tvalidation_0-auc:0.91463\tvalidation_1-auc:0.87901\n",
      "[177]\tvalidation_0-auc:0.91473\tvalidation_1-auc:0.87902\n",
      "[178]\tvalidation_0-auc:0.91484\tvalidation_1-auc:0.87909\n",
      "[179]\tvalidation_0-auc:0.91494\tvalidation_1-auc:0.87933\n",
      "[180]\tvalidation_0-auc:0.91509\tvalidation_1-auc:0.87901\n",
      "[181]\tvalidation_0-auc:0.91540\tvalidation_1-auc:0.87919\n",
      "[182]\tvalidation_0-auc:0.91541\tvalidation_1-auc:0.87919\n",
      "[183]\tvalidation_0-auc:0.91566\tvalidation_1-auc:0.87910\n",
      "[184]\tvalidation_0-auc:0.91577\tvalidation_1-auc:0.87912\n",
      "[185]\tvalidation_0-auc:0.91616\tvalidation_1-auc:0.87930\n",
      "[186]\tvalidation_0-auc:0.91630\tvalidation_1-auc:0.87922\n",
      "[187]\tvalidation_0-auc:0.91651\tvalidation_1-auc:0.87918\n",
      "[188]\tvalidation_0-auc:0.91654\tvalidation_1-auc:0.87919\n",
      "[189]\tvalidation_0-auc:0.91657\tvalidation_1-auc:0.87918\n",
      "[190]\tvalidation_0-auc:0.91666\tvalidation_1-auc:0.87896\n",
      "[191]\tvalidation_0-auc:0.91707\tvalidation_1-auc:0.87899\n",
      "[192]\tvalidation_0-auc:0.91719\tvalidation_1-auc:0.87904\n",
      "[193]\tvalidation_0-auc:0.91736\tvalidation_1-auc:0.87912\n",
      "[194]\tvalidation_0-auc:0.91755\tvalidation_1-auc:0.87918\n",
      "[195]\tvalidation_0-auc:0.91766\tvalidation_1-auc:0.87915\n",
      "[196]\tvalidation_0-auc:0.91772\tvalidation_1-auc:0.87926\n",
      "[197]\tvalidation_0-auc:0.91787\tvalidation_1-auc:0.87934\n",
      "[198]\tvalidation_0-auc:0.91784\tvalidation_1-auc:0.87941\n",
      "[199]\tvalidation_0-auc:0.91811\tvalidation_1-auc:0.87952\n"
     ]
    }
   ],
   "source": [
    "# XGB Classifier\n",
    "\n",
    "xgb_cl = xgb.XGBClassifier(objective = \"binary:logistic\"\n",
    "                        , n_estimators = 200\n",
    "                        , seed = 1\n",
    "                        , colsample_bytree = 0.5\n",
    "                        , learning_rate = 0.2 \n",
    "                        , max_depth = 3\n",
    "                        , subsample = 0.8\n",
    "                        , eta = 0.01\n",
    "                        , gamma = 1\n",
    "                        )\n",
    "\n",
    "\n",
    "#acc 80.37, eta 0.01 gamma = 1\n",
    "#acc 80.48% \n",
    "\n",
    "avaliacao = [(x_train, y_train), (x_test, y_test)]\n",
    "\n",
    "xgb_cl.fit(x_train, y_train, eval_metric = [\"auc\"], eval_set = avaliacao, verbose = True)\n",
    "resultados_mod = xgb_cl.evals_result() "
   ]
  },
  {
   "cell_type": "code",
   "execution_count": 18,
   "id": "9f999812",
   "metadata": {
    "execution": {
     "iopub.execute_input": "2023-04-18T12:05:33.688865Z",
     "iopub.status.busy": "2023-04-18T12:05:33.688441Z",
     "iopub.status.idle": "2023-04-18T12:05:33.717940Z",
     "shell.execute_reply": "2023-04-18T12:05:33.716628Z"
    },
    "papermill": {
     "duration": 0.064906,
     "end_time": "2023-04-18T12:05:33.721199",
     "exception": false,
     "start_time": "2023-04-18T12:05:33.656293",
     "status": "completed"
    },
    "tags": []
   },
   "outputs": [],
   "source": [
    "#Predictions \n",
    "\n",
    "y_pred_train1 = xgb_cl.predict(x_train)\n",
    "y_pred_test1 = xgb_cl.predict(x_test)"
   ]
  },
  {
   "cell_type": "code",
   "execution_count": 19,
   "id": "f85da1fc",
   "metadata": {
    "execution": {
     "iopub.execute_input": "2023-04-18T12:05:33.788862Z",
     "iopub.status.busy": "2023-04-18T12:05:33.788382Z",
     "iopub.status.idle": "2023-04-18T12:05:34.133579Z",
     "shell.execute_reply": "2023-04-18T12:05:34.132042Z"
    },
    "papermill": {
     "duration": 0.38016,
     "end_time": "2023-04-18T12:05:34.136300",
     "exception": false,
     "start_time": "2023-04-18T12:05:33.756140",
     "status": "completed"
    },
    "tags": []
   },
   "outputs": [
    {
     "data": {
      "image/png": "[encoded data removed]",
      "text/plain": [
       "<Figure size 1200x800 with 1 Axes>"
      ]
     },
     "metadata": {},
     "output_type": "display_data"
    }
   ],
   "source": [
    "#Checking the evaluation chart, separation between train and test until reaching overfit\n",
    "\n",
    "x = len(resultados_mod[\"validation_0\"][\"auc\"])\n",
    "x_axis = range(0, x)\n",
    "fig, ax = pyplot.subplots()\n",
    "ax.plot(x_axis, resultados_mod[\"validation_0\"][\"auc\"], label = \"Train\")\n",
    "ax.plot(x_axis, resultados_mod[\"validation_1\"][\"auc\"], label = \"Test\")\n",
    "plt.title(\"XGBoost Evaluation\");\n",
    "plt.legend(loc = \"lower right\");"
   ]
  },
  {
   "cell_type": "code",
   "execution_count": 20,
   "id": "d755b1e4",
   "metadata": {
    "execution": {
     "iopub.execute_input": "2023-04-18T12:05:34.205228Z",
     "iopub.status.busy": "2023-04-18T12:05:34.204237Z",
     "iopub.status.idle": "2023-04-18T12:05:34.215576Z",
     "shell.execute_reply": "2023-04-18T12:05:34.213829Z"
    },
    "papermill": {
     "duration": 0.048429,
     "end_time": "2023-04-18T12:05:34.218364",
     "exception": false,
     "start_time": "2023-04-18T12:05:34.169935",
     "status": "completed"
    },
    "tags": []
   },
   "outputs": [
    {
     "name": "stdout",
     "output_type": "stream",
     "text": [
      "Train\n",
      "Accuracy: 82.76%\n",
      "------------------------------\n",
      "Test\n",
      "Accuracy: 80.48%\n"
     ]
    }
   ],
   "source": [
    "print(\"Train\")\n",
    "print(\"Accuracy: {}%\".format(round(accuracy_score(y_train, y_pred_train1)*100, 2)))\n",
    "print(\"------------------------------\")\n",
    "print(\"Test\")\n",
    "print(\"Accuracy: {}%\".format(round(accuracy_score(y_test, y_pred_test1)*100, 2)))"
   ]
  },
  {
   "cell_type": "code",
   "execution_count": 21,
   "id": "d7b4c25c",
   "metadata": {
    "execution": {
     "iopub.execute_input": "2023-04-18T12:05:34.282924Z",
     "iopub.status.busy": "2023-04-18T12:05:34.282494Z",
     "iopub.status.idle": "2023-04-18T12:05:34.309023Z",
     "shell.execute_reply": "2023-04-18T12:05:34.307377Z"
    },
    "papermill": {
     "duration": 0.062613,
     "end_time": "2023-04-18T12:05:34.312148",
     "exception": false,
     "start_time": "2023-04-18T12:05:34.249535",
     "status": "completed"
    },
    "tags": []
   },
   "outputs": [
    {
     "name": "stdout",
     "output_type": "stream",
     "text": [
      "    TRAIN\n",
      "[[2395  629]\n",
      " [ 420 2641]]\n",
      "\n",
      "--------------------------------------------------------------------------------\n",
      "\n",
      "              precision    recall  f1-score   support\n",
      "\n",
      "           0       0.85      0.79      0.82      3024\n",
      "           1       0.81      0.86      0.83      3061\n",
      "\n",
      "    accuracy                           0.83      6085\n",
      "   macro avg       0.83      0.83      0.83      6085\n",
      "weighted avg       0.83      0.83      0.83      6085\n",
      "\n"
     ]
    }
   ],
   "source": [
    "# Train - overfitted \n",
    "print(\"    TRAIN\")\n",
    "print(confusion_matrix(y_train, y_pred_train1))\n",
    "print()\n",
    "print(\"--------------------------------------------------------------------------------\")\n",
    "print()\n",
    "print(classification_report(y_train, y_pred_train1))"
   ]
  },
  {
   "cell_type": "code",
   "execution_count": 22,
   "id": "81b642d8",
   "metadata": {
    "execution": {
     "iopub.execute_input": "2023-04-18T12:05:34.374939Z",
     "iopub.status.busy": "2023-04-18T12:05:34.374333Z",
     "iopub.status.idle": "2023-04-18T12:05:34.393518Z",
     "shell.execute_reply": "2023-04-18T12:05:34.391454Z"
    },
    "papermill": {
     "duration": 0.053714,
     "end_time": "2023-04-18T12:05:34.396338",
     "exception": false,
     "start_time": "2023-04-18T12:05:34.342624",
     "status": "completed"
    },
    "tags": []
   },
   "outputs": [
    {
     "name": "stdout",
     "output_type": "stream",
     "text": [
      "   TEST\n",
      "[[1000  291]\n",
      " [ 218 1099]]\n",
      "\n",
      "--------------------------------------------------------------------------------\n",
      "\n",
      "              precision    recall  f1-score   support\n",
      "\n",
      "           0       0.82      0.77      0.80      1291\n",
      "           1       0.79      0.83      0.81      1317\n",
      "\n",
      "    accuracy                           0.80      2608\n",
      "   macro avg       0.81      0.80      0.80      2608\n",
      "weighted avg       0.81      0.80      0.80      2608\n",
      "\n"
     ]
    }
   ],
   "source": [
    "# Test\n",
    "print(\"   TEST\")\n",
    "print(confusion_matrix(y_test, y_pred_test1))\n",
    "print()\n",
    "print(\"--------------------------------------------------------------------------------\")\n",
    "print()\n",
    "print(classification_report(y_test, y_pred_test1))"
   ]
  },
  {
   "cell_type": "markdown",
   "id": "fb08f430",
   "metadata": {
    "papermill": {
     "duration": 0.029831,
     "end_time": "2023-04-18T12:05:34.457325",
     "exception": false,
     "start_time": "2023-04-18T12:05:34.427494",
     "status": "completed"
    },
    "tags": []
   },
   "source": [
    "Lets see what happens if we can increase the accuracy by creating an ensemble model. "
   ]
  },
  {
   "cell_type": "code",
   "execution_count": 23,
   "id": "29bf1274",
   "metadata": {
    "execution": {
     "iopub.execute_input": "2023-04-18T12:05:34.520536Z",
     "iopub.status.busy": "2023-04-18T12:05:34.520076Z",
     "iopub.status.idle": "2023-04-18T12:05:34.547771Z",
     "shell.execute_reply": "2023-04-18T12:05:34.546510Z"
    },
    "papermill": {
     "duration": 0.062911,
     "end_time": "2023-04-18T12:05:34.550538",
     "exception": false,
     "start_time": "2023-04-18T12:05:34.487627",
     "status": "completed"
    },
    "tags": []
   },
   "outputs": [
    {
     "data": {
      "text/html": [
       "<div>\n",
       "<style scoped>\n",
       "    .dataframe tbody tr th:only-of-type {\n",
       "        vertical-align: middle;\n",
       "    }\n",
       "\n",
       "    .dataframe tbody tr th {\n",
       "        vertical-align: top;\n",
       "    }\n",
       "\n",
       "    .dataframe thead th {\n",
       "        text-align: right;\n",
       "    }\n",
       "</style>\n",
       "<table border=\"1\" class=\"dataframe\">\n",
       "  <thead>\n",
       "    <tr style=\"text-align: right;\">\n",
       "      <th></th>\n",
       "      <th>HomePlanet</th>\n",
       "      <th>CryoSleep</th>\n",
       "      <th>Destination</th>\n",
       "      <th>Age</th>\n",
       "      <th>VIP</th>\n",
       "      <th>RoomService</th>\n",
       "      <th>FoodCourt</th>\n",
       "      <th>ShoppingMall</th>\n",
       "      <th>Spa</th>\n",
       "      <th>VRDeck</th>\n",
       "    </tr>\n",
       "  </thead>\n",
       "  <tbody>\n",
       "    <tr>\n",
       "      <th>1454</th>\n",
       "      <td>1</td>\n",
       "      <td>3</td>\n",
       "      <td>3</td>\n",
       "      <td>32.0</td>\n",
       "      <td>1</td>\n",
       "      <td>54.0</td>\n",
       "      <td>3782.0</td>\n",
       "      <td>0.0</td>\n",
       "      <td>21.0</td>\n",
       "      <td>5.0</td>\n",
       "    </tr>\n",
       "    <tr>\n",
       "      <th>218</th>\n",
       "      <td>2</td>\n",
       "      <td>2</td>\n",
       "      <td>2</td>\n",
       "      <td>27.0</td>\n",
       "      <td>1</td>\n",
       "      <td>0.0</td>\n",
       "      <td>0.0</td>\n",
       "      <td>0.0</td>\n",
       "      <td>0.0</td>\n",
       "      <td>0.0</td>\n",
       "    </tr>\n",
       "    <tr>\n",
       "      <th>7866</th>\n",
       "      <td>2</td>\n",
       "      <td>1</td>\n",
       "      <td>2</td>\n",
       "      <td>24.0</td>\n",
       "      <td>1</td>\n",
       "      <td>86.0</td>\n",
       "      <td>669.0</td>\n",
       "      <td>1.0</td>\n",
       "      <td>0.0</td>\n",
       "      <td>0.0</td>\n",
       "    </tr>\n",
       "    <tr>\n",
       "      <th>7622</th>\n",
       "      <td>2</td>\n",
       "      <td>2</td>\n",
       "      <td>1</td>\n",
       "      <td>38.0</td>\n",
       "      <td>1</td>\n",
       "      <td>0.0</td>\n",
       "      <td>0.0</td>\n",
       "      <td>0.0</td>\n",
       "      <td>0.0</td>\n",
       "      <td>0.0</td>\n",
       "    </tr>\n",
       "    <tr>\n",
       "      <th>4108</th>\n",
       "      <td>3</td>\n",
       "      <td>1</td>\n",
       "      <td>2</td>\n",
       "      <td>32.0</td>\n",
       "      <td>1</td>\n",
       "      <td>192.0</td>\n",
       "      <td>0.0</td>\n",
       "      <td>441.0</td>\n",
       "      <td>18.0</td>\n",
       "      <td>0.0</td>\n",
       "    </tr>\n",
       "    <tr>\n",
       "      <th>...</th>\n",
       "      <td>...</td>\n",
       "      <td>...</td>\n",
       "      <td>...</td>\n",
       "      <td>...</td>\n",
       "      <td>...</td>\n",
       "      <td>...</td>\n",
       "      <td>...</td>\n",
       "      <td>...</td>\n",
       "      <td>...</td>\n",
       "      <td>...</td>\n",
       "    </tr>\n",
       "    <tr>\n",
       "      <th>1930</th>\n",
       "      <td>2</td>\n",
       "      <td>1</td>\n",
       "      <td>1</td>\n",
       "      <td>13.0</td>\n",
       "      <td>1</td>\n",
       "      <td>12.0</td>\n",
       "      <td>0.0</td>\n",
       "      <td>0.0</td>\n",
       "      <td>0.0</td>\n",
       "      <td>1963.0</td>\n",
       "    </tr>\n",
       "    <tr>\n",
       "      <th>7620</th>\n",
       "      <td>2</td>\n",
       "      <td>1</td>\n",
       "      <td>1</td>\n",
       "      <td>25.0</td>\n",
       "      <td>1</td>\n",
       "      <td>11.0</td>\n",
       "      <td>780.0</td>\n",
       "      <td>0.0</td>\n",
       "      <td>0.0</td>\n",
       "      <td>0.0</td>\n",
       "    </tr>\n",
       "    <tr>\n",
       "      <th>7503</th>\n",
       "      <td>3</td>\n",
       "      <td>2</td>\n",
       "      <td>1</td>\n",
       "      <td>29.0</td>\n",
       "      <td>1</td>\n",
       "      <td>0.0</td>\n",
       "      <td>0.0</td>\n",
       "      <td>0.0</td>\n",
       "      <td>0.0</td>\n",
       "      <td>0.0</td>\n",
       "    </tr>\n",
       "    <tr>\n",
       "      <th>6323</th>\n",
       "      <td>2</td>\n",
       "      <td>2</td>\n",
       "      <td>2</td>\n",
       "      <td>32.0</td>\n",
       "      <td>1</td>\n",
       "      <td>0.0</td>\n",
       "      <td>0.0</td>\n",
       "      <td>0.0</td>\n",
       "      <td>0.0</td>\n",
       "      <td>0.0</td>\n",
       "    </tr>\n",
       "    <tr>\n",
       "      <th>4204</th>\n",
       "      <td>2</td>\n",
       "      <td>1</td>\n",
       "      <td>1</td>\n",
       "      <td>9.0</td>\n",
       "      <td>1</td>\n",
       "      <td>0.0</td>\n",
       "      <td>0.0</td>\n",
       "      <td>0.0</td>\n",
       "      <td>0.0</td>\n",
       "      <td>0.0</td>\n",
       "    </tr>\n",
       "  </tbody>\n",
       "</table>\n",
       "<p>2608 rows × 10 columns</p>\n",
       "</div>"
      ],
      "text/plain": [
       "      HomePlanet  CryoSleep  Destination   Age  VIP  RoomService  FoodCourt  \\\n",
       "1454           1          3            3  32.0    1         54.0     3782.0   \n",
       "218            2          2            2  27.0    1          0.0        0.0   \n",
       "7866           2          1            2  24.0    1         86.0      669.0   \n",
       "7622           2          2            1  38.0    1          0.0        0.0   \n",
       "4108           3          1            2  32.0    1        192.0        0.0   \n",
       "...          ...        ...          ...   ...  ...          ...        ...   \n",
       "1930           2          1            1  13.0    1         12.0        0.0   \n",
       "7620           2          1            1  25.0    1         11.0      780.0   \n",
       "7503           3          2            1  29.0    1          0.0        0.0   \n",
       "6323           2          2            2  32.0    1          0.0        0.0   \n",
       "4204           2          1            1   9.0    1          0.0        0.0   \n",
       "\n",
       "      ShoppingMall   Spa  VRDeck  \n",
       "1454           0.0  21.0     5.0  \n",
       "218            0.0   0.0     0.0  \n",
       "7866           1.0   0.0     0.0  \n",
       "7622           0.0   0.0     0.0  \n",
       "4108         441.0  18.0     0.0  \n",
       "...            ...   ...     ...  \n",
       "1930           0.0   0.0  1963.0  \n",
       "7620           0.0   0.0     0.0  \n",
       "7503           0.0   0.0     0.0  \n",
       "6323           0.0   0.0     0.0  \n",
       "4204           0.0   0.0     0.0  \n",
       "\n",
       "[2608 rows x 10 columns]"
      ]
     },
     "execution_count": 23,
     "metadata": {},
     "output_type": "execute_result"
    }
   ],
   "source": [
    "x_test"
   ]
  },
  {
   "cell_type": "code",
   "execution_count": 24,
   "id": "a2c7ead9",
   "metadata": {
    "execution": {
     "iopub.execute_input": "2023-04-18T12:05:34.616233Z",
     "iopub.status.busy": "2023-04-18T12:05:34.615747Z",
     "iopub.status.idle": "2023-04-18T12:05:35.075226Z",
     "shell.execute_reply": "2023-04-18T12:05:35.073442Z"
    },
    "papermill": {
     "duration": 0.496729,
     "end_time": "2023-04-18T12:05:35.078794",
     "exception": false,
     "start_time": "2023-04-18T12:05:34.582065",
     "status": "completed"
    },
    "tags": []
   },
   "outputs": [],
   "source": [
    "from sklearn.ensemble import StackingClassifier\n",
    "from sklearn.ensemble import VotingClassifier\n",
    "from sklearn.tree import DecisionTreeClassifier\n",
    "from sklearn.linear_model import LogisticRegression\n",
    "from sklearn.ensemble import RandomForestClassifier\n",
    "from sklearn.neighbors import KNeighborsClassifier\n",
    "from sklearn.model_selection import train_test_split\n",
    "from sklearn import metrics\n",
    "from sklearn.preprocessing import LabelEncoder\n",
    "from sklearn.metrics import confusion_matrix, accuracy_score, classification_report\n",
    "from sklearn.neural_network import MLPClassifier\n",
    "from sklearn.neural_network import MLPRegressor\n",
    "\n",
    "\n",
    "import warnings\n",
    "warnings.filterwarnings(\"ignore\")"
   ]
  },
  {
   "cell_type": "code",
   "execution_count": 25,
   "id": "37336f39",
   "metadata": {
    "execution": {
     "iopub.execute_input": "2023-04-18T12:05:35.147984Z",
     "iopub.status.busy": "2023-04-18T12:05:35.147551Z",
     "iopub.status.idle": "2023-04-18T12:06:40.024933Z",
     "shell.execute_reply": "2023-04-18T12:06:40.022991Z"
    },
    "papermill": {
     "duration": 64.918121,
     "end_time": "2023-04-18T12:06:40.030980",
     "exception": false,
     "start_time": "2023-04-18T12:05:35.112859",
     "status": "completed"
    },
    "tags": []
   },
   "outputs": [
    {
     "name": "stdout",
     "output_type": "stream",
     "text": [
      "Iteration 1, loss = 0.89075889\n",
      "Iteration 2, loss = 0.78277683\n",
      "Iteration 3, loss = 0.70942226\n",
      "Iteration 4, loss = 0.66292065\n",
      "Iteration 5, loss = 0.63166281\n",
      "Iteration 6, loss = 0.60869708\n",
      "Iteration 7, loss = 0.59011707\n",
      "Iteration 8, loss = 0.57501531\n",
      "Iteration 9, loss = 0.56393488\n",
      "Iteration 10, loss = 0.55527337\n",
      "Iteration 11, loss = 0.54842831\n",
      "Iteration 12, loss = 0.54221998\n",
      "Iteration 13, loss = 0.53696868\n",
      "Iteration 14, loss = 0.53258574\n",
      "Iteration 15, loss = 0.52833771\n",
      "Iteration 16, loss = 0.52481499\n",
      "Iteration 17, loss = 0.52102265\n",
      "Iteration 18, loss = 0.51851239\n",
      "Iteration 19, loss = 0.51642733\n",
      "Iteration 20, loss = 0.51467338\n",
      "Iteration 21, loss = 0.51303245\n",
      "Iteration 22, loss = 0.51159422\n",
      "Iteration 23, loss = 0.51030130\n",
      "Iteration 24, loss = 0.50911764\n",
      "Iteration 25, loss = 0.50802133\n",
      "Iteration 26, loss = 0.50700403\n",
      "Iteration 27, loss = 0.50603956\n",
      "Iteration 28, loss = 0.50515738\n",
      "Iteration 29, loss = 0.50437778\n",
      "Iteration 30, loss = 0.50359356\n",
      "Iteration 31, loss = 0.50292459\n",
      "Iteration 32, loss = 0.50226790\n",
      "Iteration 33, loss = 0.50169028\n",
      "Iteration 34, loss = 0.50110006\n",
      "Iteration 35, loss = 0.50066645\n",
      "Iteration 36, loss = 0.50008978\n",
      "Iteration 37, loss = 0.49965159\n",
      "Iteration 38, loss = 0.49915232\n",
      "Iteration 39, loss = 0.49872899\n",
      "Iteration 40, loss = 0.49830817\n",
      "Iteration 41, loss = 0.49790445\n",
      "Iteration 42, loss = 0.49753890\n",
      "Iteration 43, loss = 0.49718051\n",
      "Iteration 44, loss = 0.49694253\n",
      "Iteration 45, loss = 0.49657885\n",
      "Iteration 46, loss = 0.49633602\n",
      "Iteration 47, loss = 0.49602426\n",
      "Iteration 48, loss = 0.49572708\n",
      "Iteration 49, loss = 0.49545859\n",
      "Iteration 50, loss = 0.49521792\n",
      "Iteration 51, loss = 0.49495337\n",
      "Iteration 52, loss = 0.49468384\n",
      "Iteration 53, loss = 0.49449284\n",
      "Iteration 54, loss = 0.49427854\n",
      "Iteration 55, loss = 0.49408811\n",
      "Iteration 56, loss = 0.49397341\n",
      "Iteration 57, loss = 0.49370883\n",
      "Iteration 58, loss = 0.49349020\n",
      "Iteration 59, loss = 0.49333854\n",
      "Iteration 60, loss = 0.49308561\n",
      "Iteration 61, loss = 0.49290667\n",
      "Iteration 62, loss = 0.49275815\n",
      "Iteration 63, loss = 0.49267002\n",
      "Iteration 64, loss = 0.49247290\n",
      "Iteration 65, loss = 0.49227749\n",
      "Iteration 66, loss = 0.49210126\n",
      "Iteration 67, loss = 0.49196334\n",
      "Iteration 68, loss = 0.49173490\n",
      "Iteration 69, loss = 0.49164827\n",
      "Iteration 70, loss = 0.49150252\n",
      "Iteration 71, loss = 0.49136683\n",
      "Iteration 72, loss = 0.49125443\n",
      "Iteration 73, loss = 0.49111152\n",
      "Iteration 74, loss = 0.49094007\n",
      "Iteration 75, loss = 0.49085467\n",
      "Iteration 76, loss = 0.49073483\n",
      "Iteration 77, loss = 0.49068302\n",
      "Iteration 78, loss = 0.49050506\n",
      "Iteration 79, loss = 0.49039166\n",
      "Iteration 80, loss = 0.49040308\n",
      "Iteration 81, loss = 0.49022545\n",
      "Iteration 82, loss = 0.49003333\n",
      "Iteration 83, loss = 0.48999553\n",
      "Iteration 84, loss = 0.48985457\n",
      "Iteration 85, loss = 0.48987252\n",
      "Iteration 86, loss = 0.48967267\n",
      "Iteration 87, loss = 0.48952385\n",
      "Iteration 88, loss = 0.48947033\n",
      "Iteration 89, loss = 0.48939218\n",
      "Iteration 90, loss = 0.48933148\n",
      "Iteration 91, loss = 0.48919986\n",
      "Iteration 92, loss = 0.48916937\n",
      "Iteration 93, loss = 0.48900706\n",
      "Iteration 94, loss = 0.48892834\n",
      "Iteration 95, loss = 0.48881557\n",
      "Iteration 96, loss = 0.48875985\n",
      "Iteration 97, loss = 0.48871268\n",
      "Iteration 98, loss = 0.48855719\n",
      "Iteration 99, loss = 0.48854957\n",
      "Iteration 100, loss = 0.48856474\n",
      "Iteration 101, loss = 0.48838516\n",
      "Iteration 102, loss = 0.48827845\n",
      "Iteration 103, loss = 0.48838897\n",
      "Iteration 104, loss = 0.48826187\n",
      "Iteration 105, loss = 0.48813201\n",
      "Iteration 106, loss = 0.48804832\n",
      "Iteration 107, loss = 0.48796340\n",
      "Iteration 108, loss = 0.48786833\n",
      "Iteration 109, loss = 0.48793430\n",
      "Iteration 110, loss = 0.48758411\n",
      "Iteration 111, loss = 0.48759822\n",
      "Iteration 112, loss = 0.48751874\n",
      "Iteration 113, loss = 0.48743421\n",
      "Iteration 114, loss = 0.48734011\n",
      "Iteration 115, loss = 0.48730485\n",
      "Iteration 116, loss = 0.48723012\n",
      "Iteration 117, loss = 0.48715583\n",
      "Iteration 118, loss = 0.48703167\n",
      "Iteration 119, loss = 0.48702083\n",
      "Iteration 120, loss = 0.48696245\n",
      "Iteration 121, loss = 0.48683275\n",
      "Iteration 122, loss = 0.48684003\n",
      "Iteration 123, loss = 0.48676367\n",
      "Iteration 124, loss = 0.48667202\n",
      "Iteration 125, loss = 0.48656671\n",
      "Iteration 126, loss = 0.48649843\n",
      "Iteration 127, loss = 0.48646789\n",
      "Iteration 128, loss = 0.48640027\n",
      "Iteration 129, loss = 0.48631222\n",
      "Iteration 130, loss = 0.48625001\n",
      "Iteration 131, loss = 0.48618401\n",
      "Iteration 132, loss = 0.48617496\n",
      "Iteration 133, loss = 0.48603127\n",
      "Iteration 134, loss = 0.48602389\n",
      "Iteration 135, loss = 0.48588842\n",
      "Iteration 136, loss = 0.48582415\n",
      "Iteration 137, loss = 0.48582365\n",
      "Iteration 138, loss = 0.48572414\n",
      "Iteration 139, loss = 0.48563413\n",
      "Iteration 140, loss = 0.48566623\n",
      "Iteration 141, loss = 0.48564744\n",
      "Iteration 142, loss = 0.48549013\n",
      "Iteration 143, loss = 0.48550483\n",
      "Iteration 144, loss = 0.48534649\n",
      "Iteration 145, loss = 0.48532139\n",
      "Iteration 146, loss = 0.48529873\n",
      "Iteration 147, loss = 0.48522072\n",
      "Iteration 148, loss = 0.48510621\n",
      "Iteration 149, loss = 0.48509259\n",
      "Iteration 150, loss = 0.48504490\n",
      "Iteration 151, loss = 0.48504265\n",
      "Iteration 152, loss = 0.48495200\n",
      "Iteration 153, loss = 0.48483061\n",
      "Iteration 154, loss = 0.48480885\n",
      "Iteration 155, loss = 0.48479549\n",
      "Iteration 156, loss = 0.48474724\n",
      "Iteration 157, loss = 0.48472901\n",
      "Iteration 158, loss = 0.48470955\n",
      "Iteration 159, loss = 0.48456137\n",
      "Iteration 160, loss = 0.48458042\n",
      "Iteration 161, loss = 0.48450879\n",
      "Iteration 162, loss = 0.48446117\n",
      "Iteration 163, loss = 0.48443125\n",
      "Iteration 164, loss = 0.48430784\n",
      "Iteration 165, loss = 0.48425119\n",
      "Iteration 166, loss = 0.48420490\n",
      "Iteration 167, loss = 0.48417655\n",
      "Iteration 168, loss = 0.48410169\n",
      "Iteration 169, loss = 0.48403799\n",
      "Iteration 170, loss = 0.48403918\n",
      "Iteration 171, loss = 0.48398706\n",
      "Iteration 172, loss = 0.48397532\n",
      "Iteration 173, loss = 0.48397099\n",
      "Iteration 174, loss = 0.48396784\n",
      "Iteration 175, loss = 0.48388783\n",
      "Iteration 176, loss = 0.48381635\n",
      "Iteration 177, loss = 0.48374870\n",
      "Iteration 178, loss = 0.48368165\n",
      "Iteration 179, loss = 0.48374439\n",
      "Iteration 180, loss = 0.48347928\n",
      "Iteration 181, loss = 0.48339794\n",
      "Iteration 182, loss = 0.48361099\n",
      "Iteration 183, loss = 0.48327019\n",
      "Iteration 184, loss = 0.48350714\n",
      "Iteration 185, loss = 0.48331065\n",
      "Iteration 186, loss = 0.48324840\n",
      "Iteration 187, loss = 0.48322161\n",
      "Iteration 188, loss = 0.48325148\n",
      "Iteration 189, loss = 0.48316407\n",
      "Iteration 190, loss = 0.48314591\n",
      "Iteration 191, loss = 0.48303654\n",
      "Iteration 192, loss = 0.48303081\n",
      "Iteration 193, loss = 0.48300016\n",
      "Iteration 194, loss = 0.48296769\n",
      "Iteration 195, loss = 0.48292898\n",
      "Iteration 196, loss = 0.48283132\n",
      "Iteration 197, loss = 0.48276281\n",
      "Iteration 198, loss = 0.48280584\n",
      "Iteration 199, loss = 0.48280591\n",
      "Iteration 200, loss = 0.48272448\n"
     ]
    },
    {
     "data": {
      "text/html": [
       "<style>#sk-container-id-1 {color: black;background-color: white;}#sk-container-id-1 pre{padding: 0;}#sk-container-id-1 div.sk-toggleable {background-color: white;}#sk-container-id-1 label.sk-toggleable__label {cursor: pointer;display: block;width: 100%;margin-bottom: 0;padding: 0.3em;box-sizing: border-box;text-align: center;}#sk-container-id-1 label.sk-toggleable__label-arrow:before {content: \"▸\";float: left;margin-right: 0.25em;color: #696969;}#sk-container-id-1 label.sk-toggleable__label-arrow:hover:before {color: black;}#sk-container-id-1 div.sk-estimator:hover label.sk-toggleable__label-arrow:before {color: black;}#sk-container-id-1 div.sk-toggleable__content {max-height: 0;max-width: 0;overflow: hidden;text-align: left;background-color: #f0f8ff;}#sk-container-id-1 div.sk-toggleable__content pre {margin: 0.2em;color: black;border-radius: 0.25em;background-color: #f0f8ff;}#sk-container-id-1 input.sk-toggleable__control:checked~div.sk-toggleable__content {max-height: 200px;max-width: 100%;overflow: auto;}#sk-container-id-1 input.sk-toggleable__control:checked~label.sk-toggleable__label-arrow:before {content: \"▾\";}#sk-container-id-1 div.sk-estimator input.sk-toggleable__control:checked~label.sk-toggleable__label {background-color: #d4ebff;}#sk-container-id-1 div.sk-label input.sk-toggleable__control:checked~label.sk-toggleable__label {background-color: #d4ebff;}#sk-container-id-1 input.sk-hidden--visually {border: 0;clip: rect(1px 1px 1px 1px);clip: rect(1px, 1px, 1px, 1px);height: 1px;margin: -1px;overflow: hidden;padding: 0;position: absolute;width: 1px;}#sk-container-id-1 div.sk-estimator {font-family: monospace;background-color: #f0f8ff;border: 1px dotted black;border-radius: 0.25em;box-sizing: border-box;margin-bottom: 0.5em;}#sk-container-id-1 div.sk-estimator:hover {background-color: #d4ebff;}#sk-container-id-1 div.sk-parallel-item::after {content: \"\";width: 100%;border-bottom: 1px solid gray;flex-grow: 1;}#sk-container-id-1 div.sk-label:hover label.sk-toggleable__label {background-color: #d4ebff;}#sk-container-id-1 div.sk-serial::before {content: \"\";position: absolute;border-left: 1px solid gray;box-sizing: border-box;top: 0;bottom: 0;left: 50%;z-index: 0;}#sk-container-id-1 div.sk-serial {display: flex;flex-direction: column;align-items: center;background-color: white;padding-right: 0.2em;padding-left: 0.2em;position: relative;}#sk-container-id-1 div.sk-item {position: relative;z-index: 1;}#sk-container-id-1 div.sk-parallel {display: flex;align-items: stretch;justify-content: center;background-color: white;position: relative;}#sk-container-id-1 div.sk-item::before, #sk-container-id-1 div.sk-parallel-item::before {content: \"\";position: absolute;border-left: 1px solid gray;box-sizing: border-box;top: 0;bottom: 0;left: 50%;z-index: -1;}#sk-container-id-1 div.sk-parallel-item {display: flex;flex-direction: column;z-index: 1;position: relative;background-color: white;}#sk-container-id-1 div.sk-parallel-item:first-child::after {align-self: flex-end;width: 50%;}#sk-container-id-1 div.sk-parallel-item:last-child::after {align-self: flex-start;width: 50%;}#sk-container-id-1 div.sk-parallel-item:only-child::after {width: 0;}#sk-container-id-1 div.sk-dashed-wrapped {border: 1px dashed gray;margin: 0 0.4em 0.5em 0.4em;box-sizing: border-box;padding-bottom: 0.4em;background-color: white;}#sk-container-id-1 div.sk-label label {font-family: monospace;font-weight: bold;display: inline-block;line-height: 1.2em;}#sk-container-id-1 div.sk-label-container {text-align: center;}#sk-container-id-1 div.sk-container {/* jupyter's `normalize.less` sets `[hidden] { display: none; }` but bootstrap.min.css set `[hidden] { display: none !important; }` so we also need the `!important` here to be able to override the default hidden behavior on the sphinx rendered scikit-learn.org. See: https://github.com/scikit-learn/scikit-learn/issues/21755 */display: inline-block !important;position: relative;}#sk-container-id-1 div.sk-text-repr-fallback {display: none;}</style><div id=\"sk-container-id-1\" class=\"sk-top-container\"><div class=\"sk-text-repr-fallback\"><pre>MLPClassifier(activation=&#x27;tanh&#x27;, hidden_layer_sizes=(100, 200, 100),\n",
       "              learning_rate=&#x27;adaptive&#x27;, learning_rate_init=5e-05,\n",
       "              random_state=42, solver=&#x27;sgd&#x27;, tol=1e-08, verbose=10)</pre><b>In a Jupyter environment, please rerun this cell to show the HTML representation or trust the notebook. <br />On GitHub, the HTML representation is unable to render, please try loading this page with nbviewer.org.</b></div><div class=\"sk-container\" hidden><div class=\"sk-item\"><div class=\"sk-estimator sk-toggleable\"><input class=\"sk-toggleable__control sk-hidden--visually\" id=\"sk-estimator-id-1\" type=\"checkbox\" checked><label for=\"sk-estimator-id-1\" class=\"sk-toggleable__label sk-toggleable__label-arrow\">MLPClassifier</label><div class=\"sk-toggleable__content\"><pre>MLPClassifier(activation=&#x27;tanh&#x27;, hidden_layer_sizes=(100, 200, 100),\n",
       "              learning_rate=&#x27;adaptive&#x27;, learning_rate_init=5e-05,\n",
       "              random_state=42, solver=&#x27;sgd&#x27;, tol=1e-08, verbose=10)</pre></div></div></div></div></div>"
      ],
      "text/plain": [
       "MLPClassifier(activation='tanh', hidden_layer_sizes=(100, 200, 100),\n",
       "              learning_rate='adaptive', learning_rate_init=5e-05,\n",
       "              random_state=42, solver='sgd', tol=1e-08, verbose=10)"
      ]
     },
     "execution_count": 25,
     "metadata": {},
     "output_type": "execute_result"
    }
   ],
   "source": [
    "# Training the model - Time to fry\n",
    "\n",
    "mlp1 = MLPClassifier(hidden_layer_sizes = (100,200,100), max_iter = 200,\n",
    "                    solver = \"sgd\", verbose = 10, tol = 1e-8, random_state = 42,\n",
    "                    learning_rate_init = .00005, learning_rate = \"adaptive\", activation = \"tanh\")\n",
    "\n",
    "mlp1.fit(x_train, y_train)"
   ]
  },
  {
   "cell_type": "code",
   "execution_count": 26,
   "id": "c787da8e",
   "metadata": {
    "execution": {
     "iopub.execute_input": "2023-04-18T12:06:40.177091Z",
     "iopub.status.busy": "2023-04-18T12:06:40.176687Z",
     "iopub.status.idle": "2023-04-18T12:06:40.435454Z",
     "shell.execute_reply": "2023-04-18T12:06:40.433545Z"
    },
    "papermill": {
     "duration": 0.309683,
     "end_time": "2023-04-18T12:06:40.440667",
     "exception": false,
     "start_time": "2023-04-18T12:06:40.130984",
     "status": "completed"
    },
    "tags": []
   },
   "outputs": [],
   "source": [
    "#Train test predictions\n",
    "\n",
    "y_pred_train2 = mlp1.predict(x_train)\n",
    "y_pred_test2 = mlp1.predict(x_test)"
   ]
  },
  {
   "cell_type": "code",
   "execution_count": 27,
   "id": "32f1d693",
   "metadata": {
    "execution": {
     "iopub.execute_input": "2023-04-18T12:06:40.600799Z",
     "iopub.status.busy": "2023-04-18T12:06:40.600352Z",
     "iopub.status.idle": "2023-04-18T12:06:40.624645Z",
     "shell.execute_reply": "2023-04-18T12:06:40.622903Z"
    },
    "papermill": {
     "duration": 0.07244,
     "end_time": "2023-04-18T12:06:40.627740",
     "exception": false,
     "start_time": "2023-04-18T12:06:40.555300",
     "status": "completed"
    },
    "tags": []
   },
   "outputs": [
    {
     "name": "stdout",
     "output_type": "stream",
     "text": [
      " TRAIN\n",
      "[[2179  845]\n",
      " [ 417 2644]]\n",
      "\n",
      "--------------------------------------------------------------------------------\n",
      "\n",
      "              precision    recall  f1-score   support\n",
      "\n",
      "           0       0.84      0.72      0.78      3024\n",
      "           1       0.76      0.86      0.81      3061\n",
      "\n",
      "    accuracy                           0.79      6085\n",
      "   macro avg       0.80      0.79      0.79      6085\n",
      "weighted avg       0.80      0.79      0.79      6085\n",
      "\n"
     ]
    }
   ],
   "source": [
    "#Training Confusion Matrix\n",
    "print(\" TRAIN\")\n",
    "print(confusion_matrix(y_train, y_pred_train2))\n",
    "print()\n",
    "print(\"--------------------------------------------------------------------------------\")\n",
    "print()\n",
    "print(classification_report(y_train, y_pred_train2))"
   ]
  },
  {
   "cell_type": "code",
   "execution_count": 28,
   "id": "d7e0ecaa",
   "metadata": {
    "execution": {
     "iopub.execute_input": "2023-04-18T12:06:40.717643Z",
     "iopub.status.busy": "2023-04-18T12:06:40.716253Z",
     "iopub.status.idle": "2023-04-18T12:06:40.734685Z",
     "shell.execute_reply": "2023-04-18T12:06:40.732691Z"
    },
    "papermill": {
     "duration": 0.067498,
     "end_time": "2023-04-18T12:06:40.737793",
     "exception": false,
     "start_time": "2023-04-18T12:06:40.670295",
     "status": "completed"
    },
    "tags": []
   },
   "outputs": [
    {
     "name": "stdout",
     "output_type": "stream",
     "text": [
      " TEST\n",
      "[[ 937  354]\n",
      " [ 176 1141]]\n",
      "\n",
      "--------------------------------------------------------------------------------\n",
      "\n",
      "              precision    recall  f1-score   support\n",
      "\n",
      "           0       0.84      0.73      0.78      1291\n",
      "           1       0.76      0.87      0.81      1317\n",
      "\n",
      "    accuracy                           0.80      2608\n",
      "   macro avg       0.80      0.80      0.80      2608\n",
      "weighted avg       0.80      0.80      0.80      2608\n",
      "\n"
     ]
    }
   ],
   "source": [
    "#Test Confusion Matrix\n",
    "\n",
    "print(\" TEST\")\n",
    "print(confusion_matrix(y_test, y_pred_test2))\n",
    "print()\n",
    "print(\"--------------------------------------------------------------------------------\")\n",
    "print()\n",
    "print(classification_report(y_test, y_pred_test2))"
   ]
  },
  {
   "cell_type": "code",
   "execution_count": 29,
   "id": "aae89c52",
   "metadata": {
    "execution": {
     "iopub.execute_input": "2023-04-18T12:06:40.828151Z",
     "iopub.status.busy": "2023-04-18T12:06:40.827133Z",
     "iopub.status.idle": "2023-04-18T12:06:40.837458Z",
     "shell.execute_reply": "2023-04-18T12:06:40.836469Z"
    },
    "papermill": {
     "duration": 0.058766,
     "end_time": "2023-04-18T12:06:40.839786",
     "exception": false,
     "start_time": "2023-04-18T12:06:40.781020",
     "status": "completed"
    },
    "tags": []
   },
   "outputs": [
    {
     "name": "stdout",
     "output_type": "stream",
     "text": [
      "Train\n",
      "Accuracy: 79.26%\n",
      "------------------------------\n",
      "Test\n",
      "Accuracy: 79.68%\n"
     ]
    }
   ],
   "source": [
    "print(\"Train\")\n",
    "print(\"Accuracy: {}%\".format(round(accuracy_score(y_train, y_pred_train2)*100, 2)))\n",
    "print(\"------------------------------\")\n",
    "print(\"Test\")\n",
    "print(\"Accuracy: {}%\".format(round(accuracy_score(y_test, y_pred_test2)*100, 2)))"
   ]
  },
  {
   "cell_type": "code",
   "execution_count": 30,
   "id": "010d2bb9",
   "metadata": {
    "execution": {
     "iopub.execute_input": "2023-04-18T12:06:40.930591Z",
     "iopub.status.busy": "2023-04-18T12:06:40.930057Z",
     "iopub.status.idle": "2023-04-18T12:06:40.937316Z",
     "shell.execute_reply": "2023-04-18T12:06:40.935775Z"
    },
    "papermill": {
     "duration": 0.055996,
     "end_time": "2023-04-18T12:06:40.940429",
     "exception": false,
     "start_time": "2023-04-18T12:06:40.884433",
     "status": "completed"
    },
    "tags": []
   },
   "outputs": [],
   "source": [
    "from sklearn import model_selection\n",
    "from sklearn.model_selection import KFold\n",
    "from sklearn.model_selection import cross_val_score\n",
    "from sklearn.metrics import confusion_matrix, accuracy_score\n",
    "k_fold = KFold(n_splits=10, shuffle=True, random_state=0)"
   ]
  },
  {
   "cell_type": "code",
   "execution_count": 31,
   "id": "bc753c2b",
   "metadata": {
    "execution": {
     "iopub.execute_input": "2023-04-18T12:06:41.035538Z",
     "iopub.status.busy": "2023-04-18T12:06:41.034498Z",
     "iopub.status.idle": "2023-04-18T12:07:26.838385Z",
     "shell.execute_reply": "2023-04-18T12:07:26.837432Z"
    },
    "papermill": {
     "duration": 45.855546,
     "end_time": "2023-04-18T12:07:26.841031",
     "exception": false,
     "start_time": "2023-04-18T12:06:40.985485",
     "status": "completed"
    },
    "tags": []
   },
   "outputs": [
    {
     "name": "stdout",
     "output_type": "stream",
     "text": [
      "k=1 73.05 (+/- 1.31)\n",
      "k=2 72.56 (+/- 1.32)\n",
      "k=3 75.25 (+/- 1.20)\n",
      "k=4 75.20 (+/- 1.04)\n",
      "k=5 76.47 (+/- 1.19)\n",
      "k=6 75.71 (+/- 0.93)\n",
      "k=7 77.03 (+/- 0.62)\n",
      "k=8 76.89 (+/- 1.17)\n",
      "k=9 77.39 (+/- 0.83)\n",
      "k=10 77.49 (+/- 0.52)\n",
      "k=11 77.78 (+/- 0.55)\n",
      "k=12 77.70 (+/- 0.59)\n",
      "k=13 77.45 (+/- 0.58)\n",
      "k=14 77.44 (+/- 0.53)\n",
      "k=15 77.40 (+/- 0.82)\n",
      "k=16 77.57 (+/- 0.83)\n",
      "k=17 77.86 (+/- 0.62)\n",
      "k=18 77.55 (+/- 0.96)\n",
      "k=19 77.68 (+/- 1.07)\n",
      "k=20 77.68 (+/- 0.79)\n",
      "k=21 78.06 (+/- 1.09)\n",
      "k=22 78.09 (+/- 0.78)\n",
      "k=23 78.34 (+/- 1.00)\n",
      "k=24 78.09 (+/- 0.84)\n",
      "k=25 78.27 (+/- 1.02)\n",
      "k=26 78.29 (+/- 1.11)\n",
      "k=27 78.01 (+/- 0.99)\n",
      "k=28 78.44 (+/- 1.07)\n",
      "k=29 78.32 (+/- 0.99)\n",
      "k=30 78.47 (+/- 1.18)\n",
      "k=31 78.26 (+/- 1.26)\n",
      "k=32 78.14 (+/- 1.15)\n",
      "k=33 78.32 (+/- 1.01)\n",
      "k=34 78.21 (+/- 0.87)\n",
      "k=35 78.26 (+/- 1.05)\n",
      "k=36 78.26 (+/- 0.92)\n",
      "k=37 78.34 (+/- 0.90)\n",
      "k=38 78.27 (+/- 0.86)\n",
      "k=39 78.46 (+/- 0.97)\n",
      "k=40 78.37 (+/- 1.04)\n",
      "The optimal number of neighbors is 29 with 78.5%\n"
     ]
    },
    {
     "data": {
      "image/png": "[encoded data removed]",
      "text/plain": [
       "<Figure size 1200x800 with 1 Axes>"
      ]
     },
     "metadata": {},
     "output_type": "display_data"
    }
   ],
   "source": [
    "from sklearn.neighbors import KNeighborsClassifier\n",
    "\n",
    "#knn = KNeighborsClassifier(n_neighbors = 2, metric = 'euclidean')\n",
    "\n",
    "#Neighbors\n",
    "neighbors = np.arange(0,40)\n",
    "\n",
    "#Create empty list that will hold cv scores\n",
    "cv_scores = []\n",
    "\n",
    "#Perform 10-fold cross validation on training set for odd values of k:\n",
    "for k in neighbors:\n",
    "    k_value = k+1\n",
    "    knn = KNeighborsClassifier(n_neighbors = k_value, weights='uniform', p=2, metric='euclidean')\n",
    "    kfold = model_selection.KFold(n_splits=10, shuffle = True, random_state=123)\n",
    "    scores = model_selection.cross_val_score(knn, x_train, y_train, cv=kfold, scoring='accuracy')\n",
    "    cv_scores.append(scores.mean()*100)\n",
    "    print(\"k=%d %0.2f (+/- %0.2f)\" % (k_value, scores.mean()*100, scores.std()*100))\n",
    "\n",
    "optimal_k = neighbors[cv_scores.index(max(cv_scores))]\n",
    "print (\"The optimal number of neighbors is %d with %0.1f%%\" % (optimal_k, cv_scores[optimal_k]))\n",
    "\n",
    "plt.plot(neighbors, cv_scores)\n",
    "plt.xlabel('Number of Neighbors K')\n",
    "plt.ylabel('Train Accuracy')\n",
    "plt.show()"
   ]
  },
  {
   "cell_type": "code",
   "execution_count": 32,
   "id": "bc750920",
   "metadata": {
    "execution": {
     "iopub.execute_input": "2023-04-18T12:07:26.941549Z",
     "iopub.status.busy": "2023-04-18T12:07:26.940589Z",
     "iopub.status.idle": "2023-04-18T12:07:27.546955Z",
     "shell.execute_reply": "2023-04-18T12:07:27.545319Z"
    },
    "papermill": {
     "duration": 0.660452,
     "end_time": "2023-04-18T12:07:27.550501",
     "exception": false,
     "start_time": "2023-04-18T12:07:26.890049",
     "status": "completed"
    },
    "tags": []
   },
   "outputs": [],
   "source": [
    "from sklearn.neighbors import KNeighborsClassifier\n",
    "knn = KNeighborsClassifier(n_neighbors=29)\n",
    "knn.fit(x_train, y_train)\n",
    "\n",
    "knn_pred_train = knn.predict(x_train)\n",
    "knn_pred_test = knn.predict(x_test)"
   ]
  },
  {
   "cell_type": "code",
   "execution_count": 33,
   "id": "66759e91",
   "metadata": {
    "execution": {
     "iopub.execute_input": "2023-04-18T12:07:27.655374Z",
     "iopub.status.busy": "2023-04-18T12:07:27.654789Z",
     "iopub.status.idle": "2023-04-18T12:07:28.215486Z",
     "shell.execute_reply": "2023-04-18T12:07:28.213708Z"
    },
    "papermill": {
     "duration": 0.61882,
     "end_time": "2023-04-18T12:07:28.218760",
     "exception": false,
     "start_time": "2023-04-18T12:07:27.599940",
     "status": "completed"
    },
    "tags": []
   },
   "outputs": [
    {
     "name": "stdout",
     "output_type": "stream",
     "text": [
      "Cross Validation Score: 78.0\n"
     ]
    }
   ],
   "source": [
    "KNNCV = (cross_val_score(knn, x_train, y_train, cv=k_fold, n_jobs=1, scoring = 'accuracy').mean())\n",
    "\n",
    "print('Cross Validation Score:',round((KNNCV), 2)*100)"
   ]
  },
  {
   "cell_type": "code",
   "execution_count": 34,
   "id": "3bf129f8",
   "metadata": {
    "execution": {
     "iopub.execute_input": "2023-04-18T12:07:28.320983Z",
     "iopub.status.busy": "2023-04-18T12:07:28.320521Z",
     "iopub.status.idle": "2023-04-18T12:07:28.357702Z",
     "shell.execute_reply": "2023-04-18T12:07:28.355878Z"
    },
    "papermill": {
     "duration": 0.090163,
     "end_time": "2023-04-18T12:07:28.360821",
     "exception": false,
     "start_time": "2023-04-18T12:07:28.270658",
     "status": "completed"
    },
    "tags": []
   },
   "outputs": [
    {
     "name": "stdout",
     "output_type": "stream",
     "text": [
      "   TRAIN\n",
      "[[2216  808]\n",
      " [ 462 2599]]\n",
      "\n",
      "--------------------------------------------------------\n",
      "\n",
      "              precision    recall  f1-score   support\n",
      "\n",
      "           0       0.83      0.73      0.78      3024\n",
      "           1       0.76      0.85      0.80      3061\n",
      "\n",
      "    accuracy                           0.79      6085\n",
      "   macro avg       0.80      0.79      0.79      6085\n",
      "weighted avg       0.79      0.79      0.79      6085\n",
      "\n",
      "\n",
      "########################################################\n",
      "\n",
      "   TEST\n",
      "[[ 951  340]\n",
      " [ 188 1129]]\n",
      "\n",
      "--------------------------------------------------------\n",
      "\n",
      "              precision    recall  f1-score   support\n",
      "\n",
      "           0       0.83      0.74      0.78      1291\n",
      "           1       0.77      0.86      0.81      1317\n",
      "\n",
      "    accuracy                           0.80      2608\n",
      "   macro avg       0.80      0.80      0.80      2608\n",
      "weighted avg       0.80      0.80      0.80      2608\n",
      "\n"
     ]
    }
   ],
   "source": [
    "from sklearn.metrics import confusion_matrix, classification_report, accuracy_score\n",
    "\n",
    "print(\"   TRAIN\")\n",
    "print(confusion_matrix(y_train, knn_pred_train))\n",
    "print()\n",
    "print(\"--------------------------------------------------------\")\n",
    "print()\n",
    "print(classification_report(y_train, knn_pred_train))\n",
    "print()\n",
    "print(\"########################################################\")\n",
    "print()\n",
    "print(\"   TEST\")\n",
    "print(confusion_matrix(y_test, knn_pred_test))\n",
    "print()\n",
    "print(\"--------------------------------------------------------\")\n",
    "print()\n",
    "print(classification_report(y_test, knn_pred_test))"
   ]
  },
  {
   "cell_type": "code",
   "execution_count": 35,
   "id": "37077a58",
   "metadata": {
    "execution": {
     "iopub.execute_input": "2023-04-18T12:07:28.462447Z",
     "iopub.status.busy": "2023-04-18T12:07:28.461974Z",
     "iopub.status.idle": "2023-04-18T12:07:28.486490Z",
     "shell.execute_reply": "2023-04-18T12:07:28.484874Z"
    },
    "papermill": {
     "duration": 0.079365,
     "end_time": "2023-04-18T12:07:28.489133",
     "exception": false,
     "start_time": "2023-04-18T12:07:28.409768",
     "status": "completed"
    },
    "tags": []
   },
   "outputs": [
    {
     "data": {
      "text/html": [
       "<style>#sk-container-id-2 {color: black;background-color: white;}#sk-container-id-2 pre{padding: 0;}#sk-container-id-2 div.sk-toggleable {background-color: white;}#sk-container-id-2 label.sk-toggleable__label {cursor: pointer;display: block;width: 100%;margin-bottom: 0;padding: 0.3em;box-sizing: border-box;text-align: center;}#sk-container-id-2 label.sk-toggleable__label-arrow:before {content: \"▸\";float: left;margin-right: 0.25em;color: #696969;}#sk-container-id-2 label.sk-toggleable__label-arrow:hover:before {color: black;}#sk-container-id-2 div.sk-estimator:hover label.sk-toggleable__label-arrow:before {color: black;}#sk-container-id-2 div.sk-toggleable__content {max-height: 0;max-width: 0;overflow: hidden;text-align: left;background-color: #f0f8ff;}#sk-container-id-2 div.sk-toggleable__content pre {margin: 0.2em;color: black;border-radius: 0.25em;background-color: #f0f8ff;}#sk-container-id-2 input.sk-toggleable__control:checked~div.sk-toggleable__content {max-height: 200px;max-width: 100%;overflow: auto;}#sk-container-id-2 input.sk-toggleable__control:checked~label.sk-toggleable__label-arrow:before {content: \"▾\";}#sk-container-id-2 div.sk-estimator input.sk-toggleable__control:checked~label.sk-toggleable__label {background-color: #d4ebff;}#sk-container-id-2 div.sk-label input.sk-toggleable__control:checked~label.sk-toggleable__label {background-color: #d4ebff;}#sk-container-id-2 input.sk-hidden--visually {border: 0;clip: rect(1px 1px 1px 1px);clip: rect(1px, 1px, 1px, 1px);height: 1px;margin: -1px;overflow: hidden;padding: 0;position: absolute;width: 1px;}#sk-container-id-2 div.sk-estimator {font-family: monospace;background-color: #f0f8ff;border: 1px dotted black;border-radius: 0.25em;box-sizing: border-box;margin-bottom: 0.5em;}#sk-container-id-2 div.sk-estimator:hover {background-color: #d4ebff;}#sk-container-id-2 div.sk-parallel-item::after {content: \"\";width: 100%;border-bottom: 1px solid gray;flex-grow: 1;}#sk-container-id-2 div.sk-label:hover label.sk-toggleable__label {background-color: #d4ebff;}#sk-container-id-2 div.sk-serial::before {content: \"\";position: absolute;border-left: 1px solid gray;box-sizing: border-box;top: 0;bottom: 0;left: 50%;z-index: 0;}#sk-container-id-2 div.sk-serial {display: flex;flex-direction: column;align-items: center;background-color: white;padding-right: 0.2em;padding-left: 0.2em;position: relative;}#sk-container-id-2 div.sk-item {position: relative;z-index: 1;}#sk-container-id-2 div.sk-parallel {display: flex;align-items: stretch;justify-content: center;background-color: white;position: relative;}#sk-container-id-2 div.sk-item::before, #sk-container-id-2 div.sk-parallel-item::before {content: \"\";position: absolute;border-left: 1px solid gray;box-sizing: border-box;top: 0;bottom: 0;left: 50%;z-index: -1;}#sk-container-id-2 div.sk-parallel-item {display: flex;flex-direction: column;z-index: 1;position: relative;background-color: white;}#sk-container-id-2 div.sk-parallel-item:first-child::after {align-self: flex-end;width: 50%;}#sk-container-id-2 div.sk-parallel-item:last-child::after {align-self: flex-start;width: 50%;}#sk-container-id-2 div.sk-parallel-item:only-child::after {width: 0;}#sk-container-id-2 div.sk-dashed-wrapped {border: 1px dashed gray;margin: 0 0.4em 0.5em 0.4em;box-sizing: border-box;padding-bottom: 0.4em;background-color: white;}#sk-container-id-2 div.sk-label label {font-family: monospace;font-weight: bold;display: inline-block;line-height: 1.2em;}#sk-container-id-2 div.sk-label-container {text-align: center;}#sk-container-id-2 div.sk-container {/* jupyter's `normalize.less` sets `[hidden] { display: none; }` but bootstrap.min.css set `[hidden] { display: none !important; }` so we also need the `!important` here to be able to override the default hidden behavior on the sphinx rendered scikit-learn.org. See: https://github.com/scikit-learn/scikit-learn/issues/21755 */display: inline-block !important;position: relative;}#sk-container-id-2 div.sk-text-repr-fallback {display: none;}</style><div id=\"sk-container-id-2\" class=\"sk-top-container\"><div class=\"sk-text-repr-fallback\"><pre>DecisionTreeClassifier(max_depth=5)</pre><b>In a Jupyter environment, please rerun this cell to show the HTML representation or trust the notebook. <br />On GitHub, the HTML representation is unable to render, please try loading this page with nbviewer.org.</b></div><div class=\"sk-container\" hidden><div class=\"sk-item\"><div class=\"sk-estimator sk-toggleable\"><input class=\"sk-toggleable__control sk-hidden--visually\" id=\"sk-estimator-id-2\" type=\"checkbox\" checked><label for=\"sk-estimator-id-2\" class=\"sk-toggleable__label sk-toggleable__label-arrow\">DecisionTreeClassifier</label><div class=\"sk-toggleable__content\"><pre>DecisionTreeClassifier(max_depth=5)</pre></div></div></div></div></div>"
      ],
      "text/plain": [
       "DecisionTreeClassifier(max_depth=5)"
      ]
     },
     "execution_count": 35,
     "metadata": {},
     "output_type": "execute_result"
    }
   ],
   "source": [
    "from sklearn.tree import DecisionTreeClassifier\n",
    "\n",
    "mod_arvore1 = DecisionTreeClassifier(criterion = \"gini\", max_depth = 5) #Reducing the tree depth to 5, this will increase the results\n",
    "\n",
    "mod_arvore1.fit(x_train, y_train) "
   ]
  },
  {
   "cell_type": "code",
   "execution_count": 36,
   "id": "1bd1837a",
   "metadata": {
    "execution": {
     "iopub.execute_input": "2023-04-18T12:07:28.590228Z",
     "iopub.status.busy": "2023-04-18T12:07:28.589784Z",
     "iopub.status.idle": "2023-04-18T12:07:28.600294Z",
     "shell.execute_reply": "2023-04-18T12:07:28.598887Z"
    },
    "papermill": {
     "duration": 0.064692,
     "end_time": "2023-04-18T12:07:28.603192",
     "exception": false,
     "start_time": "2023-04-18T12:07:28.538500",
     "status": "completed"
    },
    "tags": []
   },
   "outputs": [],
   "source": [
    "# Test Predictions\n",
    "\n",
    "y_pred_train3 = mod_arvore1.predict(x_train)\n",
    "y_pred_test3 = mod_arvore1.predict(x_test)"
   ]
  },
  {
   "cell_type": "code",
   "execution_count": 37,
   "id": "8eb60b76",
   "metadata": {
    "execution": {
     "iopub.execute_input": "2023-04-18T12:07:28.707281Z",
     "iopub.status.busy": "2023-04-18T12:07:28.706801Z",
     "iopub.status.idle": "2023-04-18T12:07:28.739659Z",
     "shell.execute_reply": "2023-04-18T12:07:28.738088Z"
    },
    "papermill": {
     "duration": 0.088322,
     "end_time": "2023-04-18T12:07:28.742629",
     "exception": false,
     "start_time": "2023-04-18T12:07:28.654307",
     "status": "completed"
    },
    "tags": []
   },
   "outputs": [
    {
     "name": "stdout",
     "output_type": "stream",
     "text": [
      "   TRAIN\n",
      "[[2345  679]\n",
      " [ 636 2425]]\n",
      "\n",
      "--------------------------------------------------------\n",
      "\n",
      "              precision    recall  f1-score   support\n",
      "\n",
      "           0       0.79      0.78      0.78      3024\n",
      "           1       0.78      0.79      0.79      3061\n",
      "\n",
      "    accuracy                           0.78      6085\n",
      "   macro avg       0.78      0.78      0.78      6085\n",
      "weighted avg       0.78      0.78      0.78      6085\n",
      "\n",
      "\n",
      "########################################################\n",
      "\n",
      "   TEST\n",
      "[[ 980  311]\n",
      " [ 269 1048]]\n",
      "\n",
      "--------------------------------------------------------\n",
      "\n",
      "              precision    recall  f1-score   support\n",
      "\n",
      "           0       0.78      0.76      0.77      1291\n",
      "           1       0.77      0.80      0.78      1317\n",
      "\n",
      "    accuracy                           0.78      2608\n",
      "   macro avg       0.78      0.78      0.78      2608\n",
      "weighted avg       0.78      0.78      0.78      2608\n",
      "\n"
     ]
    }
   ],
   "source": [
    "print(\"   TRAIN\")\n",
    "print(confusion_matrix(y_train, y_pred_train3))\n",
    "print()\n",
    "print(\"--------------------------------------------------------\")\n",
    "print()\n",
    "print(classification_report(y_train, y_pred_train3))\n",
    "print()\n",
    "print(\"########################################################\")\n",
    "print()\n",
    "print(\"   TEST\")\n",
    "print(confusion_matrix(y_test, y_pred_test3))\n",
    "print()\n",
    "print(\"--------------------------------------------------------\")\n",
    "print()\n",
    "print(classification_report(y_test, y_pred_test3))"
   ]
  },
  {
   "cell_type": "code",
   "execution_count": 38,
   "id": "0ac8820b",
   "metadata": {
    "execution": {
     "iopub.execute_input": "2023-04-18T12:07:28.846550Z",
     "iopub.status.busy": "2023-04-18T12:07:28.846054Z",
     "iopub.status.idle": "2023-04-18T12:07:28.856044Z",
     "shell.execute_reply": "2023-04-18T12:07:28.854662Z"
    },
    "papermill": {
     "duration": 0.066796,
     "end_time": "2023-04-18T12:07:28.858674",
     "exception": false,
     "start_time": "2023-04-18T12:07:28.791878",
     "status": "completed"
    },
    "tags": []
   },
   "outputs": [
    {
     "name": "stdout",
     "output_type": "stream",
     "text": [
      "Train\n",
      "Accuracy: 78.39%\n",
      "------------------------------\n",
      "Test\n",
      "Accuracy: 77.76%\n"
     ]
    }
   ],
   "source": [
    "print(\"Train\")\n",
    "print(\"Accuracy: {}%\".format(round(accuracy_score(y_train, y_pred_train3)*100, 2)))\n",
    "print(\"------------------------------\")\n",
    "print(\"Test\")\n",
    "print(\"Accuracy: {}%\".format(round(accuracy_score(y_test, y_pred_test3)*100, 2)))"
   ]
  },
  {
   "cell_type": "code",
   "execution_count": 39,
   "id": "6075673e",
   "metadata": {
    "execution": {
     "iopub.execute_input": "2023-04-18T12:07:28.964213Z",
     "iopub.status.busy": "2023-04-18T12:07:28.963765Z",
     "iopub.status.idle": "2023-04-18T12:07:30.794087Z",
     "shell.execute_reply": "2023-04-18T12:07:30.792727Z"
    },
    "papermill": {
     "duration": 1.89001,
     "end_time": "2023-04-18T12:07:30.800522",
     "exception": false,
     "start_time": "2023-04-18T12:07:28.910512",
     "status": "completed"
    },
    "tags": []
   },
   "outputs": [
    {
     "name": "stdout",
     "output_type": "stream",
     "text": [
      "                 Generalized Linear Model Regression Results                  \n",
      "==============================================================================\n",
      "Dep. Variable:            Transported   No. Observations:                 6085\n",
      "Model:                            GLM   Df Residuals:                     6074\n",
      "Model Family:                Binomial   Df Model:                           10\n",
      "Link Function:                  Logit   Scale:                          1.0000\n",
      "Method:                          IRLS   Log-Likelihood:                -2950.0\n",
      "Date:                Tue, 18 Apr 2023   Deviance:                       5900.0\n",
      "Time:                        19:05:45   Pearson chi2:                 9.64e+03\n",
      "No. Iterations:                     7   Pseudo R-squ. (CS):             0.3408\n",
      "Covariance Type:            nonrobust                                         \n",
      "================================================================================\n",
      "                   coef    std err          z      P>|z|      [0.025      0.975]\n",
      "--------------------------------------------------------------------------------\n",
      "const           -0.6779      0.219     -3.099      0.002      -1.107      -0.249\n",
      "HomePlanet      -0.4074      0.058     -7.043      0.000      -0.521      -0.294\n",
      "CryoSleep        1.1986      0.069     17.323      0.000       1.063       1.334\n",
      "Destination      0.2230      0.043      5.239      0.000       0.140       0.306\n",
      "Age             -0.0028      0.002     -1.228      0.220      -0.007       0.002\n",
      "VIP              0.0461      0.102      0.453      0.650      -0.153       0.245\n",
      "RoomService     -0.0012      0.000    -12.208      0.000      -0.001      -0.001\n",
      "FoodCourt        0.0007   4.88e-05     14.297      0.000       0.001       0.001\n",
      "ShoppingMall     0.0005   7.28e-05      7.197      0.000       0.000       0.001\n",
      "Spa             -0.0020      0.000    -15.126      0.000      -0.002      -0.002\n",
      "VRDeck          -0.0017      0.000    -14.769      0.000      -0.002      -0.001\n",
      "================================================================================\n",
      "\n",
      "Parameters:  const          -0.677913\n",
      "HomePlanet     -0.407404\n",
      "CryoSleep       1.198602\n",
      "Destination     0.223014\n",
      "Age            -0.002759\n",
      "VIP             0.046067\n",
      "RoomService    -0.001227\n",
      "FoodCourt       0.000698\n",
      "ShoppingMall    0.000524\n",
      "Spa            -0.002022\n",
      "VRDeck         -0.001716\n",
      "dtype: float64\n",
      "Odds Ratio\n",
      "const           0.507675\n",
      "HomePlanet      0.665375\n",
      "CryoSleep       3.315478\n",
      "Destination     1.249838\n",
      "Age             0.997245\n",
      "VIP             1.047145\n",
      "RoomService     0.998774\n",
      "FoodCourt       1.000698\n",
      "ShoppingMall    1.000524\n",
      "Spa             0.997980\n",
      "VRDeck          0.998285\n",
      "dtype: float64\n"
     ]
    }
   ],
   "source": [
    "from sklearn.preprocessing import LabelEncoder\n",
    "from sklearn.metrics import roc_curve, auc\n",
    "from sklearn.metrics import confusion_matrix\n",
    "from sklearn.model_selection import train_test_split\n",
    "import statsmodels.api as sm\n",
    "\n",
    "\n",
    "x_train_ = sm.add_constant(x_train)\n",
    "x_test_ = sm.add_constant(x_test)\n",
    "\n",
    "reg_log = sm.GLM(y_train, x_train_, family = sm.families.Binomial())\n",
    "reg_log = reg_log.fit()\n",
    "\n",
    "print(reg_log.summary())\n",
    "print()\n",
    "print(\"Parameters: \", reg_log.params)\n",
    "print(\"Odds Ratio\")\n",
    "print(np.exp(reg_log.params))"
   ]
  },
  {
   "cell_type": "code",
   "execution_count": 40,
   "id": "8204e61e",
   "metadata": {
    "execution": {
     "iopub.execute_input": "2023-04-18T12:07:30.962165Z",
     "iopub.status.busy": "2023-04-18T12:07:30.961735Z",
     "iopub.status.idle": "2023-04-18T12:07:30.984670Z",
     "shell.execute_reply": "2023-04-18T12:07:30.983108Z"
    },
    "papermill": {
     "duration": 0.081549,
     "end_time": "2023-04-18T12:07:30.988680",
     "exception": false,
     "start_time": "2023-04-18T12:07:30.907131",
     "status": "completed"
    },
    "tags": []
   },
   "outputs": [
    {
     "name": "stdout",
     "output_type": "stream",
     "text": [
      "AUC - Train: 0.848221\n",
      "Gini - Train:  0.696\n",
      "\n",
      "AUC - Test: 0.847696\n",
      "Gini - Test:  0.695\n",
      "\n"
     ]
    }
   ],
   "source": [
    "#Predict the values \n",
    "y_pred_train = reg_log.predict(x_train_)\n",
    "y_pred_test = reg_log.predict(x_test_)\n",
    "\n",
    "#Calculating the ROC and Gini - Training \n",
    "fpr_train, tpr_train, thresholds_train = roc_curve(y_train, y_pred_train)\n",
    "roc_auc_train = auc(fpr_train, tpr_train)\n",
    "\n",
    "\n",
    "print(\"AUC - Train: %f\" % roc_auc_train)\n",
    "print(\"Gini - Train: \", round(2*roc_auc_train-1,3))\n",
    "print()\n",
    "\n",
    "#Calculating the ROC and Gini - Test \n",
    "fpr_test, tpr_test, thresholds_test = roc_curve(y_test, y_pred_test)\n",
    "roc_auc_test = auc(fpr_test, tpr_test)\n",
    "\n",
    "print(\"AUC - Test: %f\" % roc_auc_test)\n",
    "print(\"Gini - Test: \", round(2*roc_auc_test-1,3))\n",
    "print()"
   ]
  },
  {
   "cell_type": "code",
   "execution_count": 41,
   "id": "6a66ff1e",
   "metadata": {
    "execution": {
     "iopub.execute_input": "2023-04-18T12:07:31.160484Z",
     "iopub.status.busy": "2023-04-18T12:07:31.160027Z",
     "iopub.status.idle": "2023-04-18T12:07:31.180315Z",
     "shell.execute_reply": "2023-04-18T12:07:31.178606Z"
    },
    "papermill": {
     "duration": 0.076757,
     "end_time": "2023-04-18T12:07:31.183569",
     "exception": false,
     "start_time": "2023-04-18T12:07:31.106812",
     "status": "completed"
    },
    "tags": []
   },
   "outputs": [
    {
     "name": "stdout",
     "output_type": "stream",
     "text": [
      "       fpr    tpr  1-fpr   tf  thresholds\n",
      "824  0.218  0.782  0.782  0.0        0.57\n",
      "\n",
      "Optimal cutting point : Thresholds\n"
     ]
    }
   ],
   "source": [
    "# The point where the True Positive Rate and the False Positive Rate cross\n",
    "# Where the TPR is high and the FPR is low \n",
    "\n",
    "i = np.arange(len(tpr_train))\n",
    "roc_train = pd.DataFrame({\"fpr\" : pd.Series(fpr_train, index=i)\n",
    "                         ,\"tpr\" : pd.Series(tpr_train, index=i)\n",
    "                         ,\"1-fpr\" : pd.Series(1-fpr_train, index=i)\n",
    "                         ,\"tf\" : pd.Series(tpr_train - (1-fpr_train), index=i)\n",
    "                         ,\"thresholds\" : pd.Series(thresholds_train, index=i)})\n",
    "\n",
    "print(round(roc_train.loc[(roc_train.tf-0).abs().argsort()[:1]],3))\n",
    "print()\n",
    "print(\"Optimal cutting point : Thresholds\")"
   ]
  },
  {
   "cell_type": "code",
   "execution_count": 42,
   "id": "a2093c40",
   "metadata": {
    "execution": {
     "iopub.execute_input": "2023-04-18T12:07:31.288094Z",
     "iopub.status.busy": "2023-04-18T12:07:31.287664Z",
     "iopub.status.idle": "2023-04-18T12:07:31.656830Z",
     "shell.execute_reply": "2023-04-18T12:07:31.655568Z"
    },
    "papermill": {
     "duration": 0.423608,
     "end_time": "2023-04-18T12:07:31.659444",
     "exception": false,
     "start_time": "2023-04-18T12:07:31.235836",
     "status": "completed"
    },
    "tags": []
   },
   "outputs": [
    {
     "data": {
      "image/png": "[encoded data removed]",
      "text/plain": [
       "<Figure size 1500x1000 with 1 Axes>"
      ]
     },
     "metadata": {},
     "output_type": "display_data"
    }
   ],
   "source": [
    "#Plotting ROC(AUC) - Train\n",
    "\n",
    "fig, ax = plt.subplots()\n",
    "plt.plot(roc_train[\"tpr\"])\n",
    "plt.plot(roc_train[\"1-fpr\"], color = \"red\")\n",
    "plt.xlabel(\"False Positive Rate\")\n",
    "plt.ylabel(\"True Positive Rate\")\n",
    "plt.title(\"ROC - Receiver operating characteristic\")\n",
    "ax.set_xticklabels([]);\n",
    "plt.gcf().set_size_inches(15, 10)"
   ]
  },
  {
   "cell_type": "code",
   "execution_count": 43,
   "id": "f846e071",
   "metadata": {
    "execution": {
     "iopub.execute_input": "2023-04-18T12:07:31.768351Z",
     "iopub.status.busy": "2023-04-18T12:07:31.767428Z",
     "iopub.status.idle": "2023-04-18T12:07:32.072860Z",
     "shell.execute_reply": "2023-04-18T12:07:32.071454Z"
    },
    "papermill": {
     "duration": 0.364659,
     "end_time": "2023-04-18T12:07:32.075996",
     "exception": false,
     "start_time": "2023-04-18T12:07:31.711337",
     "status": "completed"
    },
    "tags": []
   },
   "outputs": [
    {
     "data": {
      "image/png": "[encoded data removed]",
      "text/plain": [
       "<Figure size 1200x800 with 1 Axes>"
      ]
     },
     "metadata": {},
     "output_type": "display_data"
    }
   ],
   "source": [
    "#Adjusting the cutoff \n",
    "\n",
    "cutoff = 0.57\n",
    "\n",
    "plt.hist(y_pred_train)\n",
    "plt.hist(y_pred_test);"
   ]
  },
  {
   "cell_type": "code",
   "execution_count": 44,
   "id": "a3dabecc",
   "metadata": {
    "execution": {
     "iopub.execute_input": "2023-04-18T12:07:32.186217Z",
     "iopub.status.busy": "2023-04-18T12:07:32.184856Z",
     "iopub.status.idle": "2023-04-18T12:07:32.718255Z",
     "shell.execute_reply": "2023-04-18T12:07:32.716975Z"
    },
    "papermill": {
     "duration": 0.590379,
     "end_time": "2023-04-18T12:07:32.721147",
     "exception": false,
     "start_time": "2023-04-18T12:07:32.130768",
     "status": "completed"
    },
    "tags": []
   },
   "outputs": [],
   "source": [
    "#Pre processing for the cmatrix - data must be binary \n",
    "\n",
    "y_pred_train_bin = y_pred_train\n",
    "y_pred_test_bin = y_pred_test\n",
    "\n",
    "#Function to transform all prob from train \n",
    "\n",
    "for score in range(0,len(y_pred_train-1)):\n",
    "    if y_pred_train.iloc[score] >= cutoff:\n",
    "        y_pred_train_bin.iloc[score] = 1\n",
    "    else:\n",
    "        y_pred_train_bin.iloc[score] = 0\n",
    "\n",
    "#Function to transform all prob from test \n",
    "\n",
    "for score in range(0,len(y_pred_test-1)):\n",
    "    if y_pred_test.iloc[score] >= cutoff:\n",
    "        y_pred_test_bin.iloc[score] = 1\n",
    "    else:\n",
    "        y_pred_test_bin.iloc[score] = 0"
   ]
  },
  {
   "cell_type": "code",
   "execution_count": 45,
   "id": "fcddf407",
   "metadata": {
    "execution": {
     "iopub.execute_input": "2023-04-18T12:07:32.834284Z",
     "iopub.status.busy": "2023-04-18T12:07:32.833400Z",
     "iopub.status.idle": "2023-04-18T12:07:32.876923Z",
     "shell.execute_reply": "2023-04-18T12:07:32.874003Z"
    },
    "papermill": {
     "duration": 0.105759,
     "end_time": "2023-04-18T12:07:32.881802",
     "exception": false,
     "start_time": "2023-04-18T12:07:32.776043",
     "status": "completed"
    },
    "tags": []
   },
   "outputs": [
    {
     "name": "stdout",
     "output_type": "stream",
     "text": [
      "Train Evaluation\n",
      "[[2365  659]\n",
      " [ 668 2393]]\n",
      "              precision    recall  f1-score   support\n",
      "\n",
      "           0       0.78      0.78      0.78      3024\n",
      "           1       0.78      0.78      0.78      3061\n",
      "\n",
      "    accuracy                           0.78      6085\n",
      "   macro avg       0.78      0.78      0.78      6085\n",
      "weighted avg       0.78      0.78      0.78      6085\n",
      "\n",
      "##############################################\n",
      "\n",
      "Test Evaluation\n",
      "[[1013  278]\n",
      " [ 273 1044]]\n",
      "              precision    recall  f1-score   support\n",
      "\n",
      "           0       0.79      0.78      0.79      1291\n",
      "           1       0.79      0.79      0.79      1317\n",
      "\n",
      "    accuracy                           0.79      2608\n",
      "   macro avg       0.79      0.79      0.79      2608\n",
      "weighted avg       0.79      0.79      0.79      2608\n",
      "\n",
      "##############################################\n"
     ]
    }
   ],
   "source": [
    "from sklearn.metrics import classification_report\n",
    "\n",
    "print(\"Train Evaluation\")\n",
    "print(confusion_matrix(y_train, y_pred_train_bin))\n",
    "print(classification_report(y_train,y_pred_train_bin))\n",
    "print(\"##############################################\")\n",
    "print()\n",
    "print(\"Test Evaluation\")\n",
    "print(confusion_matrix(y_test, y_pred_test_bin))\n",
    "print(classification_report(y_test,y_pred_test_bin))\n",
    "print(\"##############################################\")"
   ]
  },
  {
   "cell_type": "code",
   "execution_count": 46,
   "id": "c3d4870f",
   "metadata": {
    "execution": {
     "iopub.execute_input": "2023-04-18T12:07:33.015440Z",
     "iopub.status.busy": "2023-04-18T12:07:33.013323Z",
     "iopub.status.idle": "2023-04-18T12:07:33.026167Z",
     "shell.execute_reply": "2023-04-18T12:07:33.024702Z"
    },
    "papermill": {
     "duration": 0.075475,
     "end_time": "2023-04-18T12:07:33.030014",
     "exception": false,
     "start_time": "2023-04-18T12:07:32.954539",
     "status": "completed"
    },
    "tags": []
   },
   "outputs": [
    {
     "name": "stdout",
     "output_type": "stream",
     "text": [
      "Train\n",
      "Accuracy: 78.19%\n",
      "------------------------------\n",
      "Test\n",
      "Accuracy: 78.87%\n"
     ]
    }
   ],
   "source": [
    "print(\"Train\")\n",
    "print(\"Accuracy: {}%\".format(round(accuracy_score(y_train, y_pred_train_bin)*100, 2)))\n",
    "print(\"------------------------------\")\n",
    "print(\"Test\")\n",
    "print(\"Accuracy: {}%\".format(round(accuracy_score(y_test, y_pred_test_bin)*100, 2)))"
   ]
  },
  {
   "cell_type": "code",
   "execution_count": 47,
   "id": "116ff572",
   "metadata": {
    "execution": {
     "iopub.execute_input": "2023-04-18T12:07:33.165497Z",
     "iopub.status.busy": "2023-04-18T12:07:33.164380Z",
     "iopub.status.idle": "2023-04-18T12:07:33.171479Z",
     "shell.execute_reply": "2023-04-18T12:07:33.169925Z"
    },
    "papermill": {
     "duration": 0.072817,
     "end_time": "2023-04-18T12:07:33.174981",
     "exception": false,
     "start_time": "2023-04-18T12:07:33.102164",
     "status": "completed"
    },
    "tags": []
   },
   "outputs": [],
   "source": [
    "##############################################\n",
    "#ENSEMBLE MODEL \n",
    "##############################################"
   ]
  },
  {
   "cell_type": "code",
   "execution_count": 48,
   "id": "aca57993",
   "metadata": {
    "execution": {
     "iopub.execute_input": "2023-04-18T12:07:33.295428Z",
     "iopub.status.busy": "2023-04-18T12:07:33.294942Z",
     "iopub.status.idle": "2023-04-18T12:07:33.303633Z",
     "shell.execute_reply": "2023-04-18T12:07:33.301946Z"
    },
    "papermill": {
     "duration": 0.074305,
     "end_time": "2023-04-18T12:07:33.307108",
     "exception": false,
     "start_time": "2023-04-18T12:07:33.232803",
     "status": "completed"
    },
    "tags": []
   },
   "outputs": [],
   "source": [
    "from sklearn.ensemble import StackingClassifier\n",
    "from sklearn.ensemble import VotingClassifier\n",
    "from sklearn.tree import DecisionTreeClassifier\n",
    "from sklearn.linear_model import LogisticRegression\n",
    "from sklearn.ensemble import RandomForestClassifier\n",
    "from sklearn.neighbors import KNeighborsClassifier\n",
    "from sklearn.model_selection import train_test_split\n",
    "from sklearn import metrics\n",
    "from sklearn.preprocessing import LabelEncoder\n",
    "from sklearn.metrics import confusion_matrix, accuracy_score, classification_report"
   ]
  },
  {
   "cell_type": "code",
   "execution_count": 49,
   "id": "9d37766f",
   "metadata": {
    "execution": {
     "iopub.execute_input": "2023-04-18T12:07:33.419259Z",
     "iopub.status.busy": "2023-04-18T12:07:33.418762Z",
     "iopub.status.idle": "2023-04-18T12:07:49.093219Z",
     "shell.execute_reply": "2023-04-18T12:07:49.091349Z"
    },
    "papermill": {
     "duration": 15.735363,
     "end_time": "2023-04-18T12:07:49.100047",
     "exception": false,
     "start_time": "2023-04-18T12:07:33.364684",
     "status": "completed"
    },
    "tags": []
   },
   "outputs": [
    {
     "name": "stdout",
     "output_type": "stream",
     "text": [
      "Mod1:     80.48\n",
      "Mod2:     77.8\n",
      "Mod3:     77.76\n",
      "Hard Voting: 80.64\n",
      "Soft Voting: 80.71\n",
      "Stacking: 80.52\n",
      "Stacking - passthrough: 80.18\n"
     ]
    }
   ],
   "source": [
    "#Creating multiple models to train\n",
    "\n",
    "models = [\n",
    "                (\"Emod1\", XGBClassifier(objective = \"binary:logistic\"\n",
    "                        , n_estimators = 200\n",
    "                        , seed = 1\n",
    "                        , colsample_bytree = 0.5\n",
    "                        , learning_rate = 0.2 \n",
    "                        , max_depth = 3\n",
    "                        , subsample = 0.8\n",
    "                        , eta = 0.01\n",
    "                        , gamma = 1))\n",
    "                , (\"Emod2\", LogisticRegression(random_state = 42))\n",
    "                , (\"Emod3\", DecisionTreeClassifier(criterion = \"gini\", max_depth = 5, random_state = 42))\n",
    "            ]\n",
    "\n",
    "mod1 = XGBClassifier(objective = \"binary:logistic\"\n",
    "                        , n_estimators = 200\n",
    "                        , seed = 1\n",
    "                        , colsample_bytree = 0.5\n",
    "                        , learning_rate = 0.2 \n",
    "                        , max_depth = 3\n",
    "                        , subsample = 0.8\n",
    "                        , eta = 0.01\n",
    "                        , gamma = 1)\n",
    "\n",
    "mod2 = LogisticRegression(random_state = 42)\n",
    "mod3 = DecisionTreeClassifier(criterion = \"gini\", max_depth = 5, random_state = 42)\n",
    "\n",
    "mod1.fit(x_train, y_train) \n",
    "mod2.fit(x_train, y_train) \n",
    "mod3.fit(x_train, y_train) \n",
    "\n",
    "ensemble_hard = VotingClassifier(models, voting = \"hard\")\n",
    "ensemble_soft = VotingClassifier(models, voting = \"soft\")\n",
    "ensemble_stacking = StackingClassifier(models, LogisticRegression(random_state = 42), passthrough = False)\n",
    "ensemble_stacking_pt = StackingClassifier(models, LogisticRegression(random_state = 42), passthrough = True)\n",
    "\n",
    "ensemble_hard.fit(x_train, y_train)\n",
    "ensemble_soft.fit(x_train, y_train)\n",
    "ensemble_stacking.fit(x_train, y_train)\n",
    "ensemble_stacking_pt.fit(x_train, y_train)\n",
    "\n",
    "print(\"Mod1:     {}\".format(round(accuracy_score(y_test,mod1.predict(x_test))*100, 2)))\n",
    "print(\"Mod2:     {}\".format(round(accuracy_score(y_test,mod2.predict(x_test))*100, 2)))\n",
    "print(\"Mod3:     {}\".format(round(accuracy_score(y_test,mod3.predict(x_test))*100, 2)))\n",
    "print(\"Hard Voting: {}\".format(round(accuracy_score(y_test,ensemble_hard.predict(x_test))*100, 2)))\n",
    "print(\"Soft Voting: {}\".format(round(accuracy_score(y_test,ensemble_soft.predict(x_test))*100, 2)))\n",
    "print(\"Stacking: {}\".format(round(accuracy_score(y_test,ensemble_stacking.predict(x_test))*100, 2)))\n",
    "print(\"Stacking - passthrough: {}\".format(round(accuracy_score(y_test,ensemble_stacking_pt.predict(x_test))*100, 2)))"
   ]
  },
  {
   "cell_type": "code",
   "execution_count": 58,
   "id": "a1bcf3aa",
   "metadata": {
    "execution": {
     "iopub.execute_input": "2023-04-18T12:07:49.274780Z",
     "iopub.status.busy": "2023-04-18T12:07:49.274301Z",
     "iopub.status.idle": "2023-04-18T12:07:55.616040Z",
     "shell.execute_reply": "2023-04-18T12:07:55.614014Z"
    },
    "papermill": {
     "duration": 6.403501,
     "end_time": "2023-04-18T12:07:55.622019",
     "exception": false,
     "start_time": "2023-04-18T12:07:49.218518",
     "status": "completed"
    },
    "tags": []
   },
   "outputs": [
    {
     "name": "stdout",
     "output_type": "stream",
     "text": [
      "Stacking - Multi layer: 80.87\n"
     ]
    }
   ],
   "source": [
    "# Stacking Multi layers - 2 Layers\n",
    "\n",
    "# Layers, simulating a neural network \n",
    "layer1 = models\n",
    "layer2 = [\n",
    "                 (\"Emod4\", DecisionTreeClassifier(max_depth = 5, random_state = 42))\n",
    "                ,(\"Emod5\", RandomForestClassifier(n_estimators = 10, random_state = 42))\n",
    "                ,(\"Emod6\", KNeighborsClassifier(n_neighbors = 10))\n",
    "                       ]\n",
    "\n",
    "ensemble_c2 = StackingClassifier(layer2, final_estimator = LogisticRegression(random_state = 42), passthrough = True)\n",
    "ensemble_multi = StackingClassifier(layer1, final_estimator = ensemble_c2, passthrough = False)\n",
    "\n",
    "ensemble_multi.fit(x_train, y_train)\n",
    "\n",
    "print(\"Stacking - Multi layer: {}\".format(round(accuracy_score(y_test,ensemble_multi.predict(x_test))*100, 2)))\n"
   ]
  },
  {
   "cell_type": "code",
   "execution_count": 51,
   "id": "2fff7f7f",
   "metadata": {
    "execution": {
     "iopub.execute_input": "2023-04-18T12:07:55.792059Z",
     "iopub.status.busy": "2023-04-18T12:07:55.791660Z",
     "iopub.status.idle": "2023-04-18T12:08:02.712930Z",
     "shell.execute_reply": "2023-04-18T12:08:02.711469Z"
    },
    "papermill": {
     "duration": 6.9776,
     "end_time": "2023-04-18T12:08:02.717442",
     "exception": false,
     "start_time": "2023-04-18T12:07:55.739842",
     "status": "completed"
    },
    "tags": []
   },
   "outputs": [
    {
     "name": "stdout",
     "output_type": "stream",
     "text": [
      "Stacking - Multi Layer 3:  80.37\n"
     ]
    }
   ],
   "source": [
    "# Using layers, simulating a neural network \n",
    "\n",
    "layer1 = models\n",
    "layer2 = [\n",
    "                 (\"Emod4\", LogisticRegression(random_state = 42))\n",
    "                ,(\"Emod5\", RandomForestClassifier(n_estimators = 5, random_state = 42))\n",
    "                ,(\"Emod6\", KNeighborsClassifier(n_neighbors = 5))\n",
    "                       ]\n",
    "layer3 = [\n",
    "                 (\"Emod7\", LogisticRegression(random_state = 42))\n",
    "                ,(\"Emod8\", KNeighborsClassifier(n_neighbors = 15))\n",
    "                ,(\"Emod9\", KNeighborsClassifier(n_neighbors = 5))\n",
    "                  ]\n",
    "\n",
    "ensemble_c3 = StackingClassifier(layer3, final_estimator = LogisticRegression(random_state = 42), passthrough = True)\n",
    "ensemble_c2 = StackingClassifier(layer2, final_estimator = ensemble_c3, passthrough = True)\n",
    "\n",
    "ensemble_multi3 = StackingClassifier(layer1, final_estimator = ensemble_c2, passthrough = False)\n",
    "\n",
    "ensemble_multi3.fit(x_train, y_train)\n",
    "\n",
    "print(\"Stacking - Multi Layer 3:  {}\".format(round(accuracy_score(y_test,ensemble_multi3.predict(x_test))*100, 2)))"
   ]
  },
  {
   "cell_type": "code",
   "execution_count": 52,
   "id": "4468dbf9",
   "metadata": {
    "execution": {
     "iopub.execute_input": "2023-04-18T12:08:02.895952Z",
     "iopub.status.busy": "2023-04-18T12:08:02.895479Z",
     "iopub.status.idle": "2023-04-18T12:08:06.097686Z",
     "shell.execute_reply": "2023-04-18T12:08:06.096083Z"
    },
    "papermill": {
     "duration": 3.262003,
     "end_time": "2023-04-18T12:08:06.103465",
     "exception": false,
     "start_time": "2023-04-18T12:08:02.841462",
     "status": "completed"
    },
    "tags": []
   },
   "outputs": [
    {
     "name": "stdout",
     "output_type": "stream",
     "text": [
      "Mod1 Train:        82.76\n",
      "Mod1 Test:         80.48\n",
      "Train/Test Ratio:  2.83\n",
      "\n",
      "Mod2 Train:        77.62\n",
      "Mod2 Test:         77.8\n",
      "Train/Test Ratio:  -0.23\n",
      "\n",
      "Mod3 Train:        78.39\n",
      "Mod3 Test:         77.76\n",
      "Train/Test Ratio:  0.81\n",
      "\n",
      "Hard Voting Train: 81.35\n",
      "Hard Voting Test:  80.64\n",
      "Train/Test Ratio:  0.88\n",
      "\n",
      "Soft Voting Train: 81.05\n",
      "Soft Voting Test:  80.71\n",
      "Train/Test Ratio:  0.42\n",
      "\n",
      "Stacking Train:    81.69\n",
      "Stacking Test:     80.52\n",
      "Train/Test Ratio:  1.45\n",
      "\n",
      "Stacking - passthrough Train: 80.46\n",
      "Stacking - passthrough Test:  80.18\n",
      "Train/Test Ratio:  0.35\n",
      "\n",
      "Stacking - Multi Layer  Train: 80.9\n",
      "Stacking - Multi Layer  Test:  80.87\n",
      "Train/Test Ratio:  0.05\n",
      "\n",
      "Stacking - Multi Layer 3 Train: 81.23\n",
      "Stacking - Multi Layer 3 Test:  80.37\n",
      "Train/Test Ratio:  1.08\n"
     ]
    }
   ],
   "source": [
    "#Report with all the results to understand the stability of the models we tested\n",
    "\n",
    "print(\"Mod1 Train:        {}\".format(round(accuracy_score(y_train,mod1.predict(x_train))*100, 2)))\n",
    "print(\"Mod1 Test:         {}\".format(round(accuracy_score(y_test,mod1.predict(x_test))*100, 2)))\n",
    "print(\"Train/Test Ratio:  {}\".format(round(\n",
    "    (accuracy_score(y_train,mod1.predict(x_train))/accuracy_score(y_test,mod1.predict(x_test))-1)*100, 2)))\n",
    "\n",
    "print(\"\")\n",
    "print(\"Mod2 Train:        {}\".format(round(accuracy_score(y_train,mod2.predict(x_train))*100, 2)))\n",
    "print(\"Mod2 Test:         {}\".format(round(accuracy_score(y_test,mod2.predict(x_test))*100, 2)))\n",
    "print(\"Train/Test Ratio:  {}\".format(round(\n",
    "    (accuracy_score(y_train,mod2.predict(x_train))/accuracy_score(y_test,mod2.predict(x_test))-1)*100, 2)))\n",
    "\n",
    "print(\"\")\n",
    "print(\"Mod3 Train:        {}\".format(round(accuracy_score(y_train,mod3.predict(x_train))*100, 2)))\n",
    "print(\"Mod3 Test:         {}\".format(round(accuracy_score(y_test,mod3.predict(x_test))*100, 2)))\n",
    "print(\"Train/Test Ratio:  {}\".format(round(\n",
    "    (accuracy_score(y_train,mod3.predict(x_train))/accuracy_score(y_test,mod3.predict(x_test))-1)*100, 2)))\n",
    "\n",
    "print(\"\")\n",
    "print(\"Hard Voting Train: {}\".format(round(accuracy_score(y_train,ensemble_hard.predict(x_train))*100, 2)))\n",
    "print(\"Hard Voting Test:  {}\".format(round(accuracy_score(y_test,ensemble_hard.predict(x_test))*100, 2)))\n",
    "print(\"Train/Test Ratio:  {}\".format(round(\n",
    "    (accuracy_score(y_train,ensemble_hard.predict(x_train))/accuracy_score(y_test,ensemble_hard.predict(x_test))-1)*100, 2)))\n",
    "\n",
    "print(\"\")\n",
    "print(\"Soft Voting Train: {}\".format(round(accuracy_score(y_train,ensemble_soft.predict(x_train))*100, 2)))\n",
    "print(\"Soft Voting Test:  {}\".format(round(accuracy_score(y_test,ensemble_soft.predict(x_test))*100, 2)))\n",
    "print(\"Train/Test Ratio:  {}\".format(round(\n",
    "    (accuracy_score(y_train,ensemble_soft.predict(x_train))/accuracy_score(y_test,ensemble_soft.predict(x_test))-1)*100, 2)))\n",
    "\n",
    "print(\"\")\n",
    "print(\"Stacking Train:    {}\".format(round(accuracy_score(y_train,ensemble_stacking.predict(x_train))*100, 2)))\n",
    "print(\"Stacking Test:     {}\".format(round(accuracy_score(y_test,ensemble_stacking.predict(x_test))*100, 2)))\n",
    "print(\"Train/Test Ratio:  {}\".format(round(\n",
    "    (accuracy_score(y_train,ensemble_stacking.predict(x_train))/accuracy_score(y_test,ensemble_stacking.predict(x_test))-1)*100, 2)))\n",
    "\n",
    "print(\"\")\n",
    "print(\"Stacking - passthrough Train: {}\".format(round(accuracy_score(y_train,ensemble_stacking_pt.predict(x_train))*100, 2)))\n",
    "print(\"Stacking - passthrough Test:  {}\".format(round(accuracy_score(y_test,ensemble_stacking_pt.predict(x_test))*100, 2)))\n",
    "print(\"Train/Test Ratio:  {}\".format(round(\n",
    "    (accuracy_score(y_train,ensemble_stacking_pt.predict(x_train))/accuracy_score(y_test,ensemble_stacking_pt.predict(x_test))-1)*100, 2)))\n",
    "\n",
    "print(\"\")\n",
    "print(\"Stacking - Multi Layer  Train: {}\".format(round(accuracy_score(y_train,ensemble_multi.predict(x_train))*100, 2)))\n",
    "print(\"Stacking - Multi Layer  Test:  {}\".format(round(accuracy_score(y_test,ensemble_multi.predict(x_test))*100, 2)))\n",
    "print(\"Train/Test Ratio:  {}\".format(round(\n",
    "    (accuracy_score(y_train,ensemble_multi.predict(x_train))/accuracy_score(y_test,ensemble_multi.predict(x_test))-1)*100, 2)))\n",
    "\n",
    "print(\"\")\n",
    "print(\"Stacking - Multi Layer 3 Train: {}\".format(round(accuracy_score(y_train,ensemble_multi3.predict(x_train))*100, 2)))\n",
    "print(\"Stacking - Multi Layer 3 Test:  {}\".format(round(accuracy_score(y_test,ensemble_multi3.predict(x_test))*100, 2)))\n",
    "print(\"Train/Test Ratio:  {}\".format(round(\n",
    "    (accuracy_score(y_train,ensemble_multi3.predict(x_train))/accuracy_score(y_test,ensemble_multi3.predict(x_test))-1)*100, 2)))"
   ]
  },
  {
   "cell_type": "code",
   "execution_count": 74,
   "id": "7d43fdb3",
   "metadata": {
    "execution": {
     "iopub.execute_input": "2023-04-18T12:08:06.284242Z",
     "iopub.status.busy": "2023-04-18T12:08:06.283765Z",
     "iopub.status.idle": "2023-04-18T12:08:22.090168Z",
     "shell.execute_reply": "2023-04-18T12:08:22.084169Z"
    },
    "papermill": {
     "duration": 15.869554,
     "end_time": "2023-04-18T12:08:22.097153",
     "exception": false,
     "start_time": "2023-04-18T12:08:06.227599",
     "status": "completed"
    },
    "tags": []
   },
   "outputs": [
    {
     "name": "stdout",
     "output_type": "stream",
     "text": [
      "Stacking - Hard Train: 81.101\n",
      "Stacking - Hard Test:  80.943\n",
      "Train / Test Ratio:      0.19\n"
     ]
    }
   ],
   "source": [
    "#Pushing model limits, using a voting system using the best models\n",
    "#Picking the most stable and best accuracy models to use\n",
    "\n",
    "voter = [(\"Emod10\", ensemble_soft)\n",
    "        , (\"Emod11\", ensemble_hard)\n",
    "        , (\"Emod12\", ensemble_multi)\n",
    "        ]\n",
    "\n",
    "ensemble_stacking_hard = VotingClassifier(voter, voting = \"hard\")\n",
    "ensemble_stacking_hard.fit(x_train, y_train)\n",
    "\n",
    "print(\"Stacking - Hard Train: {}\".format(round(accuracy_score(y_train,ensemble_stacking_hard.predict(x_train))*100, 3)))\n",
    "print(\"Stacking - Hard Test:  {}\".format(round(accuracy_score(y_test,ensemble_stacking_hard.predict(x_test))*100, 3)))\n",
    "print(\"Train / Test Ratio:      {}\".format(round(\n",
    "    (accuracy_score(y_train,ensemble_stacking_hard.predict(x_train))/accuracy_score(y_test,ensemble_stacking_hard.predict(x_test))-1)*100, 2)))"
   ]
  }
 ],
 "metadata": {
  "kernelspec": {
   "display_name": "Python 3",
   "language": "python",
   "name": "python3"
  },
  "language_info": {
   "codemirror_mode": {
    "name": "ipython",
    "version": 3
   },
   "file_extension": ".py",
   "mimetype": "text/x-python",
   "name": "python",
   "nbconvert_exporter": "python",
   "pygments_lexer": "ipython3",
   "version": "3.8.10"
  },
  "papermill": {
   "default_parameters": {},
   "duration": 190.788955,
   "end_time": "2023-04-18T12:08:23.316938",
   "environment_variables": {},
   "exception": null,
   "input_path": "__notebook__.ipynb",
   "output_path": "__notebook__.ipynb",
   "parameters": {},
   "start_time": "2023-04-18T12:05:12.527983",
   "version": "2.4.0"
  },
  "vscode": {
   "interpreter": {
    "hash": "916dbcbb3f70747c44a77c7bcd40155683ae19c65e1c03b4aa3499c5328201f1"
   }
  }
 },
 "nbformat": 4,
 "nbformat_minor": 5
}
